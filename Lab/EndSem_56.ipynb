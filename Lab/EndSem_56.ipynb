{
 "cells": [
  {
   "cell_type": "markdown",
   "metadata": {},
   "source": [
    "<center> End Semester Lab Exam <center/> \n",
    "<center> Jeevan Koshy <center/> \n",
    "<center> 1740256 <center/>\n",
    "Group 2"
   ]
  },
  {
   "cell_type": "markdown",
   "metadata": {},
   "source": [
    "# Given the transformations, verify whether it is linear or not for a particular vector and also plot the functions\n",
    "## $T: R^{3} -> R^{3}$\n",
    "## $T(a,b,c) = (a+b,a-b,c)$"
   ]
  },
  {
   "cell_type": "code",
   "execution_count": 10,
   "metadata": {
    "collapsed": true
   },
   "outputs": [],
   "source": [
    "import matplotlib.pyplot as plt\n",
    "from mpl_toolkits.mplot3d import Axes3D\n",
    "import numpy as np\n",
    "import math"
   ]
  },
  {
   "cell_type": "code",
   "execution_count": 22,
   "metadata": {},
   "outputs": [
    {
     "name": "stdout",
     "output_type": "stream",
     "text": [
      "The transformation is : (3, -1, 3)\n"
     ]
    },
    {
     "data": {
      "image/png": "[encoded data removed]",
      "text/plain": [
       "<matplotlib.figure.Figure at 0x23a435ceda0>"
      ]
     },
     "metadata": {
      "needs_background": "light"
     },
     "output_type": "display_data"
    }
   ],
   "source": [
    "def trans(x,y,z):\n",
    "    return (x+y,x-y,z)\n",
    "\n",
    "def func(x1,x2,x3):\n",
    "    t = trans(x1,x2,x3)\n",
    "    print(\"The transformation is :\",t)\n",
    "    v1 = [1,2,3]\n",
    "    plt.plot(t)\n",
    "    plt.show()    \n",
    "    \n",
    "func(1,2,3)"
   ]
  },
  {
   "cell_type": "code",
   "execution_count": 24,
   "metadata": {},
   "outputs": [
    {
     "name": "stdout",
     "output_type": "stream",
     "text": [
      "T(v1+v2)= (10, 2, 5)\n",
      "T(v1)+T(v2)= ( 10 , 2 , 10 )\n",
      "It is a linear transformation:\n"
     ]
    }
   ],
   "source": [
    "def transformation(x,y,z):\n",
    "    return(x+y,x-y,z)\n",
    "\n",
    "def check(x1,y1,x2,y2,z):\n",
    "    t=transformation(x1+x2,y1+y2,z)\n",
    "    print(\"T(v1+v2)=\",t)\n",
    "    v1=transformation(x1,y1,z)\n",
    "    v2=transformation(x2,y2,z)\n",
    "    print(\"T(v1)+T(v2)=\",\"(\",v1[0]+v2[0],\",\",v1[1]+v2[1],\",\",v1[2]+v2[2],\")\")\n",
    "    if(t[0]==v1[0]+v2[0] and t[1]==v1[1]+v2[1]):\n",
    "        print(\"It is a linear transformation:\")\n",
    "    else:\n",
    "        print(\"not a linear transformation\")\n",
    "        \n",
    "check(4,1,2,3,5)"
   ]
  }
 ],
 "metadata": {
  "kernelspec": {
   "display_name": "Python 3",
   "language": "python",
   "name": "python3"
  },
  "language_info": {
   "codemirror_mode": {
    "name": "ipython",
    "version": 3
   },
   "file_extension": ".py",
   "mimetype": "text/x-python",
   "name": "python",
   "nbconvert_exporter": "python",
   "pygments_lexer": "ipython3",
   "version": "3.6.8"
  }
 },
 "nbformat": 4,
 "nbformat_minor": 2
}
