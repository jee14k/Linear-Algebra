{
 "cells": [
  {
   "cell_type": "markdown",
   "metadata": {},
   "source": [
    "# <center>LAB RECORD</center>\n",
    "#### <center>MAT551<br><br>1740204</center> \n",
    "***\n",
    "|<center>INDEX</center>|\n",
    "|-----------------------|\n",
    "| <center>1. Revision</center>|\n",
    "|<center>2. Inroduction to Matrices</center>|\n",
    "|<center>3. Solving systems of Linear Equations</center>|\n",
    "|<center>4. Eigen values and Eigen vectors</center>|\n",
    "|<center>5. Linear Combination</center>|\n",
    "|<center>6. Linear Transformations</center>|\n",
    "|<center>7. PageRank Implementation</center>|\n",
    "\n",
    "\n",
    "\n",
    "***\n",
    "\n",
    "\n",
    "## <center>Revision</center> \n"
   ]
  },
  {
   "cell_type": "markdown",
   "metadata": {},
   "source": [
    "### Question 1\n",
    "WAP to print the following patterns :  \n",
    "- X  \n",
    "- Right angled triangle"
   ]
  },
  {
   "cell_type": "code",
   "execution_count": 1,
   "metadata": {},
   "outputs": [
    {
     "name": "stdout",
     "output_type": "stream",
     "text": [
      "*               * \r\n",
      "  *           *   \r\n",
      "    *       *     \r\n",
      "      *   *       \r\n",
      "        *         \r\n",
      "      *   *       \r\n",
      "    *       *     \r\n",
      "  *           *   \r\n",
      "*               * \r\n"
     ]
    }
   ],
   "source": [
    "n=8\n",
    "for i in range(0,n+1):\n",
    "    for j in range(0,n+1):\n",
    "        if((i==j) or j==(n+1-i-1)):\n",
    "            print(\"*\",end=\" \")\n",
    "        else:\n",
    "            print(\" \",end=\" \")\n",
    "    print(\"\\r\")"
   ]
  },
  {
   "cell_type": "code",
   "execution_count": 2,
   "metadata": {},
   "outputs": [
    {
     "name": "stdout",
     "output_type": "stream",
     "text": [
      "                \r\n",
      "*               \r\n",
      "* *             \r\n",
      "* * *           \r\n",
      "* * * *         \r\n",
      "* * * * *       \r\n",
      "* * * * * *     \r\n",
      "* * * * * * *   \r\n"
     ]
    }
   ],
   "source": [
    "for i in range(0,n):\n",
    "    for j in range(0,n):\n",
    "        if(i>j):\n",
    "            print(\"*\",end=\" \")\n",
    "        else:\n",
    "            print(\" \",end=\" \")\n",
    "    print(\"\\r\")"
   ]
  },
  {
   "cell_type": "markdown",
   "metadata": {},
   "source": [
    "***"
   ]
  },
  {
   "cell_type": "markdown",
   "metadata": {},
   "source": [
    "### Question 2\n",
    "WAP to count the number of upper and lowecase letters"
   ]
  },
  {
   "cell_type": "code",
   "execution_count": 37,
   "metadata": {},
   "outputs": [
    {
     "name": "stdout",
     "output_type": "stream",
     "text": [
      "Enter a String :yghFVSgmghhmh\n",
      "Uppercase :  3\n",
      "Lowercase :  10\n"
     ]
    }
   ],
   "source": [
    "s=input(\"Enter a String :\")\n",
    "lower=upper=0\n",
    "for i in s:\n",
    "    if i.isupper():\n",
    "        upper=upper+1\n",
    "    elif i.islower():\n",
    "        lower=lower+1\n",
    "    \n",
    "print(\"Uppercase : \",upper)\n",
    "print(\"Lowercase : \",lower)"
   ]
  },
  {
   "cell_type": "markdown",
   "metadata": {},
   "source": [
    "***"
   ]
  },
  {
   "cell_type": "markdown",
   "metadata": {},
   "source": [
    "### Question 3\n",
    "WAP to convert to convert the months name to its number of days"
   ]
  },
  {
   "cell_type": "code",
   "execution_count": 38,
   "metadata": {},
   "outputs": [
    {
     "name": "stdout",
     "output_type": "stream",
     "text": [
      "Enter the month (Abbreviations) :Mar\n",
      "31\n"
     ]
    }
   ],
   "source": [
    "months={\"jan\":31,\"feb\":\"28/29\",\"mar\":31,\"apr\":30,\"may\":31,\"jun\":30,\"jul\":31,\"aug\":31,\"sept\":30,\"oct\":31,\"nov\":30,\"dec\":31}\n",
    "strmonth=input(\"Enter the month (Abbreviations) :\")\n",
    "print(months[strmonth.lower()])"
   ]
  },
  {
   "cell_type": "markdown",
   "metadata": {},
   "source": [
    "***"
   ]
  },
  {
   "cell_type": "markdown",
   "metadata": {},
   "source": [
    "### Question 4\n",
    "WAP to find the factorial of a number"
   ]
  },
  {
   "cell_type": "code",
   "execution_count": 7,
   "metadata": {},
   "outputs": [
    {
     "name": "stdout",
     "output_type": "stream",
     "text": [
      "Enter a number :6\n",
      "720\n"
     ]
    }
   ],
   "source": [
    "import math\n",
    "num=int(input(\"Enter a number :\"))\n",
    "print(math.factorial(num))"
   ]
  },
  {
   "cell_type": "markdown",
   "metadata": {},
   "source": [
    "***"
   ]
  },
  {
   "cell_type": "markdown",
   "metadata": {},
   "source": [
    "### Question 5\n",
    "WAP to check if a number is a palindrome"
   ]
  },
  {
   "cell_type": "code",
   "execution_count": 39,
   "metadata": {},
   "outputs": [
    {
     "name": "stdout",
     "output_type": "stream",
     "text": [
      "Enter a number :567\n",
      "Not Palindrome\n"
     ]
    }
   ],
   "source": [
    "number=input(\"Enter a number :\")\n",
    "if str(number)[::-1]==number:\n",
    "    print(\"Palindrome\")\n",
    "else:\n",
    "    print(\"Not Palindrome\")"
   ]
  },
  {
   "cell_type": "markdown",
   "metadata": {},
   "source": [
    "***"
   ]
  },
  {
   "cell_type": "markdown",
   "metadata": {},
   "source": [
    "<a id='lab1'></a>\n",
    "## <center>LAB 1<br><br>Introduction to Matrices</center>\n",
    "### <center>Aim</center>\n",
    "<center>To learn the basics of creating matrices and performing operations on them such as finding its inverse, transpose, order and slicing."
   ]
  },
  {
   "cell_type": "markdown",
   "metadata": {},
   "source": [
    "##### Define 2 matrices"
   ]
  },
  {
   "cell_type": "code",
   "execution_count": 40,
   "metadata": {
    "collapsed": true
   },
   "outputs": [],
   "source": [
    "import numpy as np\n",
    "a1=[[1,2,3],[4,5,6],[7,8,9]]\n",
    "b1=[[9,8,7],[6,5,4],[3,2,1]]\n",
    "a=np.array(a1)\n",
    "b=np.array(b1)"
   ]
  },
  {
   "cell_type": "markdown",
   "metadata": {},
   "source": [
    "matrix a :\n",
    "$$\\begin{bmatrix} 1 & 2 & 3 \\\\ 4 & 5 & 6 \\\\ 7 & 8 & 9 \\end{bmatrix}$$\n",
    "\n",
    "matrix b :\n",
    "$$\\begin{bmatrix} 9 & 8 & 7 \\\\ 6 & 5 & 4 \\\\ 3 & 2 & 1 \\end{bmatrix}$$\n",
    "\n"
   ]
  },
  {
   "cell_type": "markdown",
   "metadata": {},
   "source": [
    "##### Find the order of a matrix"
   ]
  },
  {
   "cell_type": "code",
   "execution_count": 11,
   "metadata": {},
   "outputs": [
    {
     "name": "stdout",
     "output_type": "stream",
     "text": [
      "(3, 3)\n",
      "(3, 3)\n"
     ]
    }
   ],
   "source": [
    "print(np.shape(a))\n",
    "print(np.shape(b))"
   ]
  },
  {
   "cell_type": "markdown",
   "metadata": {},
   "source": [
    "##### Perform basic arithmetic operations on a matrix"
   ]
  },
  {
   "cell_type": "code",
   "execution_count": 42,
   "metadata": {},
   "outputs": [
    {
     "data": {
      "text/plain": [
       "array([[2, 4, 0],\n",
       "       [3, 3, 5],\n",
       "       [4, 5, 5]])"
      ]
     },
     "execution_count": 42,
     "metadata": {},
     "output_type": "execute_result"
    }
   ],
   "source": [
    "a+b"
   ]
  },
  {
   "cell_type": "code",
   "execution_count": 43,
   "metadata": {},
   "outputs": [
    {
     "data": {
      "text/plain": [
       "array([[ 0,  0, -2],\n",
       "       [ 1, -1,  3],\n",
       "       [ 2,  1,  3]])"
      ]
     },
     "execution_count": 43,
     "metadata": {},
     "output_type": "execute_result"
    }
   ],
   "source": [
    "a-b"
   ]
  },
  {
   "cell_type": "code",
   "execution_count": 44,
   "metadata": {},
   "outputs": [
    {
     "data": {
      "text/plain": [
       "array([[ 1. ,  1. , -1. ],\n",
       "       [ 2. ,  0.5,  4. ],\n",
       "       [ 3. ,  1.5,  4. ]])"
      ]
     },
     "execution_count": 44,
     "metadata": {},
     "output_type": "execute_result"
    }
   ],
   "source": [
    "a/b"
   ]
  },
  {
   "cell_type": "code",
   "execution_count": 45,
   "metadata": {},
   "outputs": [
    {
     "data": {
      "text/plain": [
       "array([[ 1,  4, -1],\n",
       "       [ 2,  2,  4],\n",
       "       [ 3,  6,  4]])"
      ]
     },
     "execution_count": 45,
     "metadata": {},
     "output_type": "execute_result"
    }
   ],
   "source": [
    "a*b"
   ]
  },
  {
   "cell_type": "code",
   "execution_count": 46,
   "metadata": {},
   "outputs": [
    {
     "data": {
      "text/plain": [
       "array([ 4,  8, 13])"
      ]
     },
     "execution_count": 46,
     "metadata": {},
     "output_type": "execute_result"
    }
   ],
   "source": [
    "a.dot(b)"
   ]
  },
  {
   "cell_type": "markdown",
   "metadata": {},
   "source": [
    "##### Find the transpose of a matrix"
   ]
  },
  {
   "cell_type": "code",
   "execution_count": 47,
   "metadata": {},
   "outputs": [
    {
     "data": {
      "text/plain": [
       "array([[ 1,  2,  3],\n",
       "       [ 2,  1,  3],\n",
       "       [-1,  4,  4]])"
      ]
     },
     "execution_count": 47,
     "metadata": {},
     "output_type": "execute_result"
    }
   ],
   "source": [
    "np.transpose(a)"
   ]
  },
  {
   "cell_type": "markdown",
   "metadata": {},
   "source": [
    "##### Upper and lower triangular part of a matrix"
   ]
  },
  {
   "cell_type": "code",
   "execution_count": 48,
   "metadata": {},
   "outputs": [
    {
     "data": {
      "text/plain": [
       "array([[ 1,  2, -1],\n",
       "       [ 0,  1,  4],\n",
       "       [ 0,  0,  4]])"
      ]
     },
     "execution_count": 48,
     "metadata": {},
     "output_type": "execute_result"
    }
   ],
   "source": [
    "np.triu(a,0)"
   ]
  },
  {
   "cell_type": "code",
   "execution_count": 49,
   "metadata": {},
   "outputs": [
    {
     "data": {
      "text/plain": [
       "array([[1, 0, 0],\n",
       "       [2, 1, 0],\n",
       "       [3, 3, 4]])"
      ]
     },
     "execution_count": 49,
     "metadata": {},
     "output_type": "execute_result"
    }
   ],
   "source": [
    "np.tril(a,0)"
   ]
  },
  {
   "cell_type": "markdown",
   "metadata": {},
   "source": [
    "##### To check whether a matrix is symmetric and skew symmetric or not"
   ]
  },
  {
   "cell_type": "code",
   "execution_count": 50,
   "metadata": {},
   "outputs": [
    {
     "name": "stdout",
     "output_type": "stream",
     "text": [
      "Neither Symmetric nor Skew Symmetric matrix\n"
     ]
    }
   ],
   "source": [
    "a_transpose=a.transpose()\n",
    "\n",
    "if(len(a)!=(a.size/len(a))):\n",
    "    print(\"Not a square matrix\")\n",
    "else:\n",
    "    if(np.array_equal(a,a_transpose)):\n",
    "        print(\"Symmetric Matrix\")\n",
    "    elif(np.array_equal(-a,a_transpose)):\n",
    "        print(\"Skew Symmetrix Matrix\")\n",
    "    else:\n",
    "        print(\"Neither Symmetric nor Skew Symmetric matrix\")"
   ]
  },
  {
   "cell_type": "markdown",
   "metadata": {},
   "source": [
    "##### Solve a system of linear equations using built in functions"
   ]
  },
  {
   "cell_type": "code",
   "execution_count": 2,
   "metadata": {},
   "outputs": [
    {
     "name": "stdout",
     "output_type": "stream",
     "text": [
      "[ 7. -4. -2.]\n"
     ]
    }
   ],
   "source": [
    "import numpy as np\n",
    "a=np.array([[1,2,-1],[2,1,4],[3,3,4]])\n",
    "b=np.array([1,2,1])\n",
    "print(np.linalg.solve(a,b))"
   ]
  },
  {
   "cell_type": "markdown",
   "metadata": {},
   "source": [
    "#### If a matrix is entered, reduce it to its row reduced echelon form"
   ]
  },
  {
   "cell_type": "code",
   "execution_count": 74,
   "metadata": {},
   "outputs": [
    {
     "name": "stdout",
     "output_type": "stream",
     "text": [
      "(Matrix([\n",
      "[1, 0, 0],\n",
      "[0, 1, 0],\n",
      "[0, 0, 1]]), (0, 1, 2))\n"
     ]
    }
   ],
   "source": [
    "import sympy\n",
    "a=sympy.Matrix([[1,2,-1],[2,1,4],[3,3,4]])\n",
    "print(a.rref())"
   ]
  },
  {
   "cell_type": "markdown",
   "metadata": {},
   "source": [
    "#### Find the frequency of each digit in a given integer"
   ]
  },
  {
   "cell_type": "code",
   "execution_count": 75,
   "metadata": {},
   "outputs": [
    {
     "name": "stdout",
     "output_type": "stream",
     "text": [
      "Enter a number :2314213421\n",
      "{'1': 3, '2': 3, '3': 2, '4': 2, '5': 0, '6': 0, '7': 0, '8': 0, '9': 0}\n"
     ]
    }
   ],
   "source": [
    "n=int(input(\"Enter a number :\"))\n",
    "dict1={'1':0,'2':0,'3':0,'4':0,'5':0,'6':0,'7':0,'8':0,'9':0}\n",
    "while n:\n",
    "    digit=n%10\n",
    "    dict1[str(digit)]+=1\n",
    "    n=int(n/10)\n",
    "    \n",
    "print(dict1)"
   ]
  },
  {
   "cell_type": "markdown",
   "metadata": {},
   "source": [
    "### Matrix Slicing\n",
    "\n",
    "matrix m :\n",
    "\n",
    "\n",
    "\n",
    "$$\\begin{bmatrix} 1 & 2 & 3 & 4 & 5 & 6 \\\\ 7 & 8 & 9 &10 & 11 & 12 \\\\ 5 & 7 & 3 & 7 & 3 & 1 \\\\ 7 & 22 & 4 & 8 & 4 & 1 \\\\ 1 & 9 & 11 & 12 & 1 & 3 \\\\ 3 & 4 & 6 & 1 & 15 & 33\\end{bmatrix}$$"
   ]
  },
  {
   "cell_type": "markdown",
   "metadata": {},
   "source": [
    "##### Any 5 elements of the matrix A"
   ]
  },
  {
   "cell_type": "code",
   "execution_count": 53,
   "metadata": {},
   "outputs": [
    {
     "name": "stdout",
     "output_type": "stream",
     "text": [
      "Any 5 elements : [ 7  8  9 10 11]\n"
     ]
    }
   ],
   "source": [
    "m1=[[1,2,3,4,5,6],[7,8,9,10,11,12],[5,7,3,7,3,1],[7,22,4,8,4,1],[1,9,11,12,1,3],[3,4,6,1,15,33]]\n",
    "m=np.array(m1)\n",
    "print(\"Any 5 elements :\",m[1][:5])"
   ]
  },
  {
   "cell_type": "markdown",
   "metadata": {},
   "source": [
    "##### 1st , 3rd ,6 th row of the matrix.\n"
   ]
  },
  {
   "cell_type": "code",
   "execution_count": 54,
   "metadata": {},
   "outputs": [
    {
     "name": "stdout",
     "output_type": "stream",
     "text": [
      "[[ 1  2  3  4  5  6]\n",
      " [ 5  7  3  7  3  1]\n",
      " [ 3  4  6  1 15 33]]\n"
     ]
    }
   ],
   "source": [
    "print(m[[0,2,5]])"
   ]
  },
  {
   "cell_type": "markdown",
   "metadata": {},
   "source": [
    "##### 3rd to 6th row of the matrix"
   ]
  },
  {
   "cell_type": "code",
   "execution_count": 55,
   "metadata": {},
   "outputs": [
    {
     "name": "stdout",
     "output_type": "stream",
     "text": [
      "[[ 5  7  3  7  3  1]\n",
      " [ 7 22  4  8  4  1]\n",
      " [ 1  9 11 12  1  3]\n",
      " [ 3  4  6  1 15 33]]\n"
     ]
    }
   ],
   "source": [
    "print(m[2:])"
   ]
  },
  {
   "cell_type": "markdown",
   "metadata": {},
   "source": [
    "##### 4th and 6th row of the matrix"
   ]
  },
  {
   "cell_type": "code",
   "execution_count": 56,
   "metadata": {},
   "outputs": [
    {
     "name": "stdout",
     "output_type": "stream",
     "text": [
      "[[ 7 22  4  8  4  1]\n",
      " [ 3  4  6  1 15 33]]\n"
     ]
    }
   ],
   "source": [
    "print(m[[3,5]])"
   ]
  },
  {
   "cell_type": "markdown",
   "metadata": {},
   "source": [
    "##### 1st row and all the column of the matrix"
   ]
  },
  {
   "cell_type": "code",
   "execution_count": 57,
   "metadata": {},
   "outputs": [
    {
     "name": "stdout",
     "output_type": "stream",
     "text": [
      "[1 2 3 4 5 6]\n"
     ]
    }
   ],
   "source": [
    "print(m[0][:])"
   ]
  },
  {
   "cell_type": "markdown",
   "metadata": {},
   "source": [
    "##### All the rows and 3rd to 6th column of the matrix"
   ]
  },
  {
   "cell_type": "code",
   "execution_count": 58,
   "metadata": {},
   "outputs": [
    {
     "name": "stdout",
     "output_type": "stream",
     "text": [
      "[[ 3  4  5]\n",
      " [ 9 10 11]\n",
      " [ 3  7  3]\n",
      " [ 4  8  4]\n",
      " [11 12  1]\n",
      " [ 6  1 15]]\n"
     ]
    }
   ],
   "source": [
    "print(m[:,2:5])"
   ]
  },
  {
   "cell_type": "markdown",
   "metadata": {},
   "source": [
    "##### All the rows and second column of the matrix"
   ]
  },
  {
   "cell_type": "code",
   "execution_count": 59,
   "metadata": {},
   "outputs": [
    {
     "name": "stdout",
     "output_type": "stream",
     "text": [
      "[ 2  8  7 22  9  4]\n"
     ]
    }
   ],
   "source": [
    "print(m[:,1])"
   ]
  },
  {
   "cell_type": "markdown",
   "metadata": {},
   "source": [
    "##### 1st , 2nd , 5th column of the matrix"
   ]
  },
  {
   "cell_type": "code",
   "execution_count": 60,
   "metadata": {},
   "outputs": [
    {
     "name": "stdout",
     "output_type": "stream",
     "text": [
      "[[ 1  2  5]\n",
      " [ 7  8 11]\n",
      " [ 5  7  3]\n",
      " [ 7 22  4]\n",
      " [ 1  9  1]\n",
      " [ 3  4 15]]\n"
     ]
    }
   ],
   "source": [
    "print(m[:,[0,1,4]])"
   ]
  },
  {
   "cell_type": "markdown",
   "metadata": {},
   "source": [
    "##### Square root of each element of the matrix"
   ]
  },
  {
   "cell_type": "code",
   "execution_count": 61,
   "metadata": {},
   "outputs": [
    {
     "name": "stdout",
     "output_type": "stream",
     "text": [
      "[[ 1.          1.41421356  1.73205081  2.          2.23606798  2.44948974]\n",
      " [ 2.64575131  2.82842712  3.          3.16227766  3.31662479  3.46410162]\n",
      " [ 2.23606798  2.64575131  1.73205081  2.64575131  1.73205081  1.        ]\n",
      " [ 2.64575131  4.69041576  2.          2.82842712  2.          1.        ]\n",
      " [ 1.          3.          3.31662479  3.46410162  1.          1.73205081]\n",
      " [ 1.73205081  2.          2.44948974  1.          3.87298335  5.74456265]]\n"
     ]
    }
   ],
   "source": [
    "print(np.sqrt(m[:]))"
   ]
  },
  {
   "cell_type": "markdown",
   "metadata": {},
   "source": [
    "##### Row wise summation ,column wise summation"
   ]
  },
  {
   "cell_type": "code",
   "execution_count": 62,
   "metadata": {},
   "outputs": [
    {
     "name": "stdout",
     "output_type": "stream",
     "text": [
      "Row 1 summation : 21\n",
      "Row 2 summation : 57\n",
      "Row 3 summation : 26\n",
      "Row 4 summation : 46\n",
      "Row 5 summation : 37\n",
      "Row 6 summation : 62\n",
      "\n",
      "\n",
      "Column 1 summation : 24\n",
      "Column 2 summation : 52\n",
      "Column 3 summation : 36\n",
      "Column 4 summation : 42\n",
      "Column 5 summation : 39\n",
      "Column 6 summation : 56\n"
     ]
    }
   ],
   "source": [
    "for i in range(len(m)):\n",
    "    print(\"Row\",i+1,\"summation :\",sum(m[i]))\n",
    "print(\"\\n\")\n",
    "for i in range(len(m)):\n",
    "    print(\"Column\",i+1,\"summation :\",sum(m[:,i]))"
   ]
  },
  {
   "cell_type": "markdown",
   "metadata": {},
   "source": [
    "##### Sum of all the elements."
   ]
  },
  {
   "cell_type": "code",
   "execution_count": 63,
   "metadata": {},
   "outputs": [
    {
     "name": "stdout",
     "output_type": "stream",
     "text": [
      "Sum of all elements : 249\n"
     ]
    }
   ],
   "source": [
    "print(\"Sum of all elements :\",np.sum(m))"
   ]
  },
  {
   "cell_type": "markdown",
   "metadata": {},
   "source": [
    "### <center>Conclusion</center>\n",
    "<center>Defining and performing operations were executed. Slicing and extracting matrices were done extensively</center>\n",
    "\n",
    "***"
   ]
  },
  {
   "cell_type": "markdown",
   "metadata": {},
   "source": [
    "<a id='lab2'></a>\n",
    "## <center>LAB 2<br><br>Solving systems of Linear Equations</center>\n",
    "### <center>Aim</center>\n",
    "<center>To solve systems of linear equations using Python, specifically using the numpy linalg.solve function</center>"
   ]
  },
  {
   "cell_type": "markdown",
   "metadata": {},
   "source": [
    "##### Question 1\n",
    "x+y-2z = 1  \n",
    "2x-3y+z = -8  \n",
    "3x+y+4z = 7"
   ]
  },
  {
   "cell_type": "code",
   "execution_count": 64,
   "metadata": {},
   "outputs": [
    {
     "name": "stdout",
     "output_type": "stream",
     "text": [
      "[ -2.96059473e-16   3.00000000e+00   1.00000000e+00]\n"
     ]
    }
   ],
   "source": [
    "a=np.array([[1,1,-2],[2,-3,1],[3,1,4]])\n",
    "b=np.array([1,-8,7])\n",
    "print(np.linalg.solve(a,b))"
   ]
  },
  {
   "cell_type": "markdown",
   "metadata": {},
   "source": [
    "##### Question 2\n",
    "x+2y-z = 1  \n",
    "2x+y+4z = 2  \n",
    "3x+3y+4z = 1"
   ]
  },
  {
   "cell_type": "code",
   "execution_count": 65,
   "metadata": {},
   "outputs": [
    {
     "name": "stdout",
     "output_type": "stream",
     "text": [
      "[ 7. -4. -2.]\n"
     ]
    }
   ],
   "source": [
    "a=np.array([[1,2,-1],[2,1,4],[3,3,4]])\n",
    "b=np.array([1,2,1])\n",
    "print(np.linalg.solve(a,b))"
   ]
  },
  {
   "cell_type": "markdown",
   "metadata": {},
   "source": [
    "##### Question 3\n",
    "x-y+z-s = 2  \n",
    "x-y+z+s = 0  \n",
    "4x-4y+4z = 4  \n",
    "-2x+2y-2z+s = -3  \n",
    "\n",
    "\n",
    "**`This equation cannot be solved(singluar Matrix)`**"
   ]
  },
  {
   "cell_type": "code",
   "execution_count": 66,
   "metadata": {},
   "outputs": [
    {
     "ename": "LinAlgError",
     "evalue": "Singular matrix",
     "output_type": "error",
     "traceback": [
      "\u001b[0;31m---------------------------------------------------------------------------\u001b[0m",
      "\u001b[0;31mLinAlgError\u001b[0m                               Traceback (most recent call last)",
      "\u001b[0;32m<ipython-input-66-4829abab599b>\u001b[0m in \u001b[0;36m<module>\u001b[0;34m()\u001b[0m\n\u001b[1;32m      1\u001b[0m \u001b[0ma\u001b[0m\u001b[0;34m=\u001b[0m\u001b[0mnp\u001b[0m\u001b[0;34m.\u001b[0m\u001b[0marray\u001b[0m\u001b[0;34m(\u001b[0m\u001b[0;34m[\u001b[0m\u001b[0;34m[\u001b[0m\u001b[0;36m1\u001b[0m\u001b[0;34m,\u001b[0m\u001b[0;34m-\u001b[0m\u001b[0;36m1\u001b[0m\u001b[0;34m,\u001b[0m\u001b[0;36m1\u001b[0m\u001b[0;34m,\u001b[0m\u001b[0;34m-\u001b[0m\u001b[0;36m1\u001b[0m\u001b[0;34m]\u001b[0m\u001b[0;34m,\u001b[0m\u001b[0;34m[\u001b[0m\u001b[0;36m1\u001b[0m\u001b[0;34m,\u001b[0m\u001b[0;34m-\u001b[0m\u001b[0;36m1\u001b[0m\u001b[0;34m,\u001b[0m\u001b[0;36m1\u001b[0m\u001b[0;34m,\u001b[0m\u001b[0;36m1\u001b[0m\u001b[0;34m]\u001b[0m\u001b[0;34m,\u001b[0m\u001b[0;34m[\u001b[0m\u001b[0;36m4\u001b[0m\u001b[0;34m,\u001b[0m\u001b[0;34m-\u001b[0m\u001b[0;36m4\u001b[0m\u001b[0;34m,\u001b[0m\u001b[0;36m4\u001b[0m\u001b[0;34m,\u001b[0m\u001b[0;36m0\u001b[0m\u001b[0;34m]\u001b[0m\u001b[0;34m,\u001b[0m\u001b[0;34m[\u001b[0m\u001b[0;34m-\u001b[0m\u001b[0;36m2\u001b[0m\u001b[0;34m,\u001b[0m\u001b[0;36m2\u001b[0m\u001b[0;34m,\u001b[0m\u001b[0;34m-\u001b[0m\u001b[0;36m2\u001b[0m\u001b[0;34m,\u001b[0m\u001b[0;36m1\u001b[0m\u001b[0;34m]\u001b[0m\u001b[0;34m]\u001b[0m\u001b[0;34m)\u001b[0m\u001b[0;34m\u001b[0m\u001b[0m\n\u001b[1;32m      2\u001b[0m \u001b[0mb\u001b[0m\u001b[0;34m=\u001b[0m\u001b[0mnp\u001b[0m\u001b[0;34m.\u001b[0m\u001b[0marray\u001b[0m\u001b[0;34m(\u001b[0m\u001b[0;34m[\u001b[0m\u001b[0;36m2\u001b[0m\u001b[0;34m,\u001b[0m\u001b[0;36m0\u001b[0m\u001b[0;34m,\u001b[0m\u001b[0;36m4\u001b[0m\u001b[0;34m,\u001b[0m\u001b[0;34m-\u001b[0m\u001b[0;36m3\u001b[0m\u001b[0;34m]\u001b[0m\u001b[0;34m)\u001b[0m\u001b[0;34m\u001b[0m\u001b[0m\n\u001b[0;32m----> 3\u001b[0;31m \u001b[0mprint\u001b[0m\u001b[0;34m(\u001b[0m\u001b[0mnp\u001b[0m\u001b[0;34m.\u001b[0m\u001b[0mlinalg\u001b[0m\u001b[0;34m.\u001b[0m\u001b[0msolve\u001b[0m\u001b[0;34m(\u001b[0m\u001b[0ma\u001b[0m\u001b[0;34m,\u001b[0m\u001b[0mb\u001b[0m\u001b[0;34m)\u001b[0m\u001b[0;34m)\u001b[0m\u001b[0;34m\u001b[0m\u001b[0m\n\u001b[0m",
      "\u001b[0;32m/anaconda3/lib/python3.6/site-packages/numpy/linalg/linalg.py\u001b[0m in \u001b[0;36msolve\u001b[0;34m(a, b)\u001b[0m\n\u001b[1;32m    373\u001b[0m     \u001b[0msignature\u001b[0m \u001b[0;34m=\u001b[0m \u001b[0;34m'DD->D'\u001b[0m \u001b[0;32mif\u001b[0m \u001b[0misComplexType\u001b[0m\u001b[0;34m(\u001b[0m\u001b[0mt\u001b[0m\u001b[0;34m)\u001b[0m \u001b[0;32melse\u001b[0m \u001b[0;34m'dd->d'\u001b[0m\u001b[0;34m\u001b[0m\u001b[0m\n\u001b[1;32m    374\u001b[0m     \u001b[0mextobj\u001b[0m \u001b[0;34m=\u001b[0m \u001b[0mget_linalg_error_extobj\u001b[0m\u001b[0;34m(\u001b[0m\u001b[0m_raise_linalgerror_singular\u001b[0m\u001b[0;34m)\u001b[0m\u001b[0;34m\u001b[0m\u001b[0m\n\u001b[0;32m--> 375\u001b[0;31m     \u001b[0mr\u001b[0m \u001b[0;34m=\u001b[0m \u001b[0mgufunc\u001b[0m\u001b[0;34m(\u001b[0m\u001b[0ma\u001b[0m\u001b[0;34m,\u001b[0m \u001b[0mb\u001b[0m\u001b[0;34m,\u001b[0m \u001b[0msignature\u001b[0m\u001b[0;34m=\u001b[0m\u001b[0msignature\u001b[0m\u001b[0;34m,\u001b[0m \u001b[0mextobj\u001b[0m\u001b[0;34m=\u001b[0m\u001b[0mextobj\u001b[0m\u001b[0;34m)\u001b[0m\u001b[0;34m\u001b[0m\u001b[0m\n\u001b[0m\u001b[1;32m    376\u001b[0m \u001b[0;34m\u001b[0m\u001b[0m\n\u001b[1;32m    377\u001b[0m     \u001b[0;32mreturn\u001b[0m \u001b[0mwrap\u001b[0m\u001b[0;34m(\u001b[0m\u001b[0mr\u001b[0m\u001b[0;34m.\u001b[0m\u001b[0mastype\u001b[0m\u001b[0;34m(\u001b[0m\u001b[0mresult_t\u001b[0m\u001b[0;34m,\u001b[0m \u001b[0mcopy\u001b[0m\u001b[0;34m=\u001b[0m\u001b[0;32mFalse\u001b[0m\u001b[0;34m)\u001b[0m\u001b[0;34m)\u001b[0m\u001b[0;34m\u001b[0m\u001b[0m\n",
      "\u001b[0;32m/anaconda3/lib/python3.6/site-packages/numpy/linalg/linalg.py\u001b[0m in \u001b[0;36m_raise_linalgerror_singular\u001b[0;34m(err, flag)\u001b[0m\n\u001b[1;32m     88\u001b[0m \u001b[0;34m\u001b[0m\u001b[0m\n\u001b[1;32m     89\u001b[0m \u001b[0;32mdef\u001b[0m \u001b[0m_raise_linalgerror_singular\u001b[0m\u001b[0;34m(\u001b[0m\u001b[0merr\u001b[0m\u001b[0;34m,\u001b[0m \u001b[0mflag\u001b[0m\u001b[0;34m)\u001b[0m\u001b[0;34m:\u001b[0m\u001b[0;34m\u001b[0m\u001b[0m\n\u001b[0;32m---> 90\u001b[0;31m     \u001b[0;32mraise\u001b[0m \u001b[0mLinAlgError\u001b[0m\u001b[0;34m(\u001b[0m\u001b[0;34m\"Singular matrix\"\u001b[0m\u001b[0;34m)\u001b[0m\u001b[0;34m\u001b[0m\u001b[0m\n\u001b[0m\u001b[1;32m     91\u001b[0m \u001b[0;34m\u001b[0m\u001b[0m\n\u001b[1;32m     92\u001b[0m \u001b[0;32mdef\u001b[0m \u001b[0m_raise_linalgerror_nonposdef\u001b[0m\u001b[0;34m(\u001b[0m\u001b[0merr\u001b[0m\u001b[0;34m,\u001b[0m \u001b[0mflag\u001b[0m\u001b[0;34m)\u001b[0m\u001b[0;34m:\u001b[0m\u001b[0;34m\u001b[0m\u001b[0m\n",
      "\u001b[0;31mLinAlgError\u001b[0m: Singular matrix"
     ]
    }
   ],
   "source": [
    "a=np.array([[1,-1,1,-1],[1,-1,1,1],[4,-4,4,0],[-2,2,-2,1]])\n",
    "b=np.array([2,0,4,-3])\n",
    "print(np.linalg.solve(a,b))"
   ]
  },
  {
   "cell_type": "markdown",
   "metadata": {},
   "source": [
    "##### Question 4\n",
    "2x+y=3  \n",
    "4x+2y=6 \n",
    "\n",
    "**`This equation cannot be solved(singluar matrix)`**"
   ]
  },
  {
   "cell_type": "code",
   "execution_count": 67,
   "metadata": {},
   "outputs": [
    {
     "ename": "LinAlgError",
     "evalue": "Singular matrix",
     "output_type": "error",
     "traceback": [
      "\u001b[0;31m---------------------------------------------------------------------------\u001b[0m",
      "\u001b[0;31mLinAlgError\u001b[0m                               Traceback (most recent call last)",
      "\u001b[0;32m<ipython-input-67-52126f0105a4>\u001b[0m in \u001b[0;36m<module>\u001b[0;34m()\u001b[0m\n\u001b[1;32m      1\u001b[0m \u001b[0ma\u001b[0m\u001b[0;34m=\u001b[0m\u001b[0mnp\u001b[0m\u001b[0;34m.\u001b[0m\u001b[0marray\u001b[0m\u001b[0;34m(\u001b[0m\u001b[0;34m[\u001b[0m\u001b[0;34m[\u001b[0m\u001b[0;36m2\u001b[0m\u001b[0;34m,\u001b[0m\u001b[0;36m1\u001b[0m\u001b[0;34m]\u001b[0m\u001b[0;34m,\u001b[0m\u001b[0;34m[\u001b[0m\u001b[0;36m4\u001b[0m\u001b[0;34m,\u001b[0m\u001b[0;36m2\u001b[0m\u001b[0;34m]\u001b[0m\u001b[0;34m]\u001b[0m\u001b[0;34m)\u001b[0m\u001b[0;34m\u001b[0m\u001b[0m\n\u001b[1;32m      2\u001b[0m \u001b[0mb\u001b[0m\u001b[0;34m=\u001b[0m\u001b[0mnp\u001b[0m\u001b[0;34m.\u001b[0m\u001b[0marray\u001b[0m\u001b[0;34m(\u001b[0m\u001b[0;34m[\u001b[0m\u001b[0;36m3\u001b[0m\u001b[0;34m,\u001b[0m\u001b[0;36m6\u001b[0m\u001b[0;34m]\u001b[0m\u001b[0;34m)\u001b[0m\u001b[0;34m\u001b[0m\u001b[0m\n\u001b[0;32m----> 3\u001b[0;31m \u001b[0mprint\u001b[0m\u001b[0;34m(\u001b[0m\u001b[0mnp\u001b[0m\u001b[0;34m.\u001b[0m\u001b[0mlinalg\u001b[0m\u001b[0;34m.\u001b[0m\u001b[0msolve\u001b[0m\u001b[0;34m(\u001b[0m\u001b[0ma\u001b[0m\u001b[0;34m,\u001b[0m\u001b[0mb\u001b[0m\u001b[0;34m)\u001b[0m\u001b[0;34m)\u001b[0m\u001b[0;34m\u001b[0m\u001b[0m\n\u001b[0m",
      "\u001b[0;32m/anaconda3/lib/python3.6/site-packages/numpy/linalg/linalg.py\u001b[0m in \u001b[0;36msolve\u001b[0;34m(a, b)\u001b[0m\n\u001b[1;32m    373\u001b[0m     \u001b[0msignature\u001b[0m \u001b[0;34m=\u001b[0m \u001b[0;34m'DD->D'\u001b[0m \u001b[0;32mif\u001b[0m \u001b[0misComplexType\u001b[0m\u001b[0;34m(\u001b[0m\u001b[0mt\u001b[0m\u001b[0;34m)\u001b[0m \u001b[0;32melse\u001b[0m \u001b[0;34m'dd->d'\u001b[0m\u001b[0;34m\u001b[0m\u001b[0m\n\u001b[1;32m    374\u001b[0m     \u001b[0mextobj\u001b[0m \u001b[0;34m=\u001b[0m \u001b[0mget_linalg_error_extobj\u001b[0m\u001b[0;34m(\u001b[0m\u001b[0m_raise_linalgerror_singular\u001b[0m\u001b[0;34m)\u001b[0m\u001b[0;34m\u001b[0m\u001b[0m\n\u001b[0;32m--> 375\u001b[0;31m     \u001b[0mr\u001b[0m \u001b[0;34m=\u001b[0m \u001b[0mgufunc\u001b[0m\u001b[0;34m(\u001b[0m\u001b[0ma\u001b[0m\u001b[0;34m,\u001b[0m \u001b[0mb\u001b[0m\u001b[0;34m,\u001b[0m \u001b[0msignature\u001b[0m\u001b[0;34m=\u001b[0m\u001b[0msignature\u001b[0m\u001b[0;34m,\u001b[0m \u001b[0mextobj\u001b[0m\u001b[0;34m=\u001b[0m\u001b[0mextobj\u001b[0m\u001b[0;34m)\u001b[0m\u001b[0;34m\u001b[0m\u001b[0m\n\u001b[0m\u001b[1;32m    376\u001b[0m \u001b[0;34m\u001b[0m\u001b[0m\n\u001b[1;32m    377\u001b[0m     \u001b[0;32mreturn\u001b[0m \u001b[0mwrap\u001b[0m\u001b[0;34m(\u001b[0m\u001b[0mr\u001b[0m\u001b[0;34m.\u001b[0m\u001b[0mastype\u001b[0m\u001b[0;34m(\u001b[0m\u001b[0mresult_t\u001b[0m\u001b[0;34m,\u001b[0m \u001b[0mcopy\u001b[0m\u001b[0;34m=\u001b[0m\u001b[0;32mFalse\u001b[0m\u001b[0;34m)\u001b[0m\u001b[0;34m)\u001b[0m\u001b[0;34m\u001b[0m\u001b[0m\n",
      "\u001b[0;32m/anaconda3/lib/python3.6/site-packages/numpy/linalg/linalg.py\u001b[0m in \u001b[0;36m_raise_linalgerror_singular\u001b[0;34m(err, flag)\u001b[0m\n\u001b[1;32m     88\u001b[0m \u001b[0;34m\u001b[0m\u001b[0m\n\u001b[1;32m     89\u001b[0m \u001b[0;32mdef\u001b[0m \u001b[0m_raise_linalgerror_singular\u001b[0m\u001b[0;34m(\u001b[0m\u001b[0merr\u001b[0m\u001b[0;34m,\u001b[0m \u001b[0mflag\u001b[0m\u001b[0;34m)\u001b[0m\u001b[0;34m:\u001b[0m\u001b[0;34m\u001b[0m\u001b[0m\n\u001b[0;32m---> 90\u001b[0;31m     \u001b[0;32mraise\u001b[0m \u001b[0mLinAlgError\u001b[0m\u001b[0;34m(\u001b[0m\u001b[0;34m\"Singular matrix\"\u001b[0m\u001b[0;34m)\u001b[0m\u001b[0;34m\u001b[0m\u001b[0m\n\u001b[0m\u001b[1;32m     91\u001b[0m \u001b[0;34m\u001b[0m\u001b[0m\n\u001b[1;32m     92\u001b[0m \u001b[0;32mdef\u001b[0m \u001b[0m_raise_linalgerror_nonposdef\u001b[0m\u001b[0;34m(\u001b[0m\u001b[0merr\u001b[0m\u001b[0;34m,\u001b[0m \u001b[0mflag\u001b[0m\u001b[0;34m)\u001b[0m\u001b[0;34m:\u001b[0m\u001b[0;34m\u001b[0m\u001b[0m\n",
      "\u001b[0;31mLinAlgError\u001b[0m: Singular matrix"
     ]
    }
   ],
   "source": [
    "a=np.array([[2,1],[4,2]])\n",
    "b=np.array([3,6])\n",
    "print(np.linalg.solve(a,b))"
   ]
  },
  {
   "cell_type": "markdown",
   "metadata": {},
   "source": [
    "##### Question 5\n",
    "x+2y-z = 1  \n",
    "2x+y+5z = 2  \n",
    "3x+3y+4z = 1"
   ]
  },
  {
   "cell_type": "code",
   "execution_count": 68,
   "metadata": {},
   "outputs": [
    {
     "name": "stdout",
     "output_type": "stream",
     "text": [
      "[ -1.04293886e+16   6.63688366e+15   2.84437871e+15]\n"
     ]
    }
   ],
   "source": [
    "a=np.array([[1,2,-1],[2,1,5],[3,3,4]])\n",
    "b=np.array([1,2,1])\n",
    "print(np.linalg.solve(a,b))"
   ]
  },
  {
   "cell_type": "markdown",
   "metadata": {},
   "source": [
    "##### Question 6\n",
    "2x+y-2z = -3  \n",
    "x-3y+z = 8  \n",
    "4x-y-2z = 3"
   ]
  },
  {
   "cell_type": "code",
   "execution_count": 69,
   "metadata": {},
   "outputs": [
    {
     "name": "stdout",
     "output_type": "stream",
     "text": [
      "[ 2. -1.  3.]\n"
     ]
    }
   ],
   "source": [
    "a=np.array([[2,1,-2],[1,-3,1],[4,-1,-2]])\n",
    "b=np.array([-3,8,3])\n",
    "print(np.linalg.solve(a,b))"
   ]
  },
  {
   "cell_type": "markdown",
   "metadata": {},
   "source": [
    "##### Question 7\n",
    "2x+y=3  \n",
    "2x-y=0  \n",
    "x-2y=4\n",
    "\n",
    "**`Last 2 dimensions of the array should be square`**"
   ]
  },
  {
   "cell_type": "code",
   "execution_count": 70,
   "metadata": {},
   "outputs": [
    {
     "ename": "LinAlgError",
     "evalue": "Last 2 dimensions of the array must be square",
     "output_type": "error",
     "traceback": [
      "\u001b[0;31m---------------------------------------------------------------------------\u001b[0m",
      "\u001b[0;31mLinAlgError\u001b[0m                               Traceback (most recent call last)",
      "\u001b[0;32m<ipython-input-70-6d398252e532>\u001b[0m in \u001b[0;36m<module>\u001b[0;34m()\u001b[0m\n\u001b[1;32m      1\u001b[0m \u001b[0ma\u001b[0m\u001b[0;34m=\u001b[0m\u001b[0mnp\u001b[0m\u001b[0;34m.\u001b[0m\u001b[0marray\u001b[0m\u001b[0;34m(\u001b[0m\u001b[0;34m[\u001b[0m\u001b[0;34m[\u001b[0m\u001b[0;36m2\u001b[0m\u001b[0;34m,\u001b[0m\u001b[0;36m1\u001b[0m\u001b[0;34m]\u001b[0m\u001b[0;34m,\u001b[0m\u001b[0;34m[\u001b[0m\u001b[0;36m2\u001b[0m\u001b[0;34m,\u001b[0m\u001b[0;34m-\u001b[0m\u001b[0;36m1\u001b[0m\u001b[0;34m]\u001b[0m\u001b[0;34m,\u001b[0m\u001b[0;34m[\u001b[0m\u001b[0;36m1\u001b[0m\u001b[0;34m,\u001b[0m\u001b[0;34m-\u001b[0m\u001b[0;36m2\u001b[0m\u001b[0;34m]\u001b[0m\u001b[0;34m]\u001b[0m\u001b[0;34m)\u001b[0m\u001b[0;34m\u001b[0m\u001b[0m\n\u001b[1;32m      2\u001b[0m \u001b[0mb\u001b[0m\u001b[0;34m=\u001b[0m\u001b[0mnp\u001b[0m\u001b[0;34m.\u001b[0m\u001b[0marray\u001b[0m\u001b[0;34m(\u001b[0m\u001b[0;34m[\u001b[0m\u001b[0;36m3\u001b[0m\u001b[0;34m,\u001b[0m\u001b[0;36m0\u001b[0m\u001b[0;34m,\u001b[0m\u001b[0;36m4\u001b[0m\u001b[0;34m]\u001b[0m\u001b[0;34m)\u001b[0m\u001b[0;34m\u001b[0m\u001b[0m\n\u001b[0;32m----> 3\u001b[0;31m \u001b[0mprint\u001b[0m\u001b[0;34m(\u001b[0m\u001b[0mnp\u001b[0m\u001b[0;34m.\u001b[0m\u001b[0mlinalg\u001b[0m\u001b[0;34m.\u001b[0m\u001b[0msolve\u001b[0m\u001b[0;34m(\u001b[0m\u001b[0ma\u001b[0m\u001b[0;34m,\u001b[0m\u001b[0mb\u001b[0m\u001b[0;34m)\u001b[0m\u001b[0;34m)\u001b[0m\u001b[0;34m\u001b[0m\u001b[0m\n\u001b[0m",
      "\u001b[0;32m/anaconda3/lib/python3.6/site-packages/numpy/linalg/linalg.py\u001b[0m in \u001b[0;36msolve\u001b[0;34m(a, b)\u001b[0m\n\u001b[1;32m    360\u001b[0m     \u001b[0ma\u001b[0m\u001b[0;34m,\u001b[0m \u001b[0m_\u001b[0m \u001b[0;34m=\u001b[0m \u001b[0m_makearray\u001b[0m\u001b[0;34m(\u001b[0m\u001b[0ma\u001b[0m\u001b[0;34m)\u001b[0m\u001b[0;34m\u001b[0m\u001b[0m\n\u001b[1;32m    361\u001b[0m     \u001b[0m_assertRankAtLeast2\u001b[0m\u001b[0;34m(\u001b[0m\u001b[0ma\u001b[0m\u001b[0;34m)\u001b[0m\u001b[0;34m\u001b[0m\u001b[0m\n\u001b[0;32m--> 362\u001b[0;31m     \u001b[0m_assertNdSquareness\u001b[0m\u001b[0;34m(\u001b[0m\u001b[0ma\u001b[0m\u001b[0;34m)\u001b[0m\u001b[0;34m\u001b[0m\u001b[0m\n\u001b[0m\u001b[1;32m    363\u001b[0m     \u001b[0mb\u001b[0m\u001b[0;34m,\u001b[0m \u001b[0mwrap\u001b[0m \u001b[0;34m=\u001b[0m \u001b[0m_makearray\u001b[0m\u001b[0;34m(\u001b[0m\u001b[0mb\u001b[0m\u001b[0;34m)\u001b[0m\u001b[0;34m\u001b[0m\u001b[0m\n\u001b[1;32m    364\u001b[0m     \u001b[0mt\u001b[0m\u001b[0;34m,\u001b[0m \u001b[0mresult_t\u001b[0m \u001b[0;34m=\u001b[0m \u001b[0m_commonType\u001b[0m\u001b[0;34m(\u001b[0m\u001b[0ma\u001b[0m\u001b[0;34m,\u001b[0m \u001b[0mb\u001b[0m\u001b[0;34m)\u001b[0m\u001b[0;34m\u001b[0m\u001b[0m\n",
      "\u001b[0;32m/anaconda3/lib/python3.6/site-packages/numpy/linalg/linalg.py\u001b[0m in \u001b[0;36m_assertNdSquareness\u001b[0;34m(*arrays)\u001b[0m\n\u001b[1;32m    210\u001b[0m     \u001b[0;32mfor\u001b[0m \u001b[0ma\u001b[0m \u001b[0;32min\u001b[0m \u001b[0marrays\u001b[0m\u001b[0;34m:\u001b[0m\u001b[0;34m\u001b[0m\u001b[0m\n\u001b[1;32m    211\u001b[0m         \u001b[0;32mif\u001b[0m \u001b[0mmax\u001b[0m\u001b[0;34m(\u001b[0m\u001b[0ma\u001b[0m\u001b[0;34m.\u001b[0m\u001b[0mshape\u001b[0m\u001b[0;34m[\u001b[0m\u001b[0;34m-\u001b[0m\u001b[0;36m2\u001b[0m\u001b[0;34m:\u001b[0m\u001b[0;34m]\u001b[0m\u001b[0;34m)\u001b[0m \u001b[0;34m!=\u001b[0m \u001b[0mmin\u001b[0m\u001b[0;34m(\u001b[0m\u001b[0ma\u001b[0m\u001b[0;34m.\u001b[0m\u001b[0mshape\u001b[0m\u001b[0;34m[\u001b[0m\u001b[0;34m-\u001b[0m\u001b[0;36m2\u001b[0m\u001b[0;34m:\u001b[0m\u001b[0;34m]\u001b[0m\u001b[0;34m)\u001b[0m\u001b[0;34m:\u001b[0m\u001b[0;34m\u001b[0m\u001b[0m\n\u001b[0;32m--> 212\u001b[0;31m             \u001b[0;32mraise\u001b[0m \u001b[0mLinAlgError\u001b[0m\u001b[0;34m(\u001b[0m\u001b[0;34m'Last 2 dimensions of the array must be square'\u001b[0m\u001b[0;34m)\u001b[0m\u001b[0;34m\u001b[0m\u001b[0m\n\u001b[0m\u001b[1;32m    213\u001b[0m \u001b[0;34m\u001b[0m\u001b[0m\n\u001b[1;32m    214\u001b[0m \u001b[0;32mdef\u001b[0m \u001b[0m_assertFinite\u001b[0m\u001b[0;34m(\u001b[0m\u001b[0;34m*\u001b[0m\u001b[0marrays\u001b[0m\u001b[0;34m)\u001b[0m\u001b[0;34m:\u001b[0m\u001b[0;34m\u001b[0m\u001b[0m\n",
      "\u001b[0;31mLinAlgError\u001b[0m: Last 2 dimensions of the array must be square"
     ]
    }
   ],
   "source": [
    "a=np.array([[2,1],[2,-1],[1,-2]])\n",
    "b=np.array([3,0,4])\n",
    "print(np.linalg.solve(a,b))"
   ]
  },
  {
   "cell_type": "markdown",
   "metadata": {},
   "source": [
    "##### Question 8\n",
    "2x+y-2z = 10  \n",
    "3x+2y+2z = 1  \n",
    "5x+4y+3z = 4"
   ]
  },
  {
   "cell_type": "code",
   "execution_count": 71,
   "metadata": {},
   "outputs": [
    {
     "name": "stdout",
     "output_type": "stream",
     "text": [
      "[ 1.  2. -3.]\n"
     ]
    }
   ],
   "source": [
    "a=np.array([[2,1,-2],[3,2,2],[5,4,3]])\n",
    "b=np.array([10,1,4])\n",
    "print(np.linalg.solve(a,b))"
   ]
  },
  {
   "cell_type": "markdown",
   "metadata": {},
   "source": [
    "#### Question 9\n",
    "x+2y-3z = -1  \n",
    "3x-y+2z = 7  \n",
    "5x+3y-4z = 2"
   ]
  },
  {
   "cell_type": "code",
   "execution_count": 72,
   "metadata": {},
   "outputs": [
    {
     "name": "stdout",
     "output_type": "stream",
     "text": [
      "[  8.77324603e+14  -9.65057063e+15  -6.14127222e+15]\n"
     ]
    }
   ],
   "source": [
    "a=np.array([[1,2,-3],[3,-1,2],[5,3,-4]])\n",
    "b=np.array([-1,7,2])\n",
    "print(np.linalg.solve(a,b))"
   ]
  },
  {
   "cell_type": "markdown",
   "metadata": {},
   "source": [
    "### <center>Conclusion</center>\n",
    "<center>Various systems of linear equations were solved.</center>"
   ]
  },
  {
   "cell_type": "markdown",
   "metadata": {},
   "source": [
    "***"
   ]
  },
  {
   "cell_type": "markdown",
   "metadata": {},
   "source": [
    "<a id='lab3'></a>\n",
    "## <center>LAB 3<br><br>Eigen Values and Eigen Vectors</center>\n",
    "### <center>Aim</center>\n",
    "<center>To find the eigenvalues and eigenvectors using the np.linalg functions</center>"
   ]
  },
  {
   "cell_type": "markdown",
   "metadata": {},
   "source": [
    "#### Eigen values"
   ]
  },
  {
   "cell_type": "code",
   "execution_count": 10,
   "metadata": {},
   "outputs": [
    {
     "name": "stdout",
     "output_type": "stream",
     "text": [
      "[[1 2 3]\n",
      " [4 1 4]\n",
      " [2 1 1]]\n"
     ]
    },
    {
     "data": {
      "text/plain": [
       "(array([-1.87298335,  5.87298335, -1.        ]),\n",
       " array([[-0.73675979,  0.5404965 , -0.33333333],\n",
       "        [ 0.60477103,  0.75252298, -0.66666667],\n",
       "        [ 0.30238552,  0.37626149,  0.66666667]]))"
      ]
     },
     "execution_count": 10,
     "metadata": {},
     "output_type": "execute_result"
    }
   ],
   "source": [
    "a1=[[1,2,3],[4,1,4],[2,1,1]]\n",
    "a=np.array(a1)\n",
    "print(a)\n",
    "np.linalg.eig(a)"
   ]
  },
  {
   "cell_type": "markdown",
   "metadata": {},
   "source": [
    "#### Eigen vectors"
   ]
  },
  {
   "cell_type": "code",
   "execution_count": 6,
   "metadata": {},
   "outputs": [
    {
     "data": {
      "text/plain": [
       "array([-1.87298335,  5.87298335, -1.        ])"
      ]
     },
     "execution_count": 6,
     "metadata": {},
     "output_type": "execute_result"
    }
   ],
   "source": [
    "np.linalg.eigvals(a)"
   ]
  },
  {
   "cell_type": "markdown",
   "metadata": {},
   "source": [
    "***\n",
    "### <center> Properties </center>\n",
    "#### 1. sum of eigen values = sum of diagonals\n",
    "#### 2. product of eigen values = det(A)\n",
    "#### 3. A=lambda  A^t=lambda  A=lambda  a^-1=lambda^-1\n",
    "#### 4. eigen values of an identity matrix is 1\n",
    "#### 5. idempotent matrix A^2=A, lambda =0,1\n",
    "#### 6. Skew symmetric matrix lambda, lambda can be zero or purely imaginary\n",
    "#### 7. orthogonal matrix A^t=A-1, |lambda|=1\n",
    "#### 8. For a triangular matrix, lambda will be the diagonal elements (lambda1= 1st element, lambda 2=second element....\n",
    "#### 9. For a real symmetric matrix, lambda is always real\n",
    "#### 10. hermitian matrix A=A*(complex conjugate transpose) then lambda=real\n",
    "#### 11. incorporate the above properties in a program"
   ]
  },
  {
   "cell_type": "code",
   "execution_count": 1,
   "metadata": {},
   "outputs": [
    {
     "name": "stdout",
     "output_type": "stream",
     "text": [
      "Enter the order of the square matrix A3\n",
      "\n",
      " Enter the elements\n",
      "1\n",
      "2\n",
      "3\n",
      "4\n",
      "5\n",
      "6\n",
      "7\n",
      "8\n",
      "9\n",
      "[[ 1.  2.  3.]\n",
      " [ 4.  5.  6.]\n",
      " [ 7.  8.  9.]]\n",
      "1.Sum of Eigen values is the trace of the matrix\n",
      "2.Product of Eigen values is det(A)\n",
      "3.The eigen value of A transpose is same as A\n",
      "4.The eigen value of inverse of A is λ inverse\n",
      "5.The eigen values of identity matrix is 1\n",
      "Select the properties you would like to verify1\n",
      "The eigen values are:\n",
      "\n",
      "[  1.61168440e+01  -1.11684397e+00  -9.75918483e-16]\n",
      "sum= 15.0\n",
      "trace 15.0\n",
      "sum of eigen values=trace\n",
      "Do you want to continue \n",
      "\n",
      "1. Continue\n",
      "\n",
      "2. Exit\n",
      "Enter your choice : 2\n",
      "-----------End of the program---------\n"
     ]
    }
   ],
   "source": [
    "from numpy import *\n",
    "import numpy as np\n",
    "\n",
    "n = int(input(\"Enter the order of the square matrix A\")) \n",
    "print(\"\\n Enter the elements\")\n",
    "A=np.zeros((n,n))\n",
    "for i in range(n): \n",
    "    for j in range(n): \n",
    "        A[i][j]=int(input())\n",
    "        \n",
    "print(A)\n",
    "p=True\n",
    "while(p):\n",
    " print(\"1.Sum of Eigen values is the trace of the matrix\")\n",
    " print(\"2.Product of Eigen values is det(A)\")\n",
    " print(\"3.The eigen value of A transpose is same as A\")\n",
    " print(\"4.The eigen value of inverse of A is λ inverse\")\n",
    " print(\"5.The eigen values of identity matrix is 1\")\n",
    " ch=int(input(\"Select the properties you would like to verify\"))\n",
    " if(ch==1):\n",
    "        print(\"The eigen values are:\\n\")\n",
    "        print(linalg.eigvals(A))\n",
    "        print(\"sum=\",sum(linalg.eigvals(A)))\n",
    "        s=0\n",
    "        for i in range(n):\n",
    "            for j in range(n):\n",
    "                if(i==j):\n",
    "                    s=s+A[i][j]\n",
    "        print(\"trace\",s)\n",
    "        if(sum(linalg.eigvals(A))==s):\n",
    "            print(\"sum of eigen values=trace\")\n",
    " elif(ch==2):\n",
    "        print(\"Determinant of A\",round(linalg.det(A)))\n",
    "        print(\"Product of Eigen values\",round(prod(linalg.eigvals(A))))\n",
    "        if (round(linalg.det(A))==round(prod(linalg.eigvals(A)))):\n",
    "            print(\"Product of Eigen values=Determinant of A\")\n",
    " elif(ch==3):\n",
    "        print(\"A transpose\\n \",A.transpose())\n",
    "        D=A.transpose()\n",
    "        print(\"The eigen value of A transpose\\n\",linalg.eigvals(A.transpose()))\n",
    "        print(\"The eigen value of A\\n\",linalg.eigvals(A))\n",
    "        if(np.array_equal(linalg.eigvals(A.transpose()),linalg.eigvals(A))):\n",
    "            print(\"The eigen value of A transpose is same as A\")\n",
    " elif(ch==4):\n",
    "        print(\"The eigen values(λ) of A are\\n:\")\n",
    "        print(linalg.eigvals(A))\n",
    "        print(\"1/λ:\\n\",1/(linalg.eigvals(A)))\n",
    "        B=linalg.inv(A)\n",
    "        print(\"The inverse of A:\\n\",B)\n",
    "        print(\"The eigen values of A inverse are:\\n\",linalg.eigvals(B))\n",
    "        if(np.array_equal((1/(linalg.eigvals(A))),linalg.eigvals(B))):\n",
    "            print(\"The eigen value of inverse of A is equal to λ inverse\")\n",
    " elif(ch==5):\n",
    "        print(\"Enter an identity matrix\")\n",
    "        k = int(input(\"Enter the order of an identity matrix C\")) #user defined matrix\n",
    "        print(\"\\n Enter the elements\")\n",
    "        C=np.zeros((k,k))\n",
    "        for i in range(k):\n",
    "            for j in range(k):\n",
    "                if(i==j):\n",
    "                    C[i][j]=1\n",
    "                else:\n",
    "                    C[i][j]=0\n",
    "        print(\"\\n\",C)\n",
    "        print(\"The eigen values of the matrix are:\\n\",linalg.eigvals(C))\n",
    "        print(\"All the eigen values are 1\")\n",
    "        \n",
    " print(\"Do you want to continue \")\n",
    " print(\"\\n1. Continue\")\n",
    " print(\"\\n2. Exit\")\n",
    " op = int(input(\"Enter your choice : \"))\n",
    " if(op == 2):\n",
    "    p = False\n",
    "    print(\"-----------End of the program---------\")"
   ]
  },
  {
   "cell_type": "code",
   "execution_count": 11,
   "metadata": {},
   "outputs": [
    {
     "data": {
      "text/plain": [
       "array([[-1,  2],\n",
       "       [-6,  6]])"
      ]
     },
     "execution_count": 11,
     "metadata": {},
     "output_type": "execute_result"
    }
   ],
   "source": [
    "m1=[[-1,2],[-6,6]]\n",
    "m=np.array(m1)\n"
   ]
  },
  {
   "cell_type": "code",
   "execution_count": 12,
   "metadata": {},
   "outputs": [
    {
     "data": {
      "text/plain": [
       "(array([ 2.,  3.]), array([[-0.5547002 , -0.4472136 ],\n",
       "        [-0.83205029, -0.89442719]]))"
      ]
     },
     "execution_count": 12,
     "metadata": {},
     "output_type": "execute_result"
    }
   ],
   "source": [
    "np.linalg.eig(m)"
   ]
  },
  {
   "cell_type": "code",
   "execution_count": 13,
   "metadata": {},
   "outputs": [
    {
     "data": {
      "text/plain": [
       "array([ 2.,  3.])"
      ]
     },
     "execution_count": 13,
     "metadata": {},
     "output_type": "execute_result"
    }
   ],
   "source": [
    "np.linalg.eigvals(m)"
   ]
  },
  {
   "cell_type": "code",
   "execution_count": 93,
   "metadata": {},
   "outputs": [
    {
     "name": "stdout",
     "output_type": "stream",
     "text": [
      "Eigen Values :\n",
      " [ 16.  -1.  -0.   2.]\n",
      "Eigen Vector :\n",
      " [[ 0.  1.  0.  1.]\n",
      " [ 0. -1. -1. -1.]\n",
      " [ 0.  0.  0.  0.]\n",
      " [ 1. -0. -0.  0.]]\n",
      "Inverse Eigen vector :\n",
      " [[ 0.  1.  1.  1.]\n",
      " [ 3.  1. -0. -2.]\n",
      " [-3. -1.  3.  1.]\n",
      " [ 0. -1. -2.  1.]]\n",
      "Diagonalised Matrix : \n",
      " [[ 16.  -0.  -0.  -0.]\n",
      " [  0.  -1.   0.   0.]\n",
      " [  0.   0.  -0.   0.]\n",
      " [ -0.   0.  -0.   2.]]\n",
      "They are similar\n"
     ]
    }
   ],
   "source": [
    "import numpy as np\n",
    "a1=[[1,2,3,7],[4,5,6,0],[1,2,3,4],[5,6,7,8]]\n",
    "a=np.matrix(a1)\n",
    "val,vec=np.linalg.eig(a)\n",
    "print(\"Eigen Values :\\n\",np.around(val))\n",
    "print(\"Eigen Vector :\\n\",np.around(vec))\n",
    "inv=(np.linalg.inv(vec))\n",
    "print(\"Inverse Eigen vector :\\n\",np.around(inv))\n",
    "x=np.dot(inv,a)\n",
    "sol=np.dot(x,vec)\n",
    "print(\"Diagonalised Matrix : \\n\",np.around(sol))\n",
    "roundsol=np.around(sol)\n",
    "flag=False\n",
    "for i in range(4):\n",
    "    for j in range(4):\n",
    "        if(i!=j or np.abs(roundsol[i,j].all==0.0)):\n",
    "            flag=True\n",
    "    \n",
    "if(flag):\n",
    "    diag=np.diag(roundsol)\n",
    "    if(np.allclose(np.around(diag),np.around(np.matrix(val)))):\n",
    "        print(\"They are similar\")\n",
    "    else:\n",
    "        print(\"They are not similar\")"
   ]
  },
  {
   "cell_type": "markdown",
   "metadata": {
    "collapsed": true
   },
   "source": [
    "***\n",
    "### Cayley Hamilton Theorem\n"
   ]
  },
  {
   "cell_type": "code",
   "execution_count": 8,
   "metadata": {},
   "outputs": [
    {
     "name": "stdout",
     "output_type": "stream",
     "text": [
      "Enter the number of row of matrix3\n",
      "Enter the number of column of matrix3\n",
      "Enter 9 elements when prompted\n",
      "Enter element1\n",
      "Enter element2\n",
      "Enter element3\n",
      "Enter element4\n",
      "Enter element5\n",
      "Enter element6\n",
      "Enter element3\n",
      "Enter element2\n",
      "Enter element4\n",
      "Characteristic polynomial for\n",
      " [[ 1.  2.  3.]\n",
      " [ 4.  5.  6.]\n",
      " [ 3.  2.  4.]] \n",
      "is\n",
      " [  1. -10.   0.   9.]\n",
      "since the sum of the above statement is zero matrix, thus caley hamilton theorem is verified\n",
      " [[   0.  -23.  -54.]\n",
      " [ -87. -116. -135.]\n",
      " [ -54.  -23.  -87.]]\n"
     ]
    }
   ],
   "source": [
    "import numpy as np\n",
    "row=int(input(\"Enter the number of row of matrix\"))\n",
    "col=int(input(\"Enter the number of column of matrix\"))\n",
    "print(\"Enter\",row*col,\"elements when prompted\")\n",
    "A = np.zeros((row,col))\n",
    "for i in range(row):\n",
    "    for j in range(col):\n",
    "        c=c+1\n",
    "        A[i][j] = float(input(\"Enter element\"))\n",
    "        \n",
    "sum=np.zeros((3,3))\n",
    "p=np.poly(A)\n",
    "print(\"Characteristic polynomial for\\n\",A,\"\\nis\\n\",p)\n",
    "for i in range(0,len(p)):\n",
    "    sum=sum+round(p[len(p)-(len(p)+(i+1))])*(A**i)\n",
    "print(\"since the sum of the above statement is zero matrix, thus caley hamilton theorem is verified\\n\",sum)"
   ]
  },
  {
   "cell_type": "markdown",
   "metadata": {
    "collapsed": true
   },
   "source": [
    "***"
   ]
  },
  {
   "cell_type": "markdown",
   "metadata": {},
   "source": [
    "### <center> Revision </center>"
   ]
  },
  {
   "cell_type": "markdown",
   "metadata": {},
   "source": [
    "#### WAP to check if the entered number is prime or not"
   ]
  },
  {
   "cell_type": "code",
   "execution_count": 15,
   "metadata": {},
   "outputs": [
    {
     "name": "stdout",
     "output_type": "stream",
     "text": [
      "Enter a number :16\n",
      "16 is not a prime number\n"
     ]
    }
   ],
   "source": [
    "num=int(input(\"Enter a number :\"))\n",
    "if(num>1): \n",
    "   for i in range(2, num//2): \n",
    "       if(num%i)==0: \n",
    "           print(num, \"is not a prime number\") \n",
    "           break\n",
    "   else: \n",
    "       print(num, \"is a prime number\") \n",
    "else: \n",
    "   print(num, \"is not a prime number\") "
   ]
  },
  {
   "cell_type": "markdown",
   "metadata": {},
   "source": [
    "#### Solve the following system of linear equations and verify it by using cramers rule\n",
    "x-y-2z=5  \n",
    "x-2y+z=-2  \n",
    "2x+y+2z=4"
   ]
  },
  {
   "cell_type": "code",
   "execution_count": 13,
   "metadata": {},
   "outputs": [
    {
     "data": {
      "text/plain": [
       "array([ 3. ,  1.6, -1.8])"
      ]
     },
     "execution_count": 13,
     "metadata": {},
     "output_type": "execute_result"
    }
   ],
   "source": [
    "import numpy as np\n",
    "a=np.mat(input(\"enter the matrix coefficients:\"))\n",
    "b=np.mat(input(\"enter column matrix:\"))\n",
    "d=np.linalg.det(a)\n",
    "if d==0:\n",
    "    print(\"inconsistent\")\n",
    "m1=a\n",
    "m2=a\n",
    "m3=a\n",
    "m1[:,0]=b\n",
    "dx=np.linalg.det(m1)\n",
    "m2[:,1]=b\n",
    "dy=np.linalg.det(m2)\n",
    "m3[:,2]=b\n",
    "dz=np.linalg.det(m3)\n",
    "x=dx/d\n",
    "y=dy/d\n",
    "z=dz/d\n",
    "print(\"x=\",x,\"\\ny=\",y,\"\\nz=\",z)\n"
   ]
  },
  {
   "cell_type": "markdown",
   "metadata": {},
   "source": [
    "#### To check whether a matrix is skew symmetric or not"
   ]
  },
  {
   "cell_type": "code",
   "execution_count": null,
   "metadata": {
    "collapsed": true
   },
   "outputs": [],
   "source": [
    "import numpy as np\n",
    "row=int(input(\"Enter the number of row of matrix\"))\n",
    "col=int(input(\"Enter the number of column of matrix\"))\n",
    "print(\"Enter\",row*col,\"elements when prompted\")\n",
    "a = np.zeros((row,col))\n",
    "for i in range(row):\n",
    "    for j in range(col):\n",
    "        a[i][j] = float(input(\"Enter element\"))\n",
    "A=np.matrix(a)       \n",
    "A_transpose=A.transpose()\n",
    "\n",
    "if(len(A)!=(A.size/len(A))):\n",
    "    print(\"Not a square matrix\")\n",
    "else:\n",
    "    if(np.array_equal(-A,A_transpose)):\n",
    "        print(\"\\nMatrix is Skew Symmetric\")\n",
    "    else:\n",
    "        print(\"\\nNot Skew Symmetric\")"
   ]
  },
  {
   "cell_type": "markdown",
   "metadata": {},
   "source": [
    "#### Find the eigen values and eigen vectors for the given matrix : [6,-2,2],[2,3,-1],[2,-1,3] "
   ]
  },
  {
   "cell_type": "code",
   "execution_count": 1,
   "metadata": {},
   "outputs": [
    {
     "name": "stdout",
     "output_type": "stream",
     "text": [
      "[[ 6 -2  2]\n",
      " [ 2  3 -1]\n",
      " [ 2 -1  3]]\n",
      "The eigen values are: \n",
      " (array([6., 2., 4.]), array([[ 8.16496581e-01,  9.06493304e-17, -5.34522484e-01],\n",
      "       [ 4.08248290e-01, -7.07106781e-01, -8.01783726e-01],\n",
      "       [ 4.08248290e-01, -7.07106781e-01, -2.67261242e-01]])) \n",
      "The eigen vectors are:  [6. 2. 4.]\n"
     ]
    }
   ],
   "source": [
    "import numpy as np\n",
    "m= np.array([[6,-2,2],[2,3,-1],[2,-1,3]])\n",
    "print(m)\n",
    "\n",
    "evals= np.linalg.eig(m)\n",
    "evect= np.linalg.eigvals(m)\n",
    "\n",
    "print(\"The eigen values are: \\n\",evals,\"\\nThe eigen vectors are: \",evect)\n"
   ]
  },
  {
   "cell_type": "markdown",
   "metadata": {
    "collapsed": true
   },
   "source": [
    "***\n",
    "### Gauss-Jordan Method"
   ]
  },
  {
   "cell_type": "code",
   "execution_count": 2,
   "metadata": {},
   "outputs": [
    {
     "name": "stdout",
     "output_type": "stream",
     "text": [
      "Enter the (0,0) element :1\n",
      "Enter the (0,1) element :2\n",
      "Enter the (0,2) element :3\n",
      "Enter the (0,3) element :4\n",
      "Enter the (1,0) element :1\n",
      "Enter the (1,1) element :1\n",
      "Enter the (1,2) element :1\n",
      "Enter the (1,3) element :1\n",
      "Enter the (2,0) element :11\n",
      "Enter the (2,1) element :23\n",
      "Enter the (2,2) element :4\n",
      "Enter the (2,3) element :5\n",
      "\n",
      "\n",
      "[[ 1.          0.          0.         -0.64516129]\n",
      " [ 0.          1.          0.          0.29032258]\n",
      " [-0.          0.          1.          1.35483871]]\n",
      "x : -0.6451612903225765\n",
      "y : 0.29032258064516014\n",
      "z : 1.3548387096774193\n"
     ]
    }
   ],
   "source": [
    "import numpy as np\n",
    "m1=np.zeros((3,4))\n",
    "for i in range(3):\n",
    "    for j in range(4):\n",
    "        m1[i,j]=int(input(\"Enter the (\"+str(i)+\",\"+str(j)+\")\" +\" element :\"))\n",
    "a=np.array(m1)\n",
    "\n",
    "def checkone(s):\n",
    "    if(a[s,s]!=1):\n",
    "        for i in range(s,3):\n",
    "            if(a[i,s]==1.0):\n",
    "                a[[s,i]]=a[[i,s]]\n",
    "                \n",
    "            else:\n",
    "                a[s]=a[s]/a[s,s]\n",
    "def rowoperationbottom(s):\n",
    "    if(s==1):\n",
    "        for i in range(s,np.shape(a)[0]):\n",
    "            a[i]=a[i]-((a[i,0]*a[0]))\n",
    "        \n",
    "    if(s==2):    \n",
    "        for i in range(0,s-1):\n",
    "            a[i]=a[i]-((a[i,s-1]*a[s-1]))\n",
    "            \n",
    "        for i in range(s,np.shape(a)[0]):\n",
    "            a[i]=a[i]-((a[i,i-1]*a[i-1]))\n",
    "            \n",
    "            \n",
    "def rowoperationtop():\n",
    "    for i in range(0,np.shape(a)[0]-1):\n",
    "        a[i]=a[i]-((a[i,np.shape(a)[0]-1]*a[np.shape(a)[0]-1]))\n",
    "\n",
    "try :\n",
    "    for i in range(np.shape(a)[0]):\n",
    "        checkone(i)\n",
    "        rowoperationbottom(i+1)\n",
    "except:\n",
    "    print(\"There is no unique solution.\")\n",
    "         \n",
    "rowoperationtop()\n",
    "print(\"\\n\")\n",
    "print(a)\n",
    "\n",
    "print(\"x : \"+str(a[0,3]),end=\"\\n\")\n",
    "print(\"y : \"+str(a[1,3]),end=\"\\n\")\n",
    "print(\"z : \"+str(a[2,3]),end=\"\\n\")"
   ]
  },
  {
   "cell_type": "markdown",
   "metadata": {},
   "source": [
    "## <center>LAB 4<br><br>Linear Combination</center>\n",
    "### <center>Aim</center>\n",
    "<center>To understand the underlying concepts of Linear Combinations and check for Linear Dependence/Independence</center>"
   ]
  },
  {
   "cell_type": "code",
   "execution_count": 3,
   "metadata": {},
   "outputs": [
    {
     "name": "stdout",
     "output_type": "stream",
     "text": [
      "Enter values for vector 1\n",
      "1\n",
      "2\n",
      "3\n",
      "Enter values for vector 2\n",
      "1\n",
      "1\n",
      "1\n",
      "Enter values for vector 3\n",
      "1\n",
      "4\n",
      "8\n",
      "Enter the values for W\n",
      "14\n",
      "20\n",
      "40\n",
      "[[ 1.  1.  1. 14.]\n",
      " [ 2.  1.  4. 20.]\n",
      " [ 3.  1.  8. 40.]]\n",
      "[14. 20. 40.]\n",
      "[[1. 1. 1.]\n",
      " [2. 1. 4.]\n",
      " [3. 1. 8.]]\n",
      "[-36.  36.  14.]\n",
      "value of a 1 : -35.999999999999986\n",
      "value of a 2 : 35.999999999999986\n",
      "value of a 3 : 13.999999999999996\n"
     ]
    }
   ],
   "source": [
    "import numpy as np\n",
    "a2=[]\n",
    "b2=[]\n",
    "a=np.zeros((4,3))\n",
    "for i in range(3):\n",
    "    a2.clear()\n",
    "    print(\"Enter values for vector\",i+1)\n",
    "    for j in range(3):\n",
    "        a1=int(input())\n",
    "        a2.append(a1)\n",
    "    a[i]=a2\n",
    "    \n",
    "m=np.array(a)\n",
    "print(\"Enter the values for W\")\n",
    "for i in range(3):\n",
    "    b1=int(input())\n",
    "    b2.append(b1)\n",
    "    \n",
    "m[3]=b2\n",
    "m=np.transpose(m)\n",
    "print(m)\n",
    "\n",
    "w=m[:,-1]\n",
    "print(w)\n",
    "print(m[:,0:3])\n",
    "\n",
    "\n",
    "def checksol():\n",
    "    so=np.linalg.solve(m[:,0:3],w)\n",
    "    return so\n",
    "\n",
    "so=checksol()\n",
    "print(so)\n",
    "for i in range(3):\n",
    "    print(\"value of a\",+i+1,\":\",so[i])"
   ]
  },
  {
   "cell_type": "code",
   "execution_count": 4,
   "metadata": {},
   "outputs": [
    {
     "name": "stdout",
     "output_type": "stream",
     "text": [
      "Enter a 1\n",
      "-36\n",
      "Enter a 2\n",
      "36\n",
      "Enter a 3\n",
      "14\n",
      "[-36, 36, 14]\n",
      "[-36.  36.  14.]\n",
      "Solution is satisfied\n"
     ]
    }
   ],
   "source": [
    "s=[]\n",
    "for i in range(3):\n",
    "    print(\"Enter a\",i+1)\n",
    "    a1=int(input())\n",
    "    s.append(a1)\n",
    "    \n",
    "print(s)\n",
    "\n",
    "z=checksol()\n",
    "print(z)\n",
    "if(np.allclose(z,s)):\n",
    "     print(\"Solution is satisfied\")\n",
    "else:\n",
    "     print(\"Solution is not satisfied\")"
   ]
  },
  {
   "cell_type": "markdown",
   "metadata": {},
   "source": [
    "***\n",
    "### Linearly Dependent and Independent"
   ]
  },
  {
   "cell_type": "code",
   "execution_count": 5,
   "metadata": {},
   "outputs": [
    {
     "name": "stdout",
     "output_type": "stream",
     "text": [
      "Enter values for vector 1\n",
      "1\n",
      "2\n",
      "3\n",
      "Enter values for vector 2\n",
      "1\n",
      "1\n",
      "1\n",
      "Enter values for vector 3\n",
      "1\n",
      "4\n",
      "8\n",
      "[[1. 1. 1.]\n",
      " [2. 1. 4.]\n",
      " [3. 1. 8.]]\n",
      "The vectors are Linearly Independent\n",
      "Rank  3\n"
     ]
    }
   ],
   "source": [
    "import numpy as np\n",
    "a=np.zeros((3,3))\n",
    "a2=[]\n",
    "for i in range(3):\n",
    "    a2.clear()\n",
    "    print(\"Enter values for vector\",i+1)\n",
    "    for j in range(3):\n",
    "        a1=int(input())\n",
    "        a2.append(a1)\n",
    "    a[i]=a2\n",
    "    \n",
    "m=np.array(a)\n",
    "m=np.transpose(m)\n",
    "print(m)\n",
    "if(np.linalg.det(m)!=0):\n",
    "    print(\"The vectors are Linearly Independent\")\n",
    "else:\n",
    "    print(\"The vectors are Linearly Dependent\")\n",
    "    \n",
    "    \n",
    "print(\"Rank \",np.linalg.matrix_rank(m))"
   ]
  },
  {
   "cell_type": "markdown",
   "metadata": {},
   "source": [
    "### <center>Conclusion</center>\n",
    "<center>The solutions have been obtained and Linear Dependence/Independnce was verified</center>"
   ]
  },
  {
   "cell_type": "markdown",
   "metadata": {},
   "source": [
    "***\n",
    "## <center>LAB 5<br><br>Linear Transformations</center>\n",
    "### <center>Aim</center>\n",
    "<center>To plot,find and solve various Linear Transformations</center>"
   ]
  },
  {
   "cell_type": "code",
   "execution_count": 1,
   "metadata": {
    "collapsed": true
   },
   "outputs": [],
   "source": [
    "from mpl_toolkits.mplot3d import axes3d\n",
    "import matplotlib.pyplot as plt\n",
    "import numpy as np\n",
    "from sympy import *"
   ]
  },
  {
   "cell_type": "code",
   "execution_count": 10,
   "metadata": {},
   "outputs": [
    {
     "data": {
      "image/png": "[encoded data removed]",
      "text/plain": [
       "<Figure size 432x288 with 1 Axes>"
      ]
     },
     "metadata": {
      "needs_background": "light"
     },
     "output_type": "display_data"
    }
   ],
   "source": [
    "x,y= (np.linspace(0,15,16),np.linspace(0,15,16))\n",
    "\n",
    "fig = plt.figure()\n",
    "ax = fig.gca(projection='3d')\n",
    "\n",
    "ax.plot(x,y,0)\n",
    "ax.plot(x,y,x+y)\n",
    "\n",
    "plt.show()"
   ]
  },
  {
   "cell_type": "code",
   "execution_count": 5,
   "metadata": {
    "collapsed": true
   },
   "outputs": [],
   "source": [
    "def callTransformations(choice,transformChoice):\n",
    "    flag = 1\n",
    "    trans = ''\n",
    "    # R2 -> R2\n",
    "    if choice == 1:\n",
    "        V1 = np.mat(input('Enter a 2x2 vector, V1:'))\n",
    "        V2 = np.mat(input('Enter a 2x2 vector, V2:'))\n",
    "        print()\n",
    "        if transformChoice == 1:\n",
    "            # T7\n",
    "            if np.array_equal(T7(np.add(V1,V2)),np.add(T7(V1),T7(V2))):\n",
    "                flag = 0\n",
    "            else:\n",
    "                flag = 1\n",
    "            trans = 'T7'\n",
    "        elif transformChoice == 2:\n",
    "            # T8\n",
    "            if np.array_equal(T8(np.add(V1,V2)),np.add(T8(V1),T8(V2))):\n",
    "                flag = 0\n",
    "            else:\n",
    "                flag = 1\n",
    "            trans = 'T8'\n",
    "    # R2 -> R3\n",
    "    if choice == 2:\n",
    "        V1 = np.mat(input('Enter a 2x2 vector, V1:'))\n",
    "        V2 = np.mat(input('Enter a 2x2 vector, V2:'))\n",
    "        print()\n",
    "        if transformChoice == 1:\n",
    "            # T2\n",
    "            if np.array_equal(T2(np.add(V1,V2)),np.add(T2(V1),T2(V2))):\n",
    "                flag = 0\n",
    "            else:\n",
    "                flag = 1\n",
    "            trans = 'T2'\n",
    "        elif transformChoice == 2:\n",
    "            # T3\n",
    "            if np.array_equal(T3(np.add(V1,V2)),np.add(T3(V1),T3(V2))):\n",
    "                flag = 0\n",
    "            else:\n",
    "                flag = 1\n",
    "            trans = 'T3'\n",
    "        elif transformChoice == 1:\n",
    "            # T4\n",
    "            if np.array_equal(T4(np.add(V1,V2)),np.add(T4(V1),T4(V2))):\n",
    "                flag = 0\n",
    "            else:\n",
    "                flag = 1\n",
    "            trans = 'T4'\n",
    "    elif choice == 3:\n",
    "        V1 = np.mat(input('Enter a 3x3 vector, V1:'))\n",
    "        V2 = np.mat(input('Enter a 3x3 vector, V2:'))\n",
    "        print()\n",
    "        if transformChoice == 1:\n",
    "            # T1\n",
    "            if np.array_equal(T1(np.add(V1,V2)),np.add(T1(V1),T1(V2))):\n",
    "                flag = 0\n",
    "            else:\n",
    "                flag = 1\n",
    "            trans = 'T1'\n",
    "        elif transformChoice == 2:\n",
    "            # T5\n",
    "            if np.array_equal(T5(np.add(V1,V2)),np.add(T5(V1),T5(V2))):\n",
    "                flag = 0 \n",
    "            else:\n",
    "                flag = 1\n",
    "            trans = 'T5'\n",
    "        elif transformChoice == 1:\n",
    "            # T6\n",
    "            if np.array_equal(T6(np.add(V1,V2)),np.add(T6(V1),T6(V2))):\n",
    "                flag = 0 \n",
    "            else:\n",
    "                flag = 1\n",
    "            trans = 'T6'\n",
    "    if flag == 0:\n",
    "        print(trans,'is a Linear Transformation.')\n",
    "    elif flag == 1:\n",
    "        print(trans,'is not a Linear Transformation.')"
   ]
  },
  {
   "cell_type": "code",
   "execution_count": 6,
   "metadata": {
    "collapsed": true
   },
   "outputs": [],
   "source": [
    "def T1(V):\n",
    "    return (np.matrix([V[0,0] + V[0,1],V[0,1]+V[0,2],V[0,2]+V[0,0]]))\n",
    "def T5(V):\n",
    "    return (np.matrix([2*V[0,0] + V[0,1],2*V[0,1]-3*V[0,0],V[0,0]-V[0,2]]))\n",
    "def T6(V):\n",
    "    return(np.matrix([V[0,0] + V[0,1], V[0,0] - V[0,1],V[0,2]]))\n",
    "\n",
    "# R2 -> R3\n",
    "def T2(V):\n",
    "    return(np.matrix([V[0,0],V[0,1],2*V[0,1]]))\n",
    "def T3(V):\n",
    "    return(np.matrix([V[0,0] - V[0,1], V[0,0] + V[0,1], V[0,0]]))\n",
    "def T4(V):\n",
    "    return(np.matrix([V[0,0] - V[0,1],3*V[0,1],4*V[0,0]+5*V[0,1]]))\n",
    "\n",
    "# R2 -> R2\n",
    "def T7(V):\n",
    "    return(np.matrix([-V[0,1],V[0,0]]))\n",
    "def T8(V):\n",
    "    return(np.matrix([V[0,0]+V[0,1],V[0,1]]))\n"
   ]
  },
  {
   "cell_type": "code",
   "execution_count": 7,
   "metadata": {
    "collapsed": true
   },
   "outputs": [],
   "source": [
    "def showTransformations(choice):\n",
    "    if choice == 1:\n",
    "        transformations = '1. T(x,y) = (-y,x)\\n2. T(x,y) = (x+y,y)'\n",
    "    elif choice == 2:\n",
    "        transformations = '1. T(x,y) = (x,y,2y)\\n2. T(x,y) = (x-y,x+y,x)\\n3. T(x,y) = (x-y,3y,4x+5y)'\n",
    "    elif choice == 3:\n",
    "        transformations = '1. T(x,y,z) = (x+y,y+z, z+x)\\n2. T(x,y,z) = (2x+y,2y-3x,x-z)\\n3. T(x,y,z) = (x+y,x-y,z)'\n",
    "    return (transformations + '\\nEnter your choice:')"
   ]
  },
  {
   "cell_type": "code",
   "execution_count": 9,
   "metadata": {},
   "outputs": [
    {
     "name": "stdout",
     "output_type": "stream",
     "text": [
      "Choose the type of transformation:\n",
      "1. R2 -> R2\n",
      "2. R2 -> R3\n",
      "3. R3 -> R3\n",
      "Your choice:1\n",
      "1. T(x,y) = (-y,x)\n",
      "2. T(x,y) = (x+y,y)\n",
      "Enter your choice:1\n",
      "Enter a 2x2 vector, V1:1,2\n",
      "Enter a 2x2 vector, V2:2,1\n",
      "\n",
      "T7 is a Linear Transformation.\n"
     ]
    }
   ],
   "source": [
    "choice = int(input('Choose the type of transformation:\\n1. R2 -> R2\\n2. R2 -> R3\\n3. R3 -> R3\\nYour choice:'))\n",
    "transformChoice = int(input(showTransformations(choice)))\n",
    "callTransformations(choice,transformChoice)"
   ]
  },
  {
   "cell_type": "markdown",
   "metadata": {},
   "source": [
    "### <center>Conclusion</center>\n",
    "<center>A Linear Transformation was plotted and various systems of linear Transformations were solved.</center>"
   ]
  },
  {
   "cell_type": "markdown",
   "metadata": {},
   "source": [
    "***"
   ]
  },
  {
   "cell_type": "markdown",
   "metadata": {},
   "source": [
    "## <center>CIA 3<br><br>PageRank Implementation</center>"
   ]
  },
  {
   "cell_type": "markdown",
   "metadata": {},
   "source": [
    "import numpy as np <br>\n",
    "import re <br>\n",
    "import numpy as np <br>\n",
    "import scipy as sc <br>\n",
    "import pandas as pd <br>\n",
    "import networkx as nx <br>\n",
    "import random <br>\n",
    "from operator import itemgetter <br> <br>\n",
    "\n",
    "g=nx.gnp_random_graph(8,0.5,directed=True)#Random graph <br>\n",
    "pos=nx.spring_layout(g)<br>\n",
    "nx.draw(g,with_labels=True,node_color='red',pos=pos)#plotting graph <br> <br>\n",
    "\n",
    "##### Algorithm\n",
    "x=random.choice([i for i in range(g.number_of_nodes())])#picking random node <br>\n",
    "nodecount={}#dictionary to store rank <br>\n",
    "col={}#dictionary to store colour <br>\n",
    "for i in range(g.number_of_nodes()): <br>\n",
    "nodecount[i]=0 <br>\n",
    "nodecount[x]=nodecount[x]+1#set random node's rank to 1 <br>\n",
    "for i in range(100000): <br>\n",
    "neighbors=list(g.neighbors(x))#no. of outgoing links of node x\n",
    "if(len(neighbors)==0): <br>\n",
    "x=random.choice([i for i in range(g.number_of_nodes())]) <br>\n",
    "nodecount[x]=nodecount[x]+1#increment new random node's rank <br>\n",
    "col[x]='r' <br>\n",
    "else: <br>\n",
    "x=random.choice(neighbors)#picking random node from list of neighbouring nodes <br>\n",
    "nodecount[x]=nodecount[x]+1#increment random node's rank <br> <br>\n",
    "\n",
    "prdict=nodecount#predicted rank <br>\n",
    "prd=sorted(prdict.items(), key=itemgetter(1),reverse=True) <br>\n",
    "for i in prd: <br>\n",
    "print(i) <br>\n",
    "\n",
    "nx.draw(g,with_labels=True,pos=pos,node_size=[v * 0.1 for v in nodecount.values]) <br> <br>\n",
    "\n",
    "##### PageRank\n",
    "#built in algorithm <br>\n",
    "pr=nx.pagerank(g)#PageRank <br>\n",
    "nx.draw(g,pos=pos,with_labels=True,node_size=[v * 10000 for v in pr.values()]) <br>\n",
    "prs=sorted(pr.items(), key=itemgetter(1),reverse=True) <br>\n",
    "print(\"Node Ranking :\") <br>\n",
    "for i in prs: <br>\n",
    "print(i)<br>\n",
    "\n",
    "##### Eigenvector centrality\n",
    "ec=nx.eigenvector_centrality(g)#Eigenvector Centrality <br>\n",
    "nx.draw(g,with_labels=True,node_size=[v * 5000 for v in ec.values()]) <br>\n",
    "\n",
    "##### Degree centrality\n",
    "de=dict(nx.degree(g)) <br>\n",
    "nx.draw(g,with_labels=True,node_size=[v * 280 for v in de.values()]) <br>\n",
    "\n",
    "##### Closeness centrality\n",
    "cc=nx.closeness_centrality(g) <br>\n",
    "nx.draw(g,with_labels=True,node_size=[v * 2800 for v in cc.values()]) <br>\n",
    "\n",
    "##### Betweenness centrality\n",
    "bc=nx.betweenness_centrality(g) <br>\n",
    "nx.draw(g,with_labels=True,node_size=[v * 24900 for v in bc.values()]) <br>"
   ]
  },
  {
   "cell_type": "markdown",
   "metadata": {},
   "source": [
    "***"
   ]
  }
 ],
 "metadata": {
  "kernelspec": {
   "display_name": "Python 3",
   "language": "python",
   "name": "python3"
  },
  "language_info": {
   "codemirror_mode": {
    "name": "ipython",
    "version": 3
   },
   "file_extension": ".py",
   "mimetype": "text/x-python",
   "name": "python",
   "nbconvert_exporter": "python",
   "pygments_lexer": "ipython3",
   "version": "3.6.8"
  }
 },
 "nbformat": 4,
 "nbformat_minor": 2
}
