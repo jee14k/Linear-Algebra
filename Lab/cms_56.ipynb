{
 "cells": [
  {
   "cell_type": "markdown",
   "metadata": {},
   "source": [
    "# <center>LAB  RECORD</center>\n",
    "# <center>Name: Jeevan Koshy<center>\n",
    "# <center>Roll No: 1740256</center>"
   ]
  },
  {
   "cell_type": "markdown",
   "metadata": {},
   "source": [
    "# <center> Revision </center>"
   ]
  },
  {
   "cell_type": "markdown",
   "metadata": {},
   "source": [
    "## AIM ~ To get familiar with the environment of Jupyter using logical questions"
   ]
  },
  {
   "cell_type": "markdown",
   "metadata": {},
   "source": [
    "### 1. WAP to convert the month name to the number of days of that particular month. "
   ]
  },
  {
   "cell_type": "code",
   "execution_count": 1,
   "metadata": {},
   "outputs": [
    {
     "name": "stdout",
     "output_type": "stream",
     "text": [
      "Enter any month: Oct\n",
      "31\n"
     ]
    }
   ],
   "source": [
    "def mon(month):\n",
    "    if(month==\"Jan\" or \"January\"):\n",
    "        print(\"31\")\n",
    "    elif(month==\"February\" or month==\"Feb\"):\n",
    "        print(\"28\")  \n",
    "    elif(month==\"March\" or month==\"Mar\"):\n",
    "        print(\"31\")\n",
    "    elif(month==\"April\" or month==\"Apr\"):\n",
    "        print(\"30\")  \n",
    "    elif(month==\"May\"):\n",
    "        print(\"31\")\n",
    "    elif(month==\"June\" or month==\"Jun\"):\n",
    "        print(\"30\")\n",
    "    elif(month==\"July\" or month==\"Jul\"):\n",
    "        print(\"31\")\n",
    "    elif(month==\"August\" or month==\"Aug\"):\n",
    "        print(\"31\")\n",
    "    elif(month==\"September\" or month==\"Sep\"):\n",
    "        print(\"30\")\n",
    "    elif(month==\"October\" or month==\"Oct\"):\n",
    "        print(\"31\")\n",
    "    elif(month==\"November\" or month==\"Nov\"):\n",
    "        print(\"30\")\n",
    "    elif(month==\"December\" or month==\"Dec\"):\n",
    "        print(\"31\")\n",
    "        \n",
    "month = input(\"Enter any month: \")\n",
    "mon(month)"
   ]
  },
  {
   "cell_type": "markdown",
   "metadata": {},
   "source": [
    "### 2. WAP to display the grades of a student based on %"
   ]
  },
  {
   "cell_type": "code",
   "execution_count": 3,
   "metadata": {},
   "outputs": [
    {
     "name": "stdout",
     "output_type": "stream",
     "text": [
      "Grade C\n"
     ]
    }
   ],
   "source": [
    "def perc(x):\n",
    "    if(x>90):\n",
    "        print(\"Grade A\")\n",
    "    elif(x>80 and x<90):\n",
    "        print(\"Grade B\")\n",
    "    elif(x>70 and x<80):\n",
    "        print(\"Grade C\")\n",
    "    elif(x>60 and x<70):\n",
    "        print(\"Grade D\")\n",
    "    elif(x>50 and x<60):\n",
    "        print(\"Grade E\")\n",
    "    elif(x>40 and x<50):\n",
    "        print(\"Grade F\")\n",
    "    else:\n",
    "        print(\"FAIL!\")\n",
    "        \n",
    "perc(76)"
   ]
  },
  {
   "cell_type": "markdown",
   "metadata": {},
   "source": [
    "### 3. WAP to take 3 sides of a triangle and display if it is scalene, iscosceles or equilateral"
   ]
  },
  {
   "cell_type": "code",
   "execution_count": 4,
   "metadata": {},
   "outputs": [
    {
     "name": "stdout",
     "output_type": "stream",
     "text": [
      "Enter 3 sides of a triangle: \n",
      "Enter 1st side: 10\n",
      "Enter 2nd side: 20\n",
      "Enter 3rd side: 10\n",
      "It is an iscosceles triangle\n"
     ]
    }
   ],
   "source": [
    "print(\"Enter 3 sides of a triangle: \")\n",
    "a = input('Enter 1st side: ')\n",
    "b = input('Enter 2nd side: ')\n",
    "c = input('Enter 3rd side: ')\n",
    "if(a!=b and b!=c and a!=c):\n",
    "    print('It is a scalene triangle!')\n",
    "elif(a==b or b==c or a==c):\n",
    "    print('It is an iscosceles triangle')\n",
    "elif(a==b and b==c and a==c):\n",
    "    print('It is an equilateral triangle')"
   ]
  },
  {
   "cell_type": "markdown",
   "metadata": {},
   "source": [
    "### Conclusion ~ From the above code, we found \n",
    "#### - How to convert the name of a month to it's corresponding number of days\n",
    "#### - To display the grades of a student based on %. \n",
    "#### - To find out whether a triangle is scalene, iscosceles or equilateral"
   ]
  },
  {
   "cell_type": "markdown",
   "metadata": {},
   "source": [
    "# <center>MATRICES</center>"
   ]
  },
  {
   "cell_type": "markdown",
   "metadata": {},
   "source": [
    "# Taking input from user for matrix"
   ]
  },
  {
   "cell_type": "code",
   "execution_count": 2,
   "metadata": {},
   "outputs": [
    {
     "name": "stdout",
     "output_type": "stream",
     "text": [
      "Enter the number of rows: 3\n",
      "Enter the number of columns: 3\n",
      "\n",
      "There are 3 rows and 3 columns\n",
      "Enter the entries rowwise:\n",
      "1\n",
      "2\n",
      "3\n",
      "4\n",
      "5\n",
      "6\n",
      "7\n",
      "8\n",
      "9\n",
      "---------------\n",
      "THE MATRIX IS: \n",
      "---------------\n",
      "\n",
      "1 2 3 \n",
      "\n",
      "4 5 6 \n",
      "\n",
      "7 8 9 \n"
     ]
    }
   ],
   "source": [
    "def inp(m,n):\n",
    "    print()\n",
    "    print('There are {0} rows and {1} columns'.format(m,n))\n",
    "    # Initializing matrix \n",
    "    matrix = [] \n",
    "    print(\"Enter the entries rowwise:\") \n",
    "    \n",
    "    # For user input \n",
    "    for i in range(int(m)): # A for loop for row entries \n",
    "        a =[]\n",
    "        for j in range(int(n)): # A for loop for column entries \n",
    "            a.append(int(input())) \n",
    "        matrix.append(a) \n",
    "\n",
    "    # For printing the matrix \n",
    "    print('---------------')\n",
    "    print(\"THE MATRIX IS: \")\n",
    "    print('---------------')\n",
    "    for i in range(int(m)):\n",
    "        print()\n",
    "        for j in range(int(n)): \n",
    "            print(matrix[i][j], end = \" \") \n",
    "        print() \n",
    "    \n",
    "\n",
    "a = input('Enter the number of rows: ')\n",
    "b = input('Enter the number of columns: ')\n",
    "inp(a,b)"
   ]
  },
  {
   "cell_type": "markdown",
   "metadata": {},
   "source": [
    "### AIM ~ To perform operations on Matrices with the help of in - built functions in Python  "
   ]
  },
  {
   "cell_type": "markdown",
   "metadata": {},
   "source": [
    "## 1. Define 2 matrices"
   ]
  },
  {
   "cell_type": "code",
   "execution_count": 1,
   "metadata": {},
   "outputs": [
    {
     "name": "stdout",
     "output_type": "stream",
     "text": [
      "1st matrix = \n",
      "[[1 2 3]\n",
      " [4 5 6]\n",
      " [7 8 9]]\n",
      "2nd matrix = \n",
      "[[9 8 7]\n",
      " [6 5 4]\n",
      " [3 2 1]]\n"
     ]
    }
   ],
   "source": [
    "import numpy as np\n",
    "A = np.array([[1,2,3],[4,5,6],[7,8,9]])\n",
    "B = np.array([[9,8,7],[6,5,4],[3,2,1]])\n",
    "print(\"1st matrix = \")\n",
    "print(A)\n",
    "print(\"2nd matrix = \")\n",
    "print(B)"
   ]
  },
  {
   "cell_type": "markdown",
   "metadata": {},
   "source": [
    "## 2. Find the order of the matrix. "
   ]
  },
  {
   "cell_type": "code",
   "execution_count": 15,
   "metadata": {},
   "outputs": [
    {
     "name": "stdout",
     "output_type": "stream",
     "text": [
      "The order of the 1st matrix is: \n",
      "(3, 3)\n"
     ]
    }
   ],
   "source": [
    "ord_A = A.shape\n",
    "print(\"The order of the 1st matrix is: \")\n",
    "print(ord_A)"
   ]
  },
  {
   "cell_type": "markdown",
   "metadata": {},
   "source": [
    "## 3. Perform all basic operations on matrices (+,-,*,/) & find the transpose of a matrix "
   ]
  },
  {
   "cell_type": "markdown",
   "metadata": {},
   "source": [
    "### Addition"
   ]
  },
  {
   "cell_type": "code",
   "execution_count": 16,
   "metadata": {},
   "outputs": [
    {
     "name": "stdout",
     "output_type": "stream",
     "text": [
      "The sum of the 2 matrices are: \n",
      "[[10 10 10]\n",
      " [10 10 10]\n",
      " [10 10 10]]\n"
     ]
    }
   ],
   "source": [
    "A_add_B = np.add(A,B)\n",
    "print(\"The sum of the 2 matrices are: \")\n",
    "print(A_add_B)"
   ]
  },
  {
   "cell_type": "markdown",
   "metadata": {},
   "source": [
    "### Subtraction"
   ]
  },
  {
   "cell_type": "code",
   "execution_count": 17,
   "metadata": {},
   "outputs": [
    {
     "name": "stdout",
     "output_type": "stream",
     "text": [
      "The difference of the 2nd matrix from the 1st matrix is: \n",
      "[[-8 -6 -4]\n",
      " [-2  0  2]\n",
      " [ 4  6  8]]\n"
     ]
    }
   ],
   "source": [
    "A_sub_B = np.subtract(A,B)\n",
    "print(\"The difference of the 2nd matrix from the 1st matrix is: \")\n",
    "print(A_sub_B)"
   ]
  },
  {
   "cell_type": "code",
   "execution_count": 18,
   "metadata": {},
   "outputs": [
    {
     "name": "stdout",
     "output_type": "stream",
     "text": [
      "The difference of the 1st matrix from the 2nd matrix is:\n",
      "[[ 8  6  4]\n",
      " [ 2  0 -2]\n",
      " [-4 -6 -8]]\n"
     ]
    }
   ],
   "source": [
    "B_sub_A = np.subtract(B,A)\n",
    "print(\"The difference of the 1st matrix from the 2nd matrix is:\")\n",
    "print(B_sub_A)"
   ]
  },
  {
   "cell_type": "markdown",
   "metadata": {},
   "source": [
    "### Multiplication"
   ]
  },
  {
   "cell_type": "code",
   "execution_count": 20,
   "metadata": {},
   "outputs": [
    {
     "name": "stdout",
     "output_type": "stream",
     "text": [
      "The dot product of the 1st and 2nd matrix is: \n",
      "[[ 30  24  18]\n",
      " [ 84  69  54]\n",
      " [138 114  90]]\n"
     ]
    }
   ],
   "source": [
    "A_mul_B = np.dot(A,B)\n",
    "print(\"The dot product of the 1st and 2nd matrix is: \")\n",
    "print(A_mul_B)"
   ]
  },
  {
   "cell_type": "code",
   "execution_count": 21,
   "metadata": {},
   "outputs": [
    {
     "name": "stdout",
     "output_type": "stream",
     "text": [
      "The dot product of the 1st and 2nd matrix is: \n",
      "[[ 90 114 138]\n",
      " [ 54  69  84]\n",
      " [ 18  24  30]]\n"
     ]
    }
   ],
   "source": [
    "B_mul_A = np.dot(B,A)\n",
    "print(\"The dot product of the 1st and 2nd matrix is: \")\n",
    "print(B_mul_A)"
   ]
  },
  {
   "cell_type": "markdown",
   "metadata": {},
   "source": [
    "### Division"
   ]
  },
  {
   "cell_type": "code",
   "execution_count": 24,
   "metadata": {},
   "outputs": [
    {
     "name": "stdout",
     "output_type": "stream",
     "text": [
      "The division of the 2nd matrix from the 1st matrix is: \n",
      "[[ 0.11111111  0.25        0.42857143]\n",
      " [ 0.66666667  1.          1.5       ]\n",
      " [ 2.33333333  4.          9.        ]]\n"
     ]
    }
   ],
   "source": [
    "A_div_B = np.divide(A,B)\n",
    "print(\"The division of the 2nd matrix from the 1st matrix is: \")\n",
    "print(A_div_B)"
   ]
  },
  {
   "cell_type": "code",
   "execution_count": 25,
   "metadata": {},
   "outputs": [
    {
     "name": "stdout",
     "output_type": "stream",
     "text": [
      "The division of the 1st matrix from the 2nd matrix is: \n",
      "[[ 9.          4.          2.33333333]\n",
      " [ 1.5         1.          0.66666667]\n",
      " [ 0.42857143  0.25        0.11111111]]\n"
     ]
    }
   ],
   "source": [
    "B_div_A = np.divide(B,A)\n",
    "print(\"The division of the 1st matrix from the 2nd matrix is: \")\n",
    "print(B_div_A)"
   ]
  },
  {
   "cell_type": "markdown",
   "metadata": {},
   "source": [
    "### Transpose"
   ]
  },
  {
   "cell_type": "code",
   "execution_count": 26,
   "metadata": {},
   "outputs": [
    {
     "name": "stdout",
     "output_type": "stream",
     "text": [
      "The transpose of the 1st matrix is: \n",
      "[[1 4 7]\n",
      " [2 5 8]\n",
      " [3 6 9]]\n"
     ]
    }
   ],
   "source": [
    "A_trans = np.transpose(A)\n",
    "print(\"The transpose of the 1st matrix is: \")\n",
    "print(A_trans)"
   ]
  },
  {
   "cell_type": "code",
   "execution_count": 27,
   "metadata": {},
   "outputs": [
    {
     "name": "stdout",
     "output_type": "stream",
     "text": [
      "The transpose of the 2nd matrix is: \n",
      "[[9 6 3]\n",
      " [8 5 2]\n",
      " [7 4 1]]\n"
     ]
    }
   ],
   "source": [
    "B_trans = np.transpose(B)\n",
    "print(\"The transpose of the 2nd matrix is: \")\n",
    "print(B_trans)"
   ]
  },
  {
   "cell_type": "markdown",
   "metadata": {},
   "source": [
    "## 4. Find the upper and lower triangular part of a matrix"
   ]
  },
  {
   "cell_type": "markdown",
   "metadata": {},
   "source": [
    "### Upper triangular"
   ]
  },
  {
   "cell_type": "code",
   "execution_count": 28,
   "metadata": {},
   "outputs": [
    {
     "name": "stdout",
     "output_type": "stream",
     "text": [
      "The upper triangular part of the matrix is: \n",
      "[[1 2 3]\n",
      " [0 5 6]\n",
      " [0 0 9]]\n"
     ]
    }
   ],
   "source": [
    "A_upp = np.triu(A,k=0)\n",
    "print(\"The upper triangular part of the matrix is: \")\n",
    "print(A_upp)"
   ]
  },
  {
   "cell_type": "markdown",
   "metadata": {},
   "source": [
    "### Lower triangular"
   ]
  },
  {
   "cell_type": "code",
   "execution_count": 34,
   "metadata": {},
   "outputs": [
    {
     "name": "stdout",
     "output_type": "stream",
     "text": [
      "The lower triangular part of the matrix is: \n",
      "[[1 0 0]\n",
      " [4 5 0]\n",
      " [7 8 9]]\n"
     ]
    }
   ],
   "source": [
    "A_low = np.tril(A,k=0)\n",
    "print(\"The lower triangular part of the matrix is: \")\n",
    "print(A_low)"
   ]
  },
  {
   "cell_type": "markdown",
   "metadata": {},
   "source": [
    "## 5. Enter a 6X6 matrix 'X' and get - "
   ]
  },
  {
   "cell_type": "code",
   "execution_count": 4,
   "metadata": {},
   "outputs": [
    {
     "name": "stdout",
     "output_type": "stream",
     "text": [
      "The 6 by 6 matrix is: \n",
      "[[ 1  2  3  4  5  6]\n",
      " [ 7  8  9 10 11 12]\n",
      " [13 14 15 16 17 18]\n",
      " [19 20 21 22 23 24]\n",
      " [25 26 27 28 29 30]\n",
      " [31 32 33 34 35 36]]\n"
     ]
    }
   ],
   "source": [
    "X = np.array([[1,2,3,4,5,6],[7,8,9,10,11,12],[13,14,15,16,17,18],[19,20,21,22,23,24],[25,26,27,28,29,30],[31,32,33,34,35,36]])\n",
    "print(\"The 6 by 6 matrix is: \")\n",
    "print(X)"
   ]
  },
  {
   "cell_type": "markdown",
   "metadata": {},
   "source": [
    "### A.\tAny 5 elements of  the matrix 'X'"
   ]
  },
  {
   "cell_type": "code",
   "execution_count": 39,
   "metadata": {},
   "outputs": [
    {
     "name": "stdout",
     "output_type": "stream",
     "text": [
      "The 5 elements are: \n",
      "[1 2 3 4 5]\n"
     ]
    }
   ],
   "source": [
    "print(\"The 5 elements are: \")\n",
    "print(X[0,0:5])"
   ]
  },
  {
   "cell_type": "markdown",
   "metadata": {},
   "source": [
    "### B.1st, 3rd and 6th row of the matrix."
   ]
  },
  {
   "cell_type": "code",
   "execution_count": 41,
   "metadata": {},
   "outputs": [
    {
     "name": "stdout",
     "output_type": "stream",
     "text": [
      "The 1st, 3rd and 6th row of the matrix is: \n",
      "[[ 1  2  3  4  5  6]\n",
      " [13 14 15 16 17 18]\n",
      " [31 32 33 34 35 36]]\n"
     ]
    }
   ],
   "source": [
    "print(\"The 1st, 3rd and 6th row of the matrix is: \")\n",
    "print(X[[0,2,5]])"
   ]
  },
  {
   "cell_type": "markdown",
   "metadata": {},
   "source": [
    "### C. 3rd to 6th row of the matrix"
   ]
  },
  {
   "cell_type": "code",
   "execution_count": 42,
   "metadata": {},
   "outputs": [
    {
     "name": "stdout",
     "output_type": "stream",
     "text": [
      "The 3rd to 6th row of the matrix is: \n",
      "[[13 14 15 16 17 18]\n",
      " [19 20 21 22 23 24]\n",
      " [25 26 27 28 29 30]\n",
      " [31 32 33 34 35 36]]\n"
     ]
    }
   ],
   "source": [
    "print(\"The 3rd to 6th row of the matrix is: \")\n",
    "print(X[2:])"
   ]
  },
  {
   "cell_type": "markdown",
   "metadata": {},
   "source": [
    "### D. 4th and 6th row of the matrix"
   ]
  },
  {
   "cell_type": "code",
   "execution_count": 43,
   "metadata": {},
   "outputs": [
    {
     "name": "stdout",
     "output_type": "stream",
     "text": [
      "The 4th and 6th row of the matrix is\n",
      "[[19 20 21 22 23 24]\n",
      " [31 32 33 34 35 36]]\n"
     ]
    }
   ],
   "source": [
    "print(\"The 4th and 6th row of the matrix is\" )\n",
    "print(X[[3,5]])"
   ]
  },
  {
   "cell_type": "markdown",
   "metadata": {},
   "source": [
    "### E.\t1st row and all the columns of the matrix"
   ]
  },
  {
   "cell_type": "code",
   "execution_count": 44,
   "metadata": {},
   "outputs": [
    {
     "name": "stdout",
     "output_type": "stream",
     "text": [
      "The 1st row and all the columns of the matrix are:\n",
      "[1 2 3 4 5 6]\n"
     ]
    }
   ],
   "source": [
    "print(\"The 1st row and all the columns of the matrix are:\")\n",
    "print(X[0,:])"
   ]
  },
  {
   "cell_type": "markdown",
   "metadata": {},
   "source": [
    "### F.\tAll the rows and 3rd to 6th column of the matrix"
   ]
  },
  {
   "cell_type": "code",
   "execution_count": 47,
   "metadata": {},
   "outputs": [
    {
     "name": "stdout",
     "output_type": "stream",
     "text": [
      "All the rows from the 3rd to 6th column of the matrix are: \n",
      "[[ 3  4  5  6]\n",
      " [ 9 10 11 12]\n",
      " [15 16 17 18]\n",
      " [21 22 23 24]\n",
      " [27 28 29 30]\n",
      " [33 34 35 36]]\n"
     ]
    }
   ],
   "source": [
    "print(\"All the rows from the 3rd to 6th column of the matrix are: \")\n",
    "print(X[:,2:6])"
   ]
  },
  {
   "cell_type": "markdown",
   "metadata": {},
   "source": [
    "### G.\tAll the rows and second column of the matrix"
   ]
  },
  {
   "cell_type": "code",
   "execution_count": 5,
   "metadata": {},
   "outputs": [
    {
     "name": "stdout",
     "output_type": "stream",
     "text": [
      "The 2nd column of the matrix with all of its rows are: \n",
      "[[ 2]\n",
      " [ 8]\n",
      " [14]\n",
      " [20]\n",
      " [26]\n",
      " [32]]\n"
     ]
    }
   ],
   "source": [
    "print(\"The 2nd column of the matrix with all of its rows are: \")\n",
    "print(X[:,[1]])"
   ]
  },
  {
   "cell_type": "markdown",
   "metadata": {},
   "source": [
    "### H.\t1st, 2nd, 5th column of the matrix"
   ]
  },
  {
   "cell_type": "code",
   "execution_count": 6,
   "metadata": {},
   "outputs": [
    {
     "name": "stdout",
     "output_type": "stream",
     "text": [
      "The 1st, 2nd and 5th column of the matrix are - \n",
      "[[ 1  2  5]\n",
      " [ 7  8 11]\n",
      " [13 14 17]\n",
      " [19 20 23]\n",
      " [25 26 29]\n",
      " [31 32 35]]\n"
     ]
    }
   ],
   "source": [
    "print(\"The 1st, 2nd and 5th column of the matrix are - \")\n",
    "print(X[:,[0,1,4]])"
   ]
  },
  {
   "cell_type": "markdown",
   "metadata": {},
   "source": [
    "### I.\tSquare root of each element of the matrix"
   ]
  },
  {
   "cell_type": "code",
   "execution_count": 7,
   "metadata": {},
   "outputs": [
    {
     "name": "stdout",
     "output_type": "stream",
     "text": [
      "The square root of each element of the matrix is: \n",
      "[[ 1.          1.41421356  1.73205081  2.          2.23606798  2.44948974]\n",
      " [ 2.64575131  2.82842712  3.          3.16227766  3.31662479  3.46410162]\n",
      " [ 3.60555128  3.74165739  3.87298335  4.          4.12310563  4.24264069]\n",
      " [ 4.35889894  4.47213595  4.58257569  4.69041576  4.79583152  4.89897949]\n",
      " [ 5.          5.09901951  5.19615242  5.29150262  5.38516481  5.47722558]\n",
      " [ 5.56776436  5.65685425  5.74456265  5.83095189  5.91607978  6.        ]]\n"
     ]
    }
   ],
   "source": [
    "print(\"The square root of each element of the matrix is: \")\n",
    "print(np.sqrt(X))"
   ]
  },
  {
   "cell_type": "markdown",
   "metadata": {},
   "source": [
    "### J.\tRow wise  summation ,column wise summation"
   ]
  },
  {
   "cell_type": "code",
   "execution_count": 10,
   "metadata": {},
   "outputs": [
    {
     "name": "stdout",
     "output_type": "stream",
     "text": [
      "Summation of 1st row: \n",
      "21\n",
      "Summation of 2nd row: \n",
      "57\n",
      "Summation of 3rd row: \n",
      "93\n",
      "Summation of 4th row: \n",
      "129\n",
      "Summation of 5th row: \n",
      "165\n",
      "Summation of 6th row: \n",
      "201\n"
     ]
    }
   ],
   "source": [
    "print(\"Summation of 1st row: \")\n",
    "print(np.sum(X[0,0:]))\n",
    "print(\"Summation of 2nd row: \")\n",
    "print(np.sum(X[1,0:]))\n",
    "print(\"Summation of 3rd row: \")\n",
    "print(np.sum(X[2,0:]))\n",
    "print(\"Summation of 4th row: \")\n",
    "print(np.sum(X[3,0:]))\n",
    "print(\"Summation of 5th row: \")\n",
    "print(np.sum(X[4,0:]))\n",
    "print(\"Summation of 6th row: \")\n",
    "print(np.sum(X[5,0:]))"
   ]
  },
  {
   "cell_type": "markdown",
   "metadata": {},
   "source": [
    "### K.\tSum of all the elements."
   ]
  },
  {
   "cell_type": "code",
   "execution_count": 11,
   "metadata": {},
   "outputs": [
    {
     "name": "stdout",
     "output_type": "stream",
     "text": [
      "The sum of all the elements in the matrix is: \n"
     ]
    },
    {
     "data": {
      "text/plain": [
       "666"
      ]
     },
     "execution_count": 11,
     "metadata": {},
     "output_type": "execute_result"
    }
   ],
   "source": [
    "print(\"The sum of all the elements in the matrix is: \")\n",
    "np.sum(X[:,:])"
   ]
  },
  {
   "cell_type": "markdown",
   "metadata": {},
   "source": [
    "### 6. Solve the following system of linear equation using built in functions."
   ]
  },
  {
   "cell_type": "markdown",
   "metadata": {},
   "source": [
    "### A. \n",
    "#### x+y-2z = 1         \n",
    "#### 2x-3y+z = -8\n",
    "#### 3x+y+4z = 7"
   ]
  },
  {
   "cell_type": "code",
   "execution_count": 12,
   "metadata": {},
   "outputs": [
    {
     "name": "stdout",
     "output_type": "stream",
     "text": [
      "[ -2.96059473e-16   3.00000000e+00   1.00000000e+00]\n"
     ]
    }
   ],
   "source": [
    "a = np.array([[1,1,-2],[2,-3,1],[3,1,4]])\n",
    "b = np.array([1,-8,7])\n",
    "print(np.linalg.solve(a,b))"
   ]
  },
  {
   "cell_type": "markdown",
   "metadata": {},
   "source": [
    "### B. \n",
    "#### x+2y-z = 1\n",
    "#### 2x+y+4z = 2\n",
    "#### 3x+3y+4z = 1"
   ]
  },
  {
   "cell_type": "code",
   "execution_count": 13,
   "metadata": {},
   "outputs": [
    {
     "name": "stdout",
     "output_type": "stream",
     "text": [
      "[ 7. -4. -2.]\n"
     ]
    }
   ],
   "source": [
    "a = np.array([[1,2,-1],[2,1,4],[3,3,4]])\n",
    "b = np.array([1,2,1])\n",
    "print(np.linalg.solve(a,b))"
   ]
  },
  {
   "cell_type": "markdown",
   "metadata": {},
   "source": [
    "### C.\n",
    "#### x-y+z-s = 2\n",
    "#### x-y+z+s = 0\n",
    "#### 4x-4y+4z = 4\n",
    "#### -2x+2y-2z+s = -3"
   ]
  },
  {
   "cell_type": "code",
   "execution_count": 14,
   "metadata": {},
   "outputs": [
    {
     "ename": "LinAlgError",
     "evalue": "1-dimensional array given. Array must be at least two-dimensional",
     "output_type": "error",
     "traceback": [
      "\u001b[1;31m---------------------------------------------------------------------------\u001b[0m",
      "\u001b[1;31mLinAlgError\u001b[0m                               Traceback (most recent call last)",
      "\u001b[1;32m<ipython-input-14-dda4fb9f66d2>\u001b[0m in \u001b[0;36m<module>\u001b[1;34m()\u001b[0m\n\u001b[0;32m      1\u001b[0m \u001b[0ma\u001b[0m \u001b[1;33m=\u001b[0m \u001b[0mnp\u001b[0m\u001b[1;33m.\u001b[0m\u001b[0marray\u001b[0m\u001b[1;33m(\u001b[0m\u001b[1;33m[\u001b[0m\u001b[1;33m[\u001b[0m\u001b[1;36m1\u001b[0m\u001b[1;33m,\u001b[0m\u001b[1;33m-\u001b[0m\u001b[1;36m1\u001b[0m\u001b[1;33m,\u001b[0m\u001b[1;36m1\u001b[0m\u001b[1;33m,\u001b[0m\u001b[1;33m-\u001b[0m\u001b[1;36m1\u001b[0m\u001b[1;33m]\u001b[0m\u001b[1;33m,\u001b[0m\u001b[1;33m[\u001b[0m\u001b[1;36m1\u001b[0m\u001b[1;33m,\u001b[0m\u001b[1;33m-\u001b[0m\u001b[1;36m1\u001b[0m\u001b[1;33m,\u001b[0m\u001b[1;36m1\u001b[0m\u001b[1;33m,\u001b[0m\u001b[1;36m1\u001b[0m\u001b[1;33m]\u001b[0m\u001b[1;33m,\u001b[0m\u001b[1;33m[\u001b[0m\u001b[1;36m4\u001b[0m\u001b[1;33m,\u001b[0m\u001b[1;33m-\u001b[0m\u001b[1;36m4\u001b[0m\u001b[1;33m,\u001b[0m\u001b[1;36m4\u001b[0m\u001b[1;33m]\u001b[0m\u001b[1;33m,\u001b[0m\u001b[1;33m[\u001b[0m\u001b[1;33m-\u001b[0m\u001b[1;36m2\u001b[0m\u001b[1;33m,\u001b[0m\u001b[1;36m2\u001b[0m\u001b[1;33m,\u001b[0m\u001b[1;33m-\u001b[0m\u001b[1;36m2\u001b[0m\u001b[1;33m,\u001b[0m\u001b[1;36m1\u001b[0m\u001b[1;33m]\u001b[0m\u001b[1;33m]\u001b[0m\u001b[1;33m)\u001b[0m\u001b[1;33m\u001b[0m\u001b[1;33m\u001b[0m\u001b[0m\n\u001b[0;32m      2\u001b[0m \u001b[0mb\u001b[0m \u001b[1;33m=\u001b[0m \u001b[0mnp\u001b[0m\u001b[1;33m.\u001b[0m\u001b[0marray\u001b[0m\u001b[1;33m(\u001b[0m\u001b[1;33m[\u001b[0m\u001b[1;36m2\u001b[0m\u001b[1;33m,\u001b[0m\u001b[1;36m0\u001b[0m\u001b[1;33m,\u001b[0m\u001b[1;36m4\u001b[0m\u001b[1;33m,\u001b[0m\u001b[1;33m-\u001b[0m\u001b[1;36m3\u001b[0m\u001b[1;33m]\u001b[0m\u001b[1;33m)\u001b[0m\u001b[1;33m\u001b[0m\u001b[1;33m\u001b[0m\u001b[0m\n\u001b[1;32m----> 3\u001b[1;33m \u001b[0mnp\u001b[0m\u001b[1;33m.\u001b[0m\u001b[0mlinalg\u001b[0m\u001b[1;33m.\u001b[0m\u001b[0msolve\u001b[0m\u001b[1;33m(\u001b[0m\u001b[0ma\u001b[0m\u001b[1;33m,\u001b[0m\u001b[0mb\u001b[0m\u001b[1;33m)\u001b[0m\u001b[1;33m\u001b[0m\u001b[1;33m\u001b[0m\u001b[0m\n\u001b[0m\u001b[0;32m      4\u001b[0m \u001b[1;31m# The matrix is singular and the determinant is 0.\u001b[0m\u001b[1;33m\u001b[0m\u001b[1;33m\u001b[0m\u001b[1;33m\u001b[0m\u001b[0m\n",
      "\u001b[1;32mC:\\Users\\Jeevan\\Anaconda3\\lib\\site-packages\\numpy\\linalg\\linalg.py\u001b[0m in \u001b[0;36msolve\u001b[1;34m(a, b)\u001b[0m\n\u001b[0;32m    355\u001b[0m     \"\"\"\n\u001b[0;32m    356\u001b[0m     \u001b[0ma\u001b[0m\u001b[1;33m,\u001b[0m \u001b[0m_\u001b[0m \u001b[1;33m=\u001b[0m \u001b[0m_makearray\u001b[0m\u001b[1;33m(\u001b[0m\u001b[0ma\u001b[0m\u001b[1;33m)\u001b[0m\u001b[1;33m\u001b[0m\u001b[1;33m\u001b[0m\u001b[0m\n\u001b[1;32m--> 357\u001b[1;33m     \u001b[0m_assertRankAtLeast2\u001b[0m\u001b[1;33m(\u001b[0m\u001b[0ma\u001b[0m\u001b[1;33m)\u001b[0m\u001b[1;33m\u001b[0m\u001b[1;33m\u001b[0m\u001b[0m\n\u001b[0m\u001b[0;32m    358\u001b[0m     \u001b[0m_assertNdSquareness\u001b[0m\u001b[1;33m(\u001b[0m\u001b[0ma\u001b[0m\u001b[1;33m)\u001b[0m\u001b[1;33m\u001b[0m\u001b[1;33m\u001b[0m\u001b[0m\n\u001b[0;32m    359\u001b[0m     \u001b[0mb\u001b[0m\u001b[1;33m,\u001b[0m \u001b[0mwrap\u001b[0m \u001b[1;33m=\u001b[0m \u001b[0m_makearray\u001b[0m\u001b[1;33m(\u001b[0m\u001b[0mb\u001b[0m\u001b[1;33m)\u001b[0m\u001b[1;33m\u001b[0m\u001b[1;33m\u001b[0m\u001b[0m\n",
      "\u001b[1;32mC:\\Users\\Jeevan\\Anaconda3\\lib\\site-packages\\numpy\\linalg\\linalg.py\u001b[0m in \u001b[0;36m_assertRankAtLeast2\u001b[1;34m(*arrays)\u001b[0m\n\u001b[0;32m    200\u001b[0m         \u001b[1;32mif\u001b[0m \u001b[0mlen\u001b[0m\u001b[1;33m(\u001b[0m\u001b[0ma\u001b[0m\u001b[1;33m.\u001b[0m\u001b[0mshape\u001b[0m\u001b[1;33m)\u001b[0m \u001b[1;33m<\u001b[0m \u001b[1;36m2\u001b[0m\u001b[1;33m:\u001b[0m\u001b[1;33m\u001b[0m\u001b[1;33m\u001b[0m\u001b[0m\n\u001b[0;32m    201\u001b[0m             raise LinAlgError('%d-dimensional array given. Array must be '\n\u001b[1;32m--> 202\u001b[1;33m                     'at least two-dimensional' % len(a.shape))\n\u001b[0m\u001b[0;32m    203\u001b[0m \u001b[1;33m\u001b[0m\u001b[0m\n\u001b[0;32m    204\u001b[0m \u001b[1;32mdef\u001b[0m \u001b[0m_assertSquareness\u001b[0m\u001b[1;33m(\u001b[0m\u001b[1;33m*\u001b[0m\u001b[0marrays\u001b[0m\u001b[1;33m)\u001b[0m\u001b[1;33m:\u001b[0m\u001b[1;33m\u001b[0m\u001b[1;33m\u001b[0m\u001b[0m\n",
      "\u001b[1;31mLinAlgError\u001b[0m: 1-dimensional array given. Array must be at least two-dimensional"
     ]
    }
   ],
   "source": [
    "a = np.array([[1,-1,1,-1],[1,-1,1,1],[4,-4,4],[-2,2,-2,1]])\n",
    "b = np.array([2,0,4,-3])\n",
    "np.linalg.solve(a,b)\n",
    "# The matrix is singular and the determinant is 0. "
   ]
  },
  {
   "cell_type": "markdown",
   "metadata": {},
   "source": [
    "### D. \n",
    "#### 2x+y=3\n",
    "#### 4x+2y=6"
   ]
  },
  {
   "cell_type": "code",
   "execution_count": 15,
   "metadata": {},
   "outputs": [
    {
     "ename": "LinAlgError",
     "evalue": "Singular matrix",
     "output_type": "error",
     "traceback": [
      "\u001b[1;31m---------------------------------------------------------------------------\u001b[0m",
      "\u001b[1;31mLinAlgError\u001b[0m                               Traceback (most recent call last)",
      "\u001b[1;32m<ipython-input-15-5eb615042530>\u001b[0m in \u001b[0;36m<module>\u001b[1;34m()\u001b[0m\n\u001b[0;32m      1\u001b[0m \u001b[0ma\u001b[0m \u001b[1;33m=\u001b[0m \u001b[0mnp\u001b[0m\u001b[1;33m.\u001b[0m\u001b[0marray\u001b[0m\u001b[1;33m(\u001b[0m\u001b[1;33m[\u001b[0m\u001b[1;33m[\u001b[0m\u001b[1;36m2\u001b[0m\u001b[1;33m,\u001b[0m\u001b[1;36m1\u001b[0m\u001b[1;33m]\u001b[0m\u001b[1;33m,\u001b[0m\u001b[1;33m[\u001b[0m\u001b[1;36m4\u001b[0m\u001b[1;33m,\u001b[0m\u001b[1;36m2\u001b[0m\u001b[1;33m]\u001b[0m\u001b[1;33m]\u001b[0m\u001b[1;33m)\u001b[0m\u001b[1;33m\u001b[0m\u001b[1;33m\u001b[0m\u001b[0m\n\u001b[0;32m      2\u001b[0m \u001b[0mb\u001b[0m \u001b[1;33m=\u001b[0m \u001b[0mnp\u001b[0m\u001b[1;33m.\u001b[0m\u001b[0marray\u001b[0m\u001b[1;33m(\u001b[0m\u001b[1;33m[\u001b[0m\u001b[1;36m3\u001b[0m\u001b[1;33m,\u001b[0m\u001b[1;36m6\u001b[0m\u001b[1;33m]\u001b[0m\u001b[1;33m)\u001b[0m\u001b[1;33m\u001b[0m\u001b[1;33m\u001b[0m\u001b[0m\n\u001b[1;32m----> 3\u001b[1;33m \u001b[0mnp\u001b[0m\u001b[1;33m.\u001b[0m\u001b[0mlinalg\u001b[0m\u001b[1;33m.\u001b[0m\u001b[0msolve\u001b[0m\u001b[1;33m(\u001b[0m\u001b[0ma\u001b[0m\u001b[1;33m,\u001b[0m\u001b[0mb\u001b[0m\u001b[1;33m)\u001b[0m\u001b[1;33m\u001b[0m\u001b[1;33m\u001b[0m\u001b[0m\n\u001b[0m\u001b[0;32m      4\u001b[0m \u001b[1;31m# The matrix form is singular and hence cannot be solved\u001b[0m\u001b[1;33m\u001b[0m\u001b[1;33m\u001b[0m\u001b[1;33m\u001b[0m\u001b[0m\n",
      "\u001b[1;32mC:\\Users\\Jeevan\\Anaconda3\\lib\\site-packages\\numpy\\linalg\\linalg.py\u001b[0m in \u001b[0;36msolve\u001b[1;34m(a, b)\u001b[0m\n\u001b[0;32m    382\u001b[0m     \u001b[0msignature\u001b[0m \u001b[1;33m=\u001b[0m \u001b[1;34m'DD->D'\u001b[0m \u001b[1;32mif\u001b[0m \u001b[0misComplexType\u001b[0m\u001b[1;33m(\u001b[0m\u001b[0mt\u001b[0m\u001b[1;33m)\u001b[0m \u001b[1;32melse\u001b[0m \u001b[1;34m'dd->d'\u001b[0m\u001b[1;33m\u001b[0m\u001b[1;33m\u001b[0m\u001b[0m\n\u001b[0;32m    383\u001b[0m     \u001b[0mextobj\u001b[0m \u001b[1;33m=\u001b[0m \u001b[0mget_linalg_error_extobj\u001b[0m\u001b[1;33m(\u001b[0m\u001b[0m_raise_linalgerror_singular\u001b[0m\u001b[1;33m)\u001b[0m\u001b[1;33m\u001b[0m\u001b[1;33m\u001b[0m\u001b[0m\n\u001b[1;32m--> 384\u001b[1;33m     \u001b[0mr\u001b[0m \u001b[1;33m=\u001b[0m \u001b[0mgufunc\u001b[0m\u001b[1;33m(\u001b[0m\u001b[0ma\u001b[0m\u001b[1;33m,\u001b[0m \u001b[0mb\u001b[0m\u001b[1;33m,\u001b[0m \u001b[0msignature\u001b[0m\u001b[1;33m=\u001b[0m\u001b[0msignature\u001b[0m\u001b[1;33m,\u001b[0m \u001b[0mextobj\u001b[0m\u001b[1;33m=\u001b[0m\u001b[0mextobj\u001b[0m\u001b[1;33m)\u001b[0m\u001b[1;33m\u001b[0m\u001b[1;33m\u001b[0m\u001b[0m\n\u001b[0m\u001b[0;32m    385\u001b[0m \u001b[1;33m\u001b[0m\u001b[0m\n\u001b[0;32m    386\u001b[0m     \u001b[1;32mreturn\u001b[0m \u001b[0mwrap\u001b[0m\u001b[1;33m(\u001b[0m\u001b[0mr\u001b[0m\u001b[1;33m.\u001b[0m\u001b[0mastype\u001b[0m\u001b[1;33m(\u001b[0m\u001b[0mresult_t\u001b[0m\u001b[1;33m,\u001b[0m \u001b[0mcopy\u001b[0m\u001b[1;33m=\u001b[0m\u001b[1;32mFalse\u001b[0m\u001b[1;33m)\u001b[0m\u001b[1;33m)\u001b[0m\u001b[1;33m\u001b[0m\u001b[1;33m\u001b[0m\u001b[0m\n",
      "\u001b[1;32mC:\\Users\\Jeevan\\Anaconda3\\lib\\site-packages\\numpy\\linalg\\linalg.py\u001b[0m in \u001b[0;36m_raise_linalgerror_singular\u001b[1;34m(err, flag)\u001b[0m\n\u001b[0;32m     88\u001b[0m \u001b[1;33m\u001b[0m\u001b[0m\n\u001b[0;32m     89\u001b[0m \u001b[1;32mdef\u001b[0m \u001b[0m_raise_linalgerror_singular\u001b[0m\u001b[1;33m(\u001b[0m\u001b[0merr\u001b[0m\u001b[1;33m,\u001b[0m \u001b[0mflag\u001b[0m\u001b[1;33m)\u001b[0m\u001b[1;33m:\u001b[0m\u001b[1;33m\u001b[0m\u001b[1;33m\u001b[0m\u001b[0m\n\u001b[1;32m---> 90\u001b[1;33m     \u001b[1;32mraise\u001b[0m \u001b[0mLinAlgError\u001b[0m\u001b[1;33m(\u001b[0m\u001b[1;34m\"Singular matrix\"\u001b[0m\u001b[1;33m)\u001b[0m\u001b[1;33m\u001b[0m\u001b[1;33m\u001b[0m\u001b[0m\n\u001b[0m\u001b[0;32m     91\u001b[0m \u001b[1;33m\u001b[0m\u001b[0m\n\u001b[0;32m     92\u001b[0m \u001b[1;32mdef\u001b[0m \u001b[0m_raise_linalgerror_nonposdef\u001b[0m\u001b[1;33m(\u001b[0m\u001b[0merr\u001b[0m\u001b[1;33m,\u001b[0m \u001b[0mflag\u001b[0m\u001b[1;33m)\u001b[0m\u001b[1;33m:\u001b[0m\u001b[1;33m\u001b[0m\u001b[1;33m\u001b[0m\u001b[0m\n",
      "\u001b[1;31mLinAlgError\u001b[0m: Singular matrix"
     ]
    }
   ],
   "source": [
    "a = np.array([[2,1],[4,2]])\n",
    "b = np.array([3,6])\n",
    "np.linalg.solve(a,b)\n",
    "# The matrix form is singular and hence cannot be solved"
   ]
  },
  {
   "cell_type": "markdown",
   "metadata": {},
   "source": [
    "### E. \n",
    "#### x+2y-z = 1\n",
    "####   2x+y+5z = 2\n",
    "#### 3x+3y+4z = 1"
   ]
  },
  {
   "cell_type": "code",
   "execution_count": 16,
   "metadata": {},
   "outputs": [
    {
     "name": "stdout",
     "output_type": "stream",
     "text": [
      "[ -1.04293886e+16   6.63688366e+15   2.84437871e+15]\n"
     ]
    }
   ],
   "source": [
    "a = np.array([[1,2,-1],[2,1,5],[3,3,4]])\n",
    "b = np.array([1,2,1])\n",
    "print(np.linalg.solve(a,b))"
   ]
  },
  {
   "cell_type": "markdown",
   "metadata": {},
   "source": [
    "### F. \n",
    "#### 2x+y-2z = -3\n",
    "#### x-3y+z = 8\n",
    "#### 4x-y-2z = 3"
   ]
  },
  {
   "cell_type": "code",
   "execution_count": 17,
   "metadata": {},
   "outputs": [
    {
     "name": "stdout",
     "output_type": "stream",
     "text": [
      "[ 2. -1.  3.]\n"
     ]
    }
   ],
   "source": [
    "a = np.array([[2,1,-2],[1,-3,1],[4,-1,-2]])\n",
    "b = np.array([-3,8,3])\n",
    "print(np.linalg.solve(a,b))"
   ]
  },
  {
   "cell_type": "markdown",
   "metadata": {},
   "source": [
    "### G. \n",
    "#### 2x+y=3\n",
    "#### 2x-y=0\n",
    "#### x-2y=4"
   ]
  },
  {
   "cell_type": "code",
   "execution_count": 19,
   "metadata": {},
   "outputs": [
    {
     "ename": "LinAlgError",
     "evalue": "Last 2 dimensions of the array must be square",
     "output_type": "error",
     "traceback": [
      "\u001b[1;31m---------------------------------------------------------------------------\u001b[0m",
      "\u001b[1;31mLinAlgError\u001b[0m                               Traceback (most recent call last)",
      "\u001b[1;32m<ipython-input-19-7460f17ef1cf>\u001b[0m in \u001b[0;36m<module>\u001b[1;34m()\u001b[0m\n\u001b[0;32m      1\u001b[0m \u001b[0ma\u001b[0m \u001b[1;33m=\u001b[0m \u001b[0mnp\u001b[0m\u001b[1;33m.\u001b[0m\u001b[0marray\u001b[0m\u001b[1;33m(\u001b[0m\u001b[1;33m[\u001b[0m\u001b[1;33m[\u001b[0m\u001b[1;36m2\u001b[0m\u001b[1;33m,\u001b[0m\u001b[1;36m1\u001b[0m\u001b[1;33m]\u001b[0m\u001b[1;33m,\u001b[0m\u001b[1;33m[\u001b[0m\u001b[1;36m2\u001b[0m\u001b[1;33m,\u001b[0m\u001b[1;33m-\u001b[0m\u001b[1;36m1\u001b[0m\u001b[1;33m]\u001b[0m\u001b[1;33m,\u001b[0m\u001b[1;33m[\u001b[0m\u001b[1;36m1\u001b[0m\u001b[1;33m,\u001b[0m\u001b[1;33m-\u001b[0m\u001b[1;36m2\u001b[0m\u001b[1;33m]\u001b[0m\u001b[1;33m]\u001b[0m\u001b[1;33m)\u001b[0m\u001b[1;33m\u001b[0m\u001b[1;33m\u001b[0m\u001b[0m\n\u001b[0;32m      2\u001b[0m \u001b[0mb\u001b[0m \u001b[1;33m=\u001b[0m \u001b[0mnp\u001b[0m\u001b[1;33m.\u001b[0m\u001b[0marray\u001b[0m\u001b[1;33m(\u001b[0m\u001b[1;33m[\u001b[0m\u001b[1;33m[\u001b[0m\u001b[1;36m3\u001b[0m\u001b[1;33m,\u001b[0m\u001b[1;36m0\u001b[0m\u001b[1;33m,\u001b[0m\u001b[1;36m4\u001b[0m\u001b[1;33m]\u001b[0m\u001b[1;33m]\u001b[0m\u001b[1;33m)\u001b[0m\u001b[1;33m\u001b[0m\u001b[1;33m\u001b[0m\u001b[0m\n\u001b[1;32m----> 3\u001b[1;33m \u001b[0mnp\u001b[0m\u001b[1;33m.\u001b[0m\u001b[0mlinalg\u001b[0m\u001b[1;33m.\u001b[0m\u001b[0msolve\u001b[0m\u001b[1;33m(\u001b[0m\u001b[0ma\u001b[0m\u001b[1;33m,\u001b[0m\u001b[0mb\u001b[0m\u001b[1;33m)\u001b[0m\u001b[1;33m\u001b[0m\u001b[1;33m\u001b[0m\u001b[0m\n\u001b[0m\u001b[0;32m      4\u001b[0m \u001b[1;31m# Since the matrix is square matrix it cannot be solved\u001b[0m\u001b[1;33m\u001b[0m\u001b[1;33m\u001b[0m\u001b[1;33m\u001b[0m\u001b[0m\n",
      "\u001b[1;32mC:\\Users\\Jeevan\\Anaconda3\\lib\\site-packages\\numpy\\linalg\\linalg.py\u001b[0m in \u001b[0;36msolve\u001b[1;34m(a, b)\u001b[0m\n\u001b[0;32m    356\u001b[0m     \u001b[0ma\u001b[0m\u001b[1;33m,\u001b[0m \u001b[0m_\u001b[0m \u001b[1;33m=\u001b[0m \u001b[0m_makearray\u001b[0m\u001b[1;33m(\u001b[0m\u001b[0ma\u001b[0m\u001b[1;33m)\u001b[0m\u001b[1;33m\u001b[0m\u001b[1;33m\u001b[0m\u001b[0m\n\u001b[0;32m    357\u001b[0m     \u001b[0m_assertRankAtLeast2\u001b[0m\u001b[1;33m(\u001b[0m\u001b[0ma\u001b[0m\u001b[1;33m)\u001b[0m\u001b[1;33m\u001b[0m\u001b[1;33m\u001b[0m\u001b[0m\n\u001b[1;32m--> 358\u001b[1;33m     \u001b[0m_assertNdSquareness\u001b[0m\u001b[1;33m(\u001b[0m\u001b[0ma\u001b[0m\u001b[1;33m)\u001b[0m\u001b[1;33m\u001b[0m\u001b[1;33m\u001b[0m\u001b[0m\n\u001b[0m\u001b[0;32m    359\u001b[0m     \u001b[0mb\u001b[0m\u001b[1;33m,\u001b[0m \u001b[0mwrap\u001b[0m \u001b[1;33m=\u001b[0m \u001b[0m_makearray\u001b[0m\u001b[1;33m(\u001b[0m\u001b[0mb\u001b[0m\u001b[1;33m)\u001b[0m\u001b[1;33m\u001b[0m\u001b[1;33m\u001b[0m\u001b[0m\n\u001b[0;32m    360\u001b[0m     \u001b[0mt\u001b[0m\u001b[1;33m,\u001b[0m \u001b[0mresult_t\u001b[0m \u001b[1;33m=\u001b[0m \u001b[0m_commonType\u001b[0m\u001b[1;33m(\u001b[0m\u001b[0ma\u001b[0m\u001b[1;33m,\u001b[0m \u001b[0mb\u001b[0m\u001b[1;33m)\u001b[0m\u001b[1;33m\u001b[0m\u001b[1;33m\u001b[0m\u001b[0m\n",
      "\u001b[1;32mC:\\Users\\Jeevan\\Anaconda3\\lib\\site-packages\\numpy\\linalg\\linalg.py\u001b[0m in \u001b[0;36m_assertNdSquareness\u001b[1;34m(*arrays)\u001b[0m\n\u001b[0;32m    210\u001b[0m     \u001b[1;32mfor\u001b[0m \u001b[0ma\u001b[0m \u001b[1;32min\u001b[0m \u001b[0marrays\u001b[0m\u001b[1;33m:\u001b[0m\u001b[1;33m\u001b[0m\u001b[1;33m\u001b[0m\u001b[0m\n\u001b[0;32m    211\u001b[0m         \u001b[1;32mif\u001b[0m \u001b[0mmax\u001b[0m\u001b[1;33m(\u001b[0m\u001b[0ma\u001b[0m\u001b[1;33m.\u001b[0m\u001b[0mshape\u001b[0m\u001b[1;33m[\u001b[0m\u001b[1;33m-\u001b[0m\u001b[1;36m2\u001b[0m\u001b[1;33m:\u001b[0m\u001b[1;33m]\u001b[0m\u001b[1;33m)\u001b[0m \u001b[1;33m!=\u001b[0m \u001b[0mmin\u001b[0m\u001b[1;33m(\u001b[0m\u001b[0ma\u001b[0m\u001b[1;33m.\u001b[0m\u001b[0mshape\u001b[0m\u001b[1;33m[\u001b[0m\u001b[1;33m-\u001b[0m\u001b[1;36m2\u001b[0m\u001b[1;33m:\u001b[0m\u001b[1;33m]\u001b[0m\u001b[1;33m)\u001b[0m\u001b[1;33m:\u001b[0m\u001b[1;33m\u001b[0m\u001b[1;33m\u001b[0m\u001b[0m\n\u001b[1;32m--> 212\u001b[1;33m             \u001b[1;32mraise\u001b[0m \u001b[0mLinAlgError\u001b[0m\u001b[1;33m(\u001b[0m\u001b[1;34m'Last 2 dimensions of the array must be square'\u001b[0m\u001b[1;33m)\u001b[0m\u001b[1;33m\u001b[0m\u001b[1;33m\u001b[0m\u001b[0m\n\u001b[0m\u001b[0;32m    213\u001b[0m \u001b[1;33m\u001b[0m\u001b[0m\n\u001b[0;32m    214\u001b[0m \u001b[1;32mdef\u001b[0m \u001b[0m_assertFinite\u001b[0m\u001b[1;33m(\u001b[0m\u001b[1;33m*\u001b[0m\u001b[0marrays\u001b[0m\u001b[1;33m)\u001b[0m\u001b[1;33m:\u001b[0m\u001b[1;33m\u001b[0m\u001b[1;33m\u001b[0m\u001b[0m\n",
      "\u001b[1;31mLinAlgError\u001b[0m: Last 2 dimensions of the array must be square"
     ]
    }
   ],
   "source": [
    "a = np.array([[2,1],[2,-1],[1,-2]])\n",
    "b = np.array([[3,0,4]])\n",
    "np.linalg.solve(a,b)\n",
    "# Since the matrix is square matrix it cannot be solved"
   ]
  },
  {
   "cell_type": "markdown",
   "metadata": {},
   "source": [
    "### H.\n",
    "#### 2x+y-2z = 10\n",
    "#### 3x+2y+2z = 1\n",
    "#### 5x+4y+3z = 4"
   ]
  },
  {
   "cell_type": "code",
   "execution_count": 18,
   "metadata": {},
   "outputs": [
    {
     "name": "stdout",
     "output_type": "stream",
     "text": [
      "[ 1.  2. -3.]\n"
     ]
    }
   ],
   "source": [
    "a = np.array([[2,1,-2],[3,2,2],[5,4,3]])\n",
    "b = np.array([10,1,4])\n",
    "print(np.linalg.solve(a,b))"
   ]
  },
  {
   "cell_type": "markdown",
   "metadata": {},
   "source": [
    "### I. \n",
    "#### x+2y-3z = -1\n",
    "#### 3x-y+2z = 7\n",
    "#### 5x+3y-4z = 2"
   ]
  },
  {
   "cell_type": "code",
   "execution_count": 21,
   "metadata": {},
   "outputs": [
    {
     "name": "stdout",
     "output_type": "stream",
     "text": [
      "[  8.77324603e+14  -9.65057063e+15  -6.14127222e+15]\n"
     ]
    }
   ],
   "source": [
    "a = np.array([[1,2,-3],[3,-1,2],[5,3,-4]])\n",
    "b = np.array([-1,7,2])\n",
    "print(np.linalg.solve(a,b))"
   ]
  },
  {
   "cell_type": "markdown",
   "metadata": {},
   "source": [
    "### Conclusion ~ Different operations on Matrices have been performed such as - \n",
    "#### - Finding the order of a matrix\n",
    "#### - Performing all the basic operations on matrices (+,-,*,/)\n",
    "#### - Finding the transpose of a matrix\n",
    "#### - Finding the upper and lower triangular parts of a matrix\n",
    "#### - Extracting different elements from a matrix\n",
    "#### - Finding the square root of each element in a matrix\n",
    "#### - Finding row wise summation and column wise summation of a matrix\n",
    "#### - Finding the sum of all elements in a matrix\n",
    "#### - Solving a system of Linear Equations"
   ]
  },
  {
   "cell_type": "markdown",
   "metadata": {},
   "source": [
    "## <center>EIGEN VALUES AND VECTORS</center>"
   ]
  },
  {
   "cell_type": "code",
   "execution_count": 2,
   "metadata": {},
   "outputs": [
    {
     "name": "stdout",
     "output_type": "stream",
     "text": [
      "Enter elements: 1,2,3;4,5,6\n",
      "[[1 2 3]\n",
      " [4 5 6]]\n"
     ]
    }
   ],
   "source": [
    "import numpy as np\n",
    "A = np.mat(input('Enter elements: '))\n",
    "print(A)"
   ]
  },
  {
   "cell_type": "code",
   "execution_count": 1,
   "metadata": {},
   "outputs": [
    {
     "name": "stdout",
     "output_type": "stream",
     "text": [
      "(array([ 2.,  3.]), array([[-0.5547002 , -0.4472136 ],\n",
      "       [-0.83205029, -0.89442719]]))\n"
     ]
    }
   ],
   "source": [
    "import numpy as np\n",
    "A = np.array([[-1,2],[-6,6]])\n",
    "print(np.linalg.eig(A))"
   ]
  },
  {
   "cell_type": "markdown",
   "metadata": {},
   "source": [
    "## Applying eigen value properties on a matrix"
   ]
  },
  {
   "cell_type": "code",
   "execution_count": 3,
   "metadata": {},
   "outputs": [
    {
     "name": "stdout",
     "output_type": "stream",
     "text": [
      "The eigen value properties of a matrix are: \n",
      "_____________________________________________________\n",
      "(i)      λ(1) + λ(2) + λ(3) + ................ λ(n) = sum(trace(A))\n",
      "(ii)     λ(1) * λ(2) * λ(3) * ................ λ(n) = det(A)\n",
      "(iii)    A = λ; A^T = λ\n",
      "(iv)     A = λ; A^-1 = λ^-1\n",
      "(v)      Eigen values of an identity matrix is 1\n",
      "(vi)     Idempotent matrix A^2 = A, λ = 0,1 \n",
      "(vii)    Skew symmetric matrix(A^T = -A), λ either be 0 or purely imaginary \n",
      "(viiii)  Orthogonal matrix A^T = A^-1; mod. λ = 1; λ = 1,-1 \n",
      "(ix)     For upper/lower triangular matrix, λ = diag(A) {diagonal elements} \n",
      "(x)      For a real symmetric matrix, λ is always is always real  \n",
      "(xi)     Hermitian Matrix \n",
      "-----------------------------------------------------------------\n",
      "Enter the number of rows: 3\n",
      "Enter the number of columns: 3\n",
      "\n",
      "There are 3 rows and 3 columns\n",
      "Enter the entries rowwise:\n",
      "1\n",
      "0\n",
      "0\n",
      "0\n",
      "1\n",
      "0\n",
      "0\n",
      "0\n",
      "1\n",
      "---------------\n",
      "THE MATRIX IS: \n",
      "---------------\n",
      "\n",
      "1 0 0 \n",
      "\n",
      "0 1 0 \n",
      "\n",
      "0 0 1 \n",
      "-----------------------------------------------------------------\n",
      "(i)\n",
      "The trace of the matrix is: 3\n",
      "The sum of the eigen values of the matrix is: 3.0\n",
      "Therefore the sum of trace of the matrix is equal to the sum of the diagonal elements in a matrix\n",
      "-----------------------------------------------------------------\n",
      "(ii)\n",
      "The product of the eigen values of the matrix is: 1.0\n",
      "The determinant of the matrix is: 1.0\n",
      "Therefore the determinant of the matrix is equal to the product of the eigen values of the matrix\n",
      "-----------------------------------------------------------------\n",
      "The transpose of the matrix is: \n",
      "-----------------------------------------------------------------\n",
      "\n",
      "1 0 0 \n",
      "\n",
      "0 1 0 \n",
      "\n",
      "0 0 1 \n",
      "-----------------------------------------------------------------\n",
      "(iv)\n",
      "The eigen values of the transpose matrix are: \n",
      "[ 1.  1.  1.]\n",
      "Therefore the eigen values of the matrix are equal to the eigen values of the transpose matrix\n",
      "-----------------------------------------------------------------\n",
      "(v)\n",
      "The eigen values of the matrix are: \n",
      "[ 1.  1.  1.]\n",
      "Therefore the Eigen values of an identity matrix is 1\n",
      "-----------------------------------------------------------------\n",
      "(vi)\n",
      "The square of the matrix is: \n",
      "[[1 0 0]\n",
      " [0 1 0]\n",
      " [0 0 1]]\n",
      "Therefore the square of the matrix is equal to the matrix itself and it is an Idempotent matrix which has eigen values 1\n",
      "-----------------------------------------------------------------\n"
     ]
    }
   ],
   "source": [
    "def prop():\n",
    "    print(\"The eigen value properties of a matrix are: \")\n",
    "    print(\"_____________________________________________________\")\n",
    "    print(\"(i)      λ(1) + λ(2) + λ(3) + ................ λ(n) = sum(trace(A))\")\n",
    "    print(\"(ii)     λ(1) * λ(2) * λ(3) * ................ λ(n) = det(A)\")\n",
    "    print(\"(iii)    A = λ; A^T = λ\") \n",
    "    print(\"(iv)     A = λ; A^-1 = λ^-1\")\n",
    "    print(\"(v)      Eigen values of an identity matrix is 1\")\n",
    "    print(\"(vi)     Idempotent matrix A^2 = A, λ = 0,1 \") \n",
    "    print(\"(vii)    Skew symmetric matrix(A^T = -A), λ either be 0 or purely imaginary \") \n",
    "    print(\"(viiii)  Orthogonal matrix A^T = A^-1; mod. λ = 1; λ = 1,-1 \")\n",
    "    print(\"(ix)     For upper/lower triangular matrix, λ = diag(A) {diagonal elements} \")\n",
    "    print(\"(x)      For a real symmetric matrix, λ is always is always real  \")\n",
    "    print(\"(xi)     Hermitian Matrix \")\n",
    "\n",
    "prop()\n",
    "\n",
    "import numpy as np\n",
    "\n",
    "def inp(m,n):\n",
    "    print()\n",
    "    print('There are {0} rows and {1} columns'.format(m,n))\n",
    "    # Initializing matrix \n",
    "    matrix = [] \n",
    "    tr = []\n",
    "    mat_trans = []\n",
    "    print(\"Enter the entries rowwise:\") \n",
    "    \n",
    "    # For user input \n",
    "    for i in range(int(m)): # A for loop for row entries \n",
    "        a = []\n",
    "        for j in range(int(n)): # A for loop for column entries \n",
    "            a.append(int(input()))\n",
    "        matrix.append(a) \n",
    "\n",
    "    # For printing the matrix \n",
    "    print('---------------')\n",
    "    print(\"THE MATRIX IS: \")\n",
    "    print('---------------')\n",
    "    for i in range(int(m)):\n",
    "        print()\n",
    "        for j in range(int(n)): \n",
    "            print(matrix[i][j], end = \" \")\n",
    "            if(i==j):\n",
    "                tr.append(matrix[i][j])\n",
    "        print()\n",
    "        \n",
    "    # For finding transpose \n",
    "    for i in range(int(m)):\n",
    "        b = []\n",
    "        for j in range(int(n)):\n",
    "            b.append(matrix[j][i])\n",
    "        mat_trans.append(b)\n",
    "        \n",
    "    \n",
    "    print('-----------------------------------------------------------------')\n",
    "    print('(i)')\n",
    "    print(\"The trace of the matrix is: {}\".format(sum(tr)))\n",
    "    print(\"The sum of the eigen values of the matrix is: {}\".format(sum(np.linalg.eigvals(matrix))))\n",
    "    print(\"Therefore the sum of trace of the matrix is equal to the sum of the diagonal elements in a matrix\")\n",
    "    print('-----------------------------------------------------------------')\n",
    "    print('(ii)')\n",
    "    print(\"The product of the eigen values of the matrix is: {}\".format(np.prod(np.linalg.eigvals(matrix))))\n",
    "    print('The determinant of the matrix is: {}'.format(np.linalg.det(matrix)))\n",
    "    print('Therefore the determinant of the matrix is equal to the product of the eigen values of the matrix')\n",
    "    print('-----------------------------------------------------------------')\n",
    "    print('The transpose of the matrix is: ')\n",
    "    print('-----------------------------------------------------------------')\n",
    "    for i in range(int(m)):\n",
    "        print()\n",
    "        for j in range(int(n)): \n",
    "            print(mat_trans[i][j], end = \" \")\n",
    "        print()\n",
    "    print('-----------------------------------------------------------------')\n",
    "    print('(iv)')\n",
    "    print('The eigen values of the transpose matrix are: ')\n",
    "    print(np.linalg.eigvals(mat_trans))\n",
    "    print('Therefore the eigen values of the matrix are equal to the eigen values of the transpose matrix')\n",
    "    print('-----------------------------------------------------------------')\n",
    "    print('(v)')\n",
    "    print('The eigen values of the matrix are: ')\n",
    "    print(np.linalg.eigvals(matrix))\n",
    "    print('Therefore the Eigen values of an identity matrix is 1')\n",
    "    print('-----------------------------------------------------------------')\n",
    "    print('(vi)')\n",
    "    print('The square of the matrix is: \\n{}'.format(np.square(matrix)))\n",
    "    print('Therefore the square of the matrix is equal to the matrix itself and it is an Idempotent matrix which has eigen values 1')\n",
    "    print('-----------------------------------------------------------------')\n",
    "    \n",
    "print('-----------------------------------------------------------------')\n",
    "a = input('Enter the number of rows: ')\n",
    "b = input('Enter the number of columns: ')\n",
    "inp(a,b)"
   ]
  },
  {
   "cell_type": "markdown",
   "metadata": {},
   "source": [
    "## From this, the eigen value properties of a matrix are proved "
   ]
  },
  {
   "cell_type": "markdown",
   "metadata": {
    "collapsed": true
   },
   "source": [
    "## Diagonalise the given matrix"
   ]
  },
  {
   "cell_type": "code",
   "execution_count": 15,
   "metadata": {},
   "outputs": [
    {
     "name": "stdout",
     "output_type": "stream",
     "text": [
      "Program to diagonalise an input matrix\n",
      "--------------------------------------\n",
      "Enter the number of rows: 3\n",
      "Enter the number of columns: 3\n",
      "There are 3 rows and 3 columns\n",
      "Enter the entries rowwise:\n",
      "1\n",
      "2\n",
      "3\n",
      "4\n",
      "5\n",
      "6\n",
      "7\n",
      "8\n",
      "9\n",
      "---------------\n",
      "THE MATRIX IS: \n",
      "---------------\n",
      "\n",
      "1 2 3 \n",
      "\n",
      "4 5 6 \n",
      "\n",
      "7 8 9 \n",
      "--------------------------------------\n",
      "The eigen values are \n",
      "[ 16.  -1.  -0.]\n",
      "--------------------------------------\n",
      "The eigen vectors are \n",
      "[[-0. -1.  0.]\n",
      " [-1. -0. -1.]\n",
      " [-1.  1.  0.]]\n",
      "--------------------------------------\n",
      "The diagonalised matrix is: \n",
      "[[ 16.   0.   0.]\n",
      " [  0.  -1.   0.]\n",
      " [  0.   0.   0.]]\n",
      "--------------------------------------\n",
      "Checking whether both diagonalised matrices are equal\n",
      "--------------------------------------\n",
      "[[ 16.   0.   0.]\n",
      " [  0.  -1.   0.]\n",
      " [  0.   0.  -0.]]\n",
      "--------------------------------------\n",
      "It is a diagonalised matrix\n"
     ]
    }
   ],
   "source": [
    "### import numpy as np\n",
    "\n",
    "def diagonal():\n",
    "    print(\"Program to diagonalise an input matrix\")\n",
    "    print(\"--------------------------------------\")\n",
    "    m = input('Enter the number of rows: ')\n",
    "    n = input('Enter the number of columns: ')\n",
    "    print('There are {0} rows and {1} columns'.format(m,n))\n",
    "    # Initializing matrix \n",
    "    matrix = [] \n",
    "    tr = []\n",
    "    d = []\n",
    "    print(\"Enter the entries rowwise:\") \n",
    "    \n",
    "    # For user input \n",
    "    for i in range(int(m)): # A for loop for row entries \n",
    "        a = []\n",
    "        for j in range(int(n)): # A for loop for column entries \n",
    "            a.append(int(input()))\n",
    "        matrix.append(a) \n",
    "        \n",
    "    # For printing the matrix \n",
    "    print('---------------')\n",
    "    print(\"THE MATRIX IS: \")\n",
    "    print('---------------')\n",
    "    for i in range(int(m)):\n",
    "        print()\n",
    "        for j in range(int(n)): \n",
    "            print(matrix[i][j], end = \" \")\n",
    "            if(i==j):\n",
    "                tr.append(matrix[i][j])\n",
    "        print()\n",
    "        \n",
    "    print(\"--------------------------------------\")\n",
    "    ev, evec = np.linalg.eig(matrix)\n",
    "    print(\"The eigen values are \\n{}\".format(np.around(ev)))\n",
    "    print(\"--------------------------------------\")\n",
    "    print(\"The eigen vectors are \\n{}\".format(np.around(evec)))\n",
    "    print(\"--------------------------------------\")\n",
    "    P = evec\n",
    "    d = np.around(np.dot(np.linalg.inv(P),np.dot(matrix,P)))\n",
    "    d = np.where(d==-0,0,d)\n",
    "    print(\"The diagonalised matrix is: \\n{}\".format(np.around(d)))\n",
    "    print(\"--------------------------------------\")\n",
    "    print(\"Checking whether both diagonalised matrices are equal\")\n",
    "    print(\"--------------------------------------\")\n",
    "    Diag = np.around(np.diag(ev))\n",
    "    print(Diag)\n",
    "    print(\"--------------------------------------\")\n",
    "    if(np.array_equal(d,Diag)):\n",
    "        print(\"It is a diagonalised matrix\")\n",
    "    else:\n",
    "        print(\"It is not a diagonalised matrix\")\n",
    "    \n",
    "diagonal()"
   ]
  },
  {
   "cell_type": "markdown",
   "metadata": {},
   "source": [
    "## Conclusion ~ Thus Caley Hamilton Theorem is proved since both the diagonalised matrices are equal "
   ]
  },
  {
   "cell_type": "markdown",
   "metadata": {
    "collapsed": true
   },
   "source": [
    "## Caley Hamilton Theorem"
   ]
  },
  {
   "cell_type": "code",
   "execution_count": 19,
   "metadata": {},
   "outputs": [
    {
     "name": "stdout",
     "output_type": "stream",
     "text": [
      "Program to diagonalise an input matrix\n",
      "--------------------------------------\n",
      "Enter the number of rows: 3\n",
      "Enter the number of columns: 3\n",
      "There are 3 rows and 3 columns\n",
      "Enter the entries rowwise:\n",
      "1\n",
      "2\n",
      "3\n",
      "4\n",
      "5\n",
      "6\n",
      "7\n",
      "8\n",
      "9\n",
      "---------------\n",
      "THE MATRIX IS: \n",
      "---------------\n",
      "\n",
      "1 2 3 \n",
      "\n",
      "4 5 6 \n",
      "\n",
      "7 8 9 \n",
      "--------------------------------------\n",
      "The characterisic eqn of the matrix is\n",
      "--------------------------------------\n",
      "--------------------------------------\n",
      "The characterisic polynomial of the matrix is:\n",
      "--------------------------------------\n",
      "   3      2\n",
      "1 x - 15 x - 18 x - 1.757e-14\n"
     ]
    },
    {
     "ename": "TypeError",
     "evalue": "unsupported operand type(s) for ** or pow(): 'list' and 'int'",
     "output_type": "error",
     "traceback": [
      "\u001b[1;31m---------------------------------------------------------------------------\u001b[0m",
      "\u001b[1;31mTypeError\u001b[0m                                 Traceback (most recent call last)",
      "\u001b[1;32m<ipython-input-19-2c76112cc2dc>\u001b[0m in \u001b[0;36m<module>\u001b[1;34m()\u001b[0m\n\u001b[0;32m     46\u001b[0m     \u001b[0mprint\u001b[0m\u001b[1;33m(\u001b[0m\u001b[1;34m\"Since the sum of the above statement is zero matrix, thus caley hamilton theorem is verified\"\u001b[0m\u001b[1;33m,\u001b[0m\u001b[0msum\u001b[0m\u001b[1;33m)\u001b[0m\u001b[1;33m\u001b[0m\u001b[1;33m\u001b[0m\u001b[0m\n\u001b[0;32m     47\u001b[0m \u001b[1;33m\u001b[0m\u001b[0m\n\u001b[1;32m---> 48\u001b[1;33m \u001b[0mdiag\u001b[0m\u001b[1;33m(\u001b[0m\u001b[1;33m)\u001b[0m\u001b[1;33m\u001b[0m\u001b[1;33m\u001b[0m\u001b[0m\n\u001b[0m",
      "\u001b[1;32m<ipython-input-19-2c76112cc2dc>\u001b[0m in \u001b[0;36mdiag\u001b[1;34m()\u001b[0m\n\u001b[0;32m     43\u001b[0m     \u001b[0mprint\u001b[0m\u001b[1;33m(\u001b[0m\u001b[0mcheq_matrix\u001b[0m\u001b[1;33m)\u001b[0m\u001b[1;33m\u001b[0m\u001b[1;33m\u001b[0m\u001b[0m\n\u001b[0;32m     44\u001b[0m     \u001b[1;32mfor\u001b[0m \u001b[0mi\u001b[0m \u001b[1;32min\u001b[0m \u001b[0mrange\u001b[0m\u001b[1;33m(\u001b[0m\u001b[1;36m0\u001b[0m\u001b[1;33m,\u001b[0m\u001b[0mlen\u001b[0m\u001b[1;33m(\u001b[0m\u001b[0mcheq_matrix\u001b[0m\u001b[1;33m)\u001b[0m\u001b[1;33m)\u001b[0m\u001b[1;33m:\u001b[0m\u001b[1;33m\u001b[0m\u001b[1;33m\u001b[0m\u001b[0m\n\u001b[1;32m---> 45\u001b[1;33m         \u001b[0msum\u001b[0m\u001b[1;33m=\u001b[0m\u001b[0msum\u001b[0m\u001b[1;33m+\u001b[0m\u001b[0mround\u001b[0m\u001b[1;33m(\u001b[0m\u001b[0mcheq_matrix\u001b[0m\u001b[1;33m[\u001b[0m\u001b[0mlen\u001b[0m\u001b[1;33m(\u001b[0m\u001b[0mcheq_matrix\u001b[0m\u001b[1;33m)\u001b[0m\u001b[1;33m-\u001b[0m\u001b[1;33m(\u001b[0m\u001b[0mlen\u001b[0m\u001b[1;33m(\u001b[0m\u001b[0mcheq_matrix\u001b[0m\u001b[1;33m)\u001b[0m\u001b[1;33m+\u001b[0m\u001b[1;33m(\u001b[0m\u001b[0mi\u001b[0m\u001b[1;33m+\u001b[0m\u001b[1;36m1\u001b[0m\u001b[1;33m)\u001b[0m\u001b[1;33m)\u001b[0m\u001b[1;33m]\u001b[0m\u001b[1;33m)\u001b[0m\u001b[1;33m*\u001b[0m\u001b[1;33m(\u001b[0m\u001b[0mmatrix\u001b[0m\u001b[1;33m**\u001b[0m\u001b[0mi\u001b[0m\u001b[1;33m)\u001b[0m\u001b[1;33m\u001b[0m\u001b[1;33m\u001b[0m\u001b[0m\n\u001b[0m\u001b[0;32m     46\u001b[0m     \u001b[0mprint\u001b[0m\u001b[1;33m(\u001b[0m\u001b[1;34m\"Since the sum of the above statement is zero matrix, thus caley hamilton theorem is verified\"\u001b[0m\u001b[1;33m,\u001b[0m\u001b[0msum\u001b[0m\u001b[1;33m)\u001b[0m\u001b[1;33m\u001b[0m\u001b[1;33m\u001b[0m\u001b[0m\n\u001b[0;32m     47\u001b[0m \u001b[1;33m\u001b[0m\u001b[0m\n",
      "\u001b[1;31mTypeError\u001b[0m: unsupported operand type(s) for ** or pow(): 'list' and 'int'"
     ]
    }
   ],
   "source": [
    "import numpy as np\n",
    "\n",
    "def diag():\n",
    "    print(\"Program to diagonalise an input matrix\")\n",
    "    print(\"--------------------------------------\")\n",
    "    m = input('Enter the number of rows: ')\n",
    "    n = input('Enter the number of columns: ')\n",
    "    print('There are {0} rows and {1} columns'.format(m,n))\n",
    "    # Initializing matrix \n",
    "    matrix = [] \n",
    "    tr = []\n",
    "    d = []\n",
    "    print(\"Enter the entries rowwise:\") \n",
    "    \n",
    "    # For user input \n",
    "    for i in range(int(m)): # A for loop for row entries \n",
    "        a = []\n",
    "        for j in range(int(n)): # A for loop for column entries \n",
    "            a.append(int(input()))\n",
    "        matrix.append(a) \n",
    "        \n",
    "    # For printing the matrix \n",
    "    print('---------------')\n",
    "    print(\"THE MATRIX IS: \")\n",
    "    print('---------------')\n",
    "    for i in range(int(m)):\n",
    "        print()\n",
    "        for j in range(int(n)): \n",
    "            print(matrix[i][j], end = \" \")\n",
    "            if(i==j):\n",
    "                tr.append(matrix[i][j])\n",
    "        print()\n",
    "        \n",
    "    sum = np.zeros((3,3))\n",
    "    print(\"--------------------------------------\")\n",
    "    print(\"The characterisic eqn of the matrix is\")\n",
    "    print(\"--------------------------------------\")\n",
    "    ce_matrix = np.poly(matrix)\n",
    "    cheq_matrix = np.poly1d(ce_matrix)\n",
    "    print(\"--------------------------------------\")\n",
    "    print(\"The characterisic polynomial of the matrix is:\")\n",
    "    print(\"--------------------------------------\")\n",
    "    print(cheq_matrix)\n",
    "    for i in range(0,len(cheq_matrix)):\n",
    "        sum=sum+round(cheq_matrix[len(cheq_matrix)-(len(cheq_matrix)+(i+1))])*(matrix**i)\n",
    "    print(\"Since the sum of the above statement is zero matrix, thus caley hamilton theorem is verified\",sum)\n",
    "    \n",
    "diag()"
   ]
  },
  {
   "cell_type": "markdown",
   "metadata": {},
   "source": [
    "## Thus, we can find the characteristic eqn of a matrix"
   ]
  },
  {
   "cell_type": "markdown",
   "metadata": {},
   "source": [
    "# <center> Revision </center>"
   ]
  },
  {
   "cell_type": "markdown",
   "metadata": {},
   "source": [
    "## 1) WAP to check if the entered no. is prime or not (range 1 to 100)\n",
    "## 2) Solve the system of linear equations and verify it using Cramers rule:\n",
    "### x - y - 2z = 5\n",
    "### x - 2y + z = -2\n",
    "### -2x + y + z = 4\n",
    "## 3) WAP to check if the entered matrix is skew symmetric. \n",
    "## 4) Find eigen values and eigen vectors of ~ \n",
    "### [6, -2, 2]\n",
    "### [ 2, 3, -1]\n",
    "### [2, -1, 3] \n",
    "## Print the corresponding eigen vector with it's eigen values. \n",
    "## 5) If A ~ \n",
    "### [ 1      2      9      12]\n",
    "### [ 4      4      8      14]\n",
    "### [ 8      6      7      15]\n",
    "### [ 9      7     13     18]\n",
    "## Extract ~ \n",
    "### a)\n",
    "###     [1      2]\n",
    "###     [8      6]\n",
    "### b) \n",
    "###      [4      4]\n",
    "###      [8     6]\n",
    "###      [9     7]\n",
    "### c)  \n",
    "###      [2     12]\n",
    "###      [6     15]\n",
    "### d)  \n",
    "###       [8     14]\n",
    "###       [7     15]\n",
    "### e)  \n",
    "###      [9      12]\n",
    "###      [8      14]\n",
    "###      [7      15]\n",
    "###      [13    18]"
   ]
  },
  {
   "cell_type": "markdown",
   "metadata": {},
   "source": [
    "# 1"
   ]
  },
  {
   "cell_type": "code",
   "execution_count": 21,
   "metadata": {},
   "outputs": [
    {
     "name": "stdout",
     "output_type": "stream",
     "text": [
      "Enter a prime number: 11\n",
      "------------------------------------\n",
      "The number entered is 11\n",
      "------------------------------------\n",
      "11 is a prime number\n"
     ]
    }
   ],
   "source": [
    "def prime(n):\n",
    "    print(\"------------------------------------\")\n",
    "    print(\"The number entered is {}\".format(n))\n",
    "    print(\"------------------------------------\")\n",
    "    for i in range(2,n):\n",
    "        if(n%i == 0):\n",
    "            print(\"{} is not a prime number\".format(n))\n",
    "            break\n",
    "        else:\n",
    "            print(\"{} is a prime number\".format(n))\n",
    "            break\n",
    "                \n",
    "a = input(\"Enter a prime number: \")\n",
    "prime(int(a))"
   ]
  },
  {
   "cell_type": "markdown",
   "metadata": {},
   "source": [
    "## Conclusion ~ Thus proved that it is possible to check whether a number is prime or not"
   ]
  },
  {
   "cell_type": "markdown",
   "metadata": {},
   "source": [
    "# 2"
   ]
  },
  {
   "cell_type": "code",
   "execution_count": 7,
   "metadata": {},
   "outputs": [
    {
     "name": "stdout",
     "output_type": "stream",
     "text": [
      "Enter numbers: 1,-1,-2;1,-2,1;-2,1,1\n",
      "[[ 1 -1 -2]\n",
      " [ 1 -2  1]\n",
      " [-2  1  1]]\n",
      "Enter value matrix: 5;-2;4\n",
      "[[ 5]\n",
      " [-2]\n",
      " [ 4]]\n"
     ]
    }
   ],
   "source": [
    "# 1,-1,-2;1,-2,1;-2,1,1\n",
    "A = np.mat(input(\"Enter numbers: \"))\n",
    "print(A)\n",
    "# 5;-2;4\n",
    "B = np.mat(input(\"Enter value matrix: \"))\n",
    "print(B)"
   ]
  },
  {
   "cell_type": "markdown",
   "metadata": {},
   "source": [
    "# 3"
   ]
  },
  {
   "cell_type": "code",
   "execution_count": 1,
   "metadata": {},
   "outputs": [
    {
     "name": "stdout",
     "output_type": "stream",
     "text": [
      "Enter numbers: 0,-6,4;-6,0,7;4,7,0\n",
      "[[ 0 -6  4]\n",
      " [-6  0  7]\n",
      " [ 4  7  0]]\n",
      "[[ 0 -6  4]\n",
      " [-6  0  7]\n",
      " [ 4  7  0]]\n"
     ]
    },
    {
     "ename": "TypeError",
     "evalue": "'tuple' object cannot be interpreted as an integer",
     "output_type": "error",
     "traceback": [
      "\u001b[1;31m---------------------------------------------------------------------------\u001b[0m",
      "\u001b[1;31mTypeError\u001b[0m                                 Traceback (most recent call last)",
      "\u001b[1;32m<ipython-input-1-2341ff038e9c>\u001b[0m in \u001b[0;36m<module>\u001b[1;34m()\u001b[0m\n\u001b[0;32m      4\u001b[0m \u001b[0mX_trans\u001b[0m \u001b[1;33m=\u001b[0m \u001b[0mnp\u001b[0m\u001b[1;33m.\u001b[0m\u001b[0mtranspose\u001b[0m\u001b[1;33m(\u001b[0m\u001b[0mX\u001b[0m\u001b[1;33m)\u001b[0m\u001b[1;33m\u001b[0m\u001b[1;33m\u001b[0m\u001b[0m\n\u001b[0;32m      5\u001b[0m \u001b[0mprint\u001b[0m\u001b[1;33m(\u001b[0m\u001b[0mX_trans\u001b[0m\u001b[1;33m)\u001b[0m\u001b[1;33m\u001b[0m\u001b[1;33m\u001b[0m\u001b[0m\n\u001b[1;32m----> 6\u001b[1;33m \u001b[1;32mfor\u001b[0m \u001b[0mi\u001b[0m \u001b[1;32min\u001b[0m \u001b[0mrange\u001b[0m\u001b[1;33m(\u001b[0m\u001b[1;36m0\u001b[0m\u001b[1;33m,\u001b[0m\u001b[0mX\u001b[0m\u001b[1;33m.\u001b[0m\u001b[0mshape\u001b[0m\u001b[1;33m)\u001b[0m\u001b[1;33m:\u001b[0m\u001b[1;33m\u001b[0m\u001b[1;33m\u001b[0m\u001b[0m\n\u001b[0m\u001b[0;32m      7\u001b[0m     \u001b[1;32mfor\u001b[0m \u001b[0mj\u001b[0m \u001b[1;32min\u001b[0m \u001b[0mrange\u001b[0m\u001b[1;33m(\u001b[0m\u001b[1;36m0\u001b[0m\u001b[1;33m,\u001b[0m\u001b[0mX\u001b[0m\u001b[1;33m.\u001b[0m\u001b[0mshape\u001b[0m\u001b[1;33m)\u001b[0m\u001b[1;33m:\u001b[0m\u001b[1;33m\u001b[0m\u001b[1;33m\u001b[0m\u001b[0m\n\u001b[0;32m      8\u001b[0m         \u001b[1;32mif\u001b[0m\u001b[1;33m(\u001b[0m\u001b[0mX\u001b[0m\u001b[1;33m[\u001b[0m\u001b[0mi\u001b[0m\u001b[1;33m]\u001b[0m\u001b[1;33m[\u001b[0m\u001b[0mj\u001b[0m\u001b[1;33m]\u001b[0m\u001b[1;33m==\u001b[0m\u001b[1;33m-\u001b[0m\u001b[0mX_trans\u001b[0m\u001b[1;33m[\u001b[0m\u001b[0mi\u001b[0m\u001b[1;33m]\u001b[0m\u001b[1;33m[\u001b[0m\u001b[0mj\u001b[0m\u001b[1;33m]\u001b[0m\u001b[1;33m)\u001b[0m\u001b[1;33m:\u001b[0m\u001b[1;33m\u001b[0m\u001b[1;33m\u001b[0m\u001b[0m\n",
      "\u001b[1;31mTypeError\u001b[0m: 'tuple' object cannot be interpreted as an integer"
     ]
    }
   ],
   "source": [
    "import numpy as np\n",
    "X = np.mat(input(\"Enter numbers: \"))\n",
    "print(X)\n",
    "X_trans = np.transpose(X)\n",
    "print(X_trans)\n",
    "for i in range(0,len(X)):\n",
    "    for j in range(0,len(X)):\n",
    "        if(X[i][j]==-X_trans[i][j]):\n",
    "            print(\"The matrix is skew symmetric\")\n",
    "            break\n",
    "        else:\n",
    "            print(\"The matrix is not skew symmetric\")\n",
    "#0,-6,4;-6,0,7;4,7,0"
   ]
  },
  {
   "cell_type": "markdown",
   "metadata": {},
   "source": [
    "# 4"
   ]
  },
  {
   "cell_type": "code",
   "execution_count": 14,
   "metadata": {},
   "outputs": [
    {
     "name": "stdout",
     "output_type": "stream",
     "text": [
      "------------------------------------\n",
      "Enter the matrix: 1,2,3;4,5,6;7,8,9\n",
      "[[1 2 3]\n",
      " [4 5 6]\n",
      " [7 8 9]]\n",
      "------------------------------------\n",
      "The eigen values of the matrix are:\n",
      "[ 16.  -1.  -0.]\n",
      "------------------------------------\n",
      "The eigen vectors of the matrix are: \n",
      "[[-0. -1.  0.]\n",
      " [-1. -0. -1.]\n",
      " [-1.  1.  0.]]\n"
     ]
    }
   ],
   "source": [
    "print(\"------------------------------------\")\n",
    "A = np.mat(input(\"Enter the matrix: \"))\n",
    "print(A)\n",
    "ev, evec = np.linalg.eig(A)\n",
    "print(\"------------------------------------\")\n",
    "print(\"The eigen values of the matrix are:\")\n",
    "print(ev.round())\n",
    "print(\"------------------------------------\")\n",
    "print(\"The eigen vectors of the matrix are: \")\n",
    "print(evec.round())\n",
    "#1,2,3;4,5,6;7,8,9"
   ]
  },
  {
   "cell_type": "markdown",
   "metadata": {},
   "source": [
    "## Conclusion ~ The above results are the eigen vectors and values of the given matrix"
   ]
  },
  {
   "cell_type": "markdown",
   "metadata": {},
   "source": [
    "# 5"
   ]
  },
  {
   "cell_type": "code",
   "execution_count": 25,
   "metadata": {},
   "outputs": [
    {
     "name": "stdout",
     "output_type": "stream",
     "text": [
      "Enter the matrix: 1,2,9,12;4,4,8,14;8,6,7,15;9,7,13,18\n",
      "[[ 1  2  9 12]\n",
      " [ 4  4  8 14]\n",
      " [ 8  6  7 15]\n",
      " [ 9  7 13 18]]\n",
      "[[1 2]\n",
      " [8 6]]\n",
      "[[4 4]\n",
      " [8 6]\n",
      " [9 7]]\n",
      "[[ 2 12]\n",
      " [ 6 15]]\n",
      "[[ 8 14]\n",
      " [ 7 15]]\n",
      "[[ 9 12]\n",
      " [ 8 14]\n",
      " [ 7 15]\n",
      " [13 18]]\n"
     ]
    }
   ],
   "source": [
    "# 1,2,9,12;4,4,8,14;8,6,7,15;9,7,13,18\n",
    "Y = np.mat(input(\"Enter the matrix: \"))\n",
    "print(Y)\n",
    "print(Y[0::2,0:2])\n",
    "print(Y[1:,:2])\n",
    "print(Y[0::2,1::2]) # 0 to end, skipping 1\n",
    "print(Y[1:3,2:5])\n",
    "print(Y[:,2:])"
   ]
  },
  {
   "cell_type": "markdown",
   "metadata": {},
   "source": [
    "## Conclusion ~ These are the matrices which needed to be sliced from the original matrix"
   ]
  },
  {
   "cell_type": "markdown",
   "metadata": {},
   "source": [
    "# <center>LAB 4</center>"
   ]
  },
  {
   "cell_type": "markdown",
   "metadata": {
    "collapsed": true
   },
   "source": [
    "## <center>Linear Combination of vectors</center>"
   ]
  },
  {
   "cell_type": "code",
   "execution_count": 1,
   "metadata": {
    "collapsed": true
   },
   "outputs": [],
   "source": [
    "# from numpy import *\n",
    "# import numpy as np\n",
    "# import numpy"
   ]
  },
  {
   "cell_type": "markdown",
   "metadata": {},
   "source": [
    "## Aim ~ To check if vector can be expressed in the form of 3 other vectors"
   ]
  },
  {
   "cell_type": "code",
   "execution_count": 1,
   "metadata": {},
   "outputs": [
    {
     "name": "stdout",
     "output_type": "stream",
     "text": [
      "Enter the elements of Vector  1\n",
      "Enter value1\n",
      "Enter value2\n",
      "Enter value3\n",
      "Enter the elements of Vector  2\n",
      "Enter value1\n",
      "Enter value1\n",
      "Enter value3\n",
      "Enter the elements of Vector  3\n",
      "Enter value1\n",
      "Enter value4\n",
      "Enter value8\n",
      "Enter the solution Vector\n",
      "Enter value14\n",
      "Enter value20\n",
      "Enter value40\n",
      "\n",
      "a1 =  [ 7.2]\n",
      "\n",
      "a2 =  [ 7.2]\n",
      "\n",
      "a3 =  [-0.4]\n"
     ]
    }
   ],
   "source": [
    "import numpy as np \n",
    "from sympy import * \n",
    "a = np.zeros((3,3)) \n",
    "for i in range(1,4): \n",
    "    print(\"Enter the elements of Vector \", i) \n",
    "    for j in range(1,4): \n",
    "        a[j-1][i-1]=int(input(\"Enter value\")) \n",
    "        \n",
    "A=np.matrix(a) \n",
    "b = np.zeros((3,1)) \n",
    "print(\"Enter the solution Vector\") \n",
    "for i in range(1): \n",
    "    for j in range(1,4): \n",
    "        b[j-1][i-1]=int(input(\"Enter value\")) \n",
    "        \n",
    "soln = np.linalg.solve(A,b) \n",
    "print (\"\\na1 = \",soln[0]) \n",
    "print (\"\\na2 = \",soln[1]) \n",
    "print (\"\\na3 = \",soln[2]) "
   ]
  },
  {
   "cell_type": "code",
   "execution_count": 2,
   "metadata": {},
   "outputs": [
    {
     "name": "stdout",
     "output_type": "stream",
     "text": [
      "Enter the elements of Vector  1\n",
      "Enter value1\n",
      "Enter value2\n",
      "Enter value4\n",
      "Enter the elements of Vector  2\n",
      "Enter value1\n",
      "Enter value1\n",
      "Enter value3\n",
      "Enter the elements of Vector  3\n",
      "Enter value1\n",
      "Enter value4\n",
      "Enter value8\n",
      "Enter the solution Vector\n",
      "Enter value14\n",
      "Enter the scalars\n",
      "Enter value20\n",
      "Enter the scalars\n",
      "Enter value40\n",
      "Enter the scalars\n",
      "Enter value14\n",
      "Enter value14\n",
      "Enter value14\n",
      "Solution is not satisfied\n"
     ]
    }
   ],
   "source": [
    "a = np.zeros((3,3)) \n",
    "for i in range(1,4):\n",
    "    print(\"Enter the elements of Vector \", i) \n",
    "    for j in range(1,4):\n",
    "        a[j-1][i-1]=int(input(\"Enter value\")) \n",
    "        \n",
    "A=np.matrix(a) \n",
    "b = np.zeros((3,1)) \n",
    "print(\"Enter the solution Vector\") \n",
    "\n",
    "for i in range(1): \n",
    "    for j in range(1,4): \n",
    "        b[j-1][i-1]=int(input(\"Enter value\")) \n",
    "        c = np.zeros((3,1)) \n",
    "        print(\"Enter the scalars\") \n",
    "        \n",
    "for i in range(1): \n",
    "    for j in range(1,4): \n",
    "        c[j-1][i-1]=int(input(\"Enter value\")) \n",
    "        soln = np.linalg.solve(A,b) \n",
    "        \n",
    "if(np.allclose(soln,c)): \n",
    "    print(\"Solution is satisfied\") \n",
    "else:\n",
    "    print(\"Solution is not satisfied\") "
   ]
  },
  {
   "cell_type": "markdown",
   "metadata": {},
   "source": [
    "## Conclusion ~ The solution is not satisfied"
   ]
  },
  {
   "cell_type": "markdown",
   "metadata": {},
   "source": [
    "# <center> Linear Transformations </center>"
   ]
  },
  {
   "cell_type": "markdown",
   "metadata": {
    "collapsed": true
   },
   "source": [
    "## 1. Verify if a given transformation is linear or not with given vectors\n",
    "## 2. To visualise the transformation\n",
    "## 3. Find rank and nullity of a transformation (Kernel, range and nullity) "
   ]
  },
  {
   "cell_type": "markdown",
   "metadata": {},
   "source": [
    "## 1. "
   ]
  },
  {
   "cell_type": "markdown",
   "metadata": {},
   "source": [
    "## L.H.S ~ \n",
    "### $T(v_{1} + v_{2}) = T((1,2) + (2,1))$ \n",
    "###                                       $ = T((1+2),(2+1)) = T(3,3) = (3,3,6)$ "
   ]
  },
  {
   "cell_type": "markdown",
   "metadata": {},
   "source": [
    "## R.H.S ~\n",
    "### $T(v_{1}) + T(v_{2}) = T(1,2) + T(2,1)$\n",
    "### $= (1,2,4) + (2,1,2)$ \n",
    "### $= (3,3,6)$"
   ]
  },
  {
   "cell_type": "code",
   "execution_count": 2,
   "metadata": {},
   "outputs": [
    {
     "name": "stdout",
     "output_type": "stream",
     "text": [
      "1st Transformation in R.H.S is: (1, 2, 4)\n",
      "2nd Transformation in R.H.S is: (2, 1, 2)\n",
      "R.H.S Result is: (3, 3, 6)\n",
      "1st Transformation in L.H.S is: (3, 3)\n",
      "L.H.S Result is: (3, 3, 6)\n",
      "L.H.S = R.H.S\n"
     ]
    }
   ],
   "source": [
    "v1 = [1,2]\n",
    "v2 = [2,1]\n",
    "res = []\n",
    "\n",
    "def T(x1,y1):\n",
    "    return (v1[0],v1[1],(v1[0]*v1[1])*v1[1])\n",
    "\n",
    "def T2(x2,y2):\n",
    "    return (v2[0],v2[1],(v2[0]*v2[1]))\n",
    "\n",
    "def T3(x1,y1):\n",
    "    return(v1[0]+v1[1],v2[0]+v2[1])\n",
    "\n",
    "l1 = T(1,2)\n",
    "print(\"1st Transformation in R.H.S is: {0}\".format(l1))\n",
    "\n",
    "l2 = T2(2,1)\n",
    "print(\"2nd Transformation in R.H.S is: {0}\".format(l2))\n",
    "\n",
    "for i in range(0,len(l1)):\n",
    "    res.append(l1[i] + l2[i])\n",
    "\n",
    "print(\"R.H.S Result is: {0}\".format(tuple(res)))\n",
    "\n",
    "l3 = T3(1,2)\n",
    "print(\"1st Transformation in L.H.S is: {0}\".format(l3))\n",
    "       \n",
    "def T4(l3):\n",
    "    return(l3[0],l3[1],l3[0]+l3[1])\n",
    "    \n",
    "l4 = T4(l3)\n",
    "print(\"L.H.S Result is: {0}\".format(l4))\n",
    "\n",
    "if(l4==tuple(res)):\n",
    "    print(\"L.H.S = R.H.S\")\n",
    "else:\n",
    "    print(\"L.H.S NOT EQUAL TO R.H.S\")"
   ]
  },
  {
   "cell_type": "markdown",
   "metadata": {},
   "source": [
    "# $T_{1}:R^{3}->R^{3}$\n",
    "## $T_{1}(x,y,z) = (x+y,y+z,z+x)$\n",
    "## $T_{2}(x,y,z) = (2x+y,2y-3x,x-z)$\n",
    "## $T_{3}(x,y,z) = (x+y,x-y,z)$\n",
    "# $T_{2}:R^{2}->R^{3}$\n",
    "## $T_{4}(x,y) = (x,y,2y)$\n",
    "## $T_{5}(x,y) = (x-y,x+y,x)$\n",
    "## $T_{6}(x,y) = (x-y,3y,4x+5y)$\n",
    "# $T_{3}:R^{2}->R^{2}$\n",
    "## $T_{7}(x,y) = (-y,x)$\n",
    "## $T_{8}(x,y) = (x+y,y)$"
   ]
  },
  {
   "cell_type": "code",
   "execution_count": null,
   "metadata": {
    "collapsed": true
   },
   "outputs": [],
   "source": [
    "from sympy import *\n",
    "from numpy import *\n",
    "dimension = int(input(\"Enter the dimension of the 1st domain\"))\n",
    "x_array=[]\n",
    "y_array=[]\n",
    "l=[]\n",
    "for i in range(2):\n",
    "    x = int(input(\"Enter the x value\"))\n",
    "    y = int(input(\"Enter the y value\"))\n",
    "    l.append(trans(x,y))\n",
    "    x_array.append(x)\n",
    "    y_array.append(y)\n",
    "    \n",
    "print(\"x_array\",x_array)\n",
    "print(\"y_array\",y_array)\n",
    "print(\"l array\",l)\n",
    "if sum(l)==sum(trans(sum(x_array),sum(y_array))):\n",
    "    print(sum(l))\n",
    "    print(sum(trans(sum(x_array),sum(y_array))))\n",
    "    print(\"You are correct\")\n",
    "\n",
    "def trans(x,y):\n",
    "    a = x\n",
    "    b = y\n",
    "    c = x+2*y\n",
    "    return a,b,c\n",
    "\n"
   ]
  },
  {
   "cell_type": "markdown",
   "metadata": {},
   "source": [
    "## 2. "
   ]
  },
  {
   "cell_type": "code",
   "execution_count": 24,
   "metadata": {},
   "outputs": [
    {
     "data": {
      "image/png": "[encoded data removed]",
      "text/plain": [
       "<matplotlib.figure.Figure at 0x2a165810208>"
      ]
     },
     "metadata": {
      "needs_background": "light"
     },
     "output_type": "display_data"
    }
   ],
   "source": [
    "import matplotlib.pyplot as plt\n",
    "from pylab import *\n",
    "from mpl_toolkits.mplot3d import Axes3D\n",
    "ax = Axes3D(figure()) \n",
    "\n",
    "def f(x,y,z):\n",
    "    ax.plot(x,y,z)\n",
    "    z = x + y\n",
    "    ax.plot(x,y,z)\n",
    "    ax.set_xlabel('X')\n",
    "    ax.set_ylabel('Y')\n",
    "    ax.set_zlabel('Z')\n",
    "    show()\n",
    "\n",
    "x = linspace(0,2*pi,400)\n",
    "y = linspace(0,2*pi,400)\n",
    "z=0\n",
    "f(x,y,z)"
   ]
  },
  {
   "cell_type": "markdown",
   "metadata": {},
   "source": [
    "## $T(x+y) = T(x) + T(y) $"
   ]
  },
  {
   "cell_type": "markdown",
   "metadata": {},
   "source": [
    "## $T(ax) = aT(x)$"
   ]
  },
  {
   "cell_type": "markdown",
   "metadata": {},
   "source": [
    "## Therefore, the transformation is plotted in 2 -d. "
   ]
  }
 ],
 "metadata": {
  "kernelspec": {
   "display_name": "Python 3",
   "language": "python",
   "name": "python3"
  },
  "language_info": {
   "codemirror_mode": {
    "name": "ipython",
    "version": 3
   },
   "file_extension": ".py",
   "mimetype": "text/x-python",
   "name": "python",
   "nbconvert_exporter": "python",
   "pygments_lexer": "ipython3",
   "version": "3.6.8"
  }
 },
 "nbformat": 4,
 "nbformat_minor": 2
}
