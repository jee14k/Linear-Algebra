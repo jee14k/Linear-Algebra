{
 "cells": [
  {
   "cell_type": "code",
   "execution_count": 13,
   "metadata": {
    "collapsed": true
   },
   "outputs": [],
   "source": [
    "def funct1(a,b):\n",
    "    print(\"Value of a: \",a)\n",
    "    print(\"Value of b: \",b)"
   ]
  },
  {
   "cell_type": "code",
   "execution_count": 14,
   "metadata": {},
   "outputs": [
    {
     "name": "stdout",
     "output_type": "stream",
     "text": [
      "Value of a:  5\n",
      "Value of b:  3\n"
     ]
    }
   ],
   "source": [
    "funct1(5,3)"
   ]
  },
  {
   "cell_type": "code",
   "execution_count": 15,
   "metadata": {
    "collapsed": true
   },
   "outputs": [],
   "source": [
    "def funct2(c,d):\n",
    "    e=c*d\n",
    "    print(\"The product is \",e)"
   ]
  },
  {
   "cell_type": "code",
   "execution_count": 16,
   "metadata": {},
   "outputs": [
    {
     "name": "stdout",
     "output_type": "stream",
     "text": [
      "The product is  10\n"
     ]
    }
   ],
   "source": [
    "funct2(5,2)"
   ]
  },
  {
   "cell_type": "markdown",
   "metadata": {},
   "source": [
    "## WAP to display the grades of a student based on %"
   ]
  },
  {
   "cell_type": "code",
   "execution_count": 40,
   "metadata": {
    "collapsed": true
   },
   "outputs": [],
   "source": [
    "def perc(x):\n",
    "    if(x>90):\n",
    "        print(\"Grade A\")\n",
    "    elif(x>80 and x<90):\n",
    "        print(\"Grade B\")\n",
    "    elif(x>70 and x<80):\n",
    "        print(\"Grade C\")\n",
    "    elif(x>60 and x<70):\n",
    "        print(\"Grade D\")\n",
    "    elif(x>50 and x<60):\n",
    "        print(\"Grade E\")\n",
    "    elif(x>40 and x<50):\n",
    "        print(\"Grade F\")\n",
    "    else:\n",
    "        print(\"FAIL!\")"
   ]
  },
  {
   "cell_type": "code",
   "execution_count": 41,
   "metadata": {},
   "outputs": [
    {
     "name": "stdout",
     "output_type": "stream",
     "text": [
      "Grade C\n"
     ]
    }
   ],
   "source": [
    "perc(76)"
   ]
  },
  {
   "cell_type": "markdown",
   "metadata": {},
   "source": [
    "## WAP to take 3 sides of a triangle and display if it is scalene, iscosceles or equilateral"
   ]
  },
  {
   "cell_type": "code",
   "execution_count": 1,
   "metadata": {},
   "outputs": [
    {
     "name": "stdout",
     "output_type": "stream",
     "text": [
      "Enter 3 sides of a triangle: \n",
      "Enter 1st side: 3\n",
      "Enter 2nd side: 4\n",
      "Enter 3rd side: 3\n",
      "It is an iscosceles triangle\n"
     ]
    }
   ],
   "source": [
    "print(\"Enter 3 sides of a triangle: \")\n",
    "a = input('Enter 1st side: ')\n",
    "b = input('Enter 2nd side: ')\n",
    "c = input('Enter 3rd side: ')\n",
    "if(a!=b and b!=c and a!=c):\n",
    "    print('It is a scalene triangle!')\n",
    "elif(a==b or b==c or a==c):\n",
    "    print('It is an iscosceles triangle')\n",
    "elif(a==b and b==c and a==c):\n",
    "    print('It is an equilateral triangle')"
   ]
  },
  {
   "cell_type": "code",
   "execution_count": null,
   "metadata": {
    "collapsed": true
   },
   "outputs": [],
   "source": []
  }
 ],
 "metadata": {
  "kernelspec": {
   "display_name": "Python 3",
   "language": "python",
   "name": "python3"
  },
  "language_info": {
   "codemirror_mode": {
    "name": "ipython",
    "version": 3
   },
   "file_extension": ".py",
   "mimetype": "text/x-python",
   "name": "python",
   "nbconvert_exporter": "python",
   "pygments_lexer": "ipython3",
   "version": "3.6.8"
  }
 },
 "nbformat": 4,
 "nbformat_minor": 2
}
